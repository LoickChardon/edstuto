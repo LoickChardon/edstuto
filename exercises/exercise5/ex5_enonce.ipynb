{
 "cells": [
  {
   "attachments": {},
   "cell_type": "markdown",
   "metadata": {},
   "source": [
    "# Exercise 5: Biostatistical analysis"
   ]
  },
  {
   "attachments": {},
   "cell_type": "markdown",
   "metadata": {},
   "source": [
    "Our previous survival analyses highlighted that the drugB could have a limited effect on several subgroups of the population (ex1). Therefore, clinicians asked us to dig further the analysis on this medication and try to quantify its effect on death event, along with other clinical and biological features. To that end, we will implement Multiple Linear Regression models, which allow to \"associate\" an event (*e.g.*, death) to a pre-defined set of quantitative and qualitative features."
   ]
  },
  {
   "attachments": {},
   "cell_type": "markdown",
   "metadata": {},
   "source": [
    "A restricted view of the database has been constructed to remove information about the patients prescribed with drugA, so that we can focus on drugB vs control population.\n",
    "Let's assume for this exercise that this view has also been cleaned up by a previous pre-processing work (cf ex 1,2,3). We will focus on merging the different tables available into one that we will use to perform our statistical analyses."
   ]
  },
  {
   "attachments": {},
   "cell_type": "markdown",
   "metadata": {},
   "source": [
    "The following libraries are required to go through this notebook:"
   ]
  },
  {
   "cell_type": "code",
   "execution_count": null,
   "metadata": {},
   "outputs": [],
   "source": [
    "import pandas as pd\n",
    "import numpy as np\n",
    "\n",
    "# For descriptive statistics\n",
    "from scipy.stats import ttest_ind, chi2_contingency\n",
    "\n",
    "# For Logistic Models implementation\n",
    "from statsmodels.formula.api import logit, glm"
   ]
  },
  {
   "attachments": {},
   "cell_type": "markdown",
   "metadata": {},
   "source": [
    "# Table of content"
   ]
  },
  {
   "attachments": {},
   "cell_type": "markdown",
   "metadata": {},
   "source": [
    "1. [Preprocessing](#preprocessing)  \n",
    "    1.1 [Age](#age)  \n",
    "    1.2 [Gender](#gender)  \n",
    "    1.3 [Death](#death)  \n",
    "    1.4 [Comorbidities](#comorb)  \n",
    "    1.5 [Biological values](#bio)  \n",
    "    1.6 [Medication data](#med)\n",
    "2. [Descriptive statistics](#stat)  \n",
    "3. [Statistical analysis](#analysis)  \n",
    "    3.1 [Univariate analaysis](#uni_analysis)  \n",
    "    3.2 [Generalized Linear Model](#multi_analysis)  \n",
    "4. [Takeaways](#takeaways)"
   ]
  },
  {
   "attachments": {},
   "cell_type": "markdown",
   "metadata": {},
   "source": [
    "<a id=\"preprocessing\"></a>\n",
    "# 1. Preprocessing"
   ]
  },
  {
   "attachments": {},
   "cell_type": "markdown",
   "metadata": {},
   "source": [
    "The main objective of this step is to prepare a ready-to-use table for the subsequent statistical analyses. We want to summarize the demographic, clinical and biological information of each patient in the cohort."
   ]
  },
  {
   "attachments": {},
   "cell_type": "markdown",
   "metadata": {},
   "source": [
    "Hence, the output DataFrame will include one row by patient, having the following columns:\n",
    "- age at the time of the visit (*int*)\n",
    "- male (*bool*)\n",
    "- death at the time of the study (*bool*). We assume that the study is realized long enough after the visits so that we can overlook censoring issues.\n",
    "- comorbidities : history of cancer and diabetes (*bool*)\n",
    "- biological profile at the time of admission (*float*). The following items were measured for each patient : bmi, urea, hemoglobin, crp.\n",
    "- drubB taken (*bool*)"
   ]
  },
  {
   "attachments": {},
   "cell_type": "markdown",
   "metadata": {},
   "source": [
    "**NB: For the sake of simplicity, we assume that all the available tables have been pre-processed (deduplication, NLP enhancing , data cleaning, ...) and can be used as is. Moreover, we assume that each patient has one and only visit in the database.**"
   ]
  },
  {
   "attachments": {},
   "cell_type": "markdown",
   "metadata": {},
   "source": [
    "Open the following files using the `pandas.read_pickle()` function : \n",
    "  - *data/df_person.pkl* as `df_person`\n",
    "  - *data/df_visit.pkl* as `df_visit`\n",
    "  - *data/df_condition.pkl* as `df_cond`\n",
    "  - *data/df_med.pkl* as `df_med`\n",
    "  - *data/df_bio.pkl* as `df_bio.pkl`"
   ]
  },
  {
   "cell_type": "code",
   "execution_count": null,
   "metadata": {},
   "outputs": [],
   "source": [
    "# Patients\n",
    "df_person = pd.read_pickle('data/df_person.pkl')\n",
    "# Visits\n",
    "df_visit = pd.read_pickle('data/df_visit.pkl')\n",
    "# Diagnosis (condition)\n",
    "df_condition = pd.read_pickle('data/df_condition.pkl')\n",
    "# Medication\n",
    "df_med = pd.read_pickle('data/df_med.pkl')\n",
    "# Biology\n",
    "df_bio = pd.read_pickle('data/df_bio.pkl')"
   ]
  },
  {
   "attachments": {},
   "cell_type": "markdown",
   "metadata": {},
   "source": [
    "Create the base output dataset (format : `pandas.DataFrame` ; name : `data`)  from the `df_person` table, gathering patient id, gender, birth and death dates."
   ]
  },
  {
   "cell_type": "code",
   "execution_count": null,
   "metadata": {},
   "outputs": [],
   "source": [
    "data = df_person[[\"person_id\", \"gender_source_value\", \"birth_datetime\", \"death_datetime\"]]"
   ]
  },
  {
   "cell_type": "code",
   "execution_count": null,
   "metadata": {},
   "outputs": [],
   "source": [
    "data.head()"
   ]
  },
  {
   "attachments": {},
   "cell_type": "markdown",
   "metadata": {},
   "source": [
    "Check the size of the dataframe using `dataframe.shape()`"
   ]
  },
  {
   "cell_type": "code",
   "execution_count": null,
   "metadata": {},
   "outputs": [],
   "source": [
    "data.shape"
   ]
  },
  {
   "attachments": {},
   "cell_type": "markdown",
   "metadata": {},
   "source": [
    "<a id=\"age\"></a>\n",
    "## 1.1 Age"
   ]
  },
  {
   "attachments": {},
   "cell_type": "markdown",
   "metadata": {},
   "source": [
    "Compute the patient age at the time of their hospitalization."
   ]
  },
  {
   "attachments": {},
   "cell_type": "markdown",
   "metadata": {},
   "source": [
    "TIPS : \n",
    "- Inner join the `data` dataset and the `df_visit` dataset on `person_id` using the `pandas.merge()` function (see [doc](https://pandas.pydata.org/docs/reference/api/pandas.merge.html))\n",
    "- Create an `age` column compute the age for each patient."
   ]
  },
  {
   "cell_type": "code",
   "execution_count": null,
   "metadata": {},
   "outputs": [],
   "source": [
    "data = pd.merge(data, df_visit[[\"person_id\", \"visit_occurrence_id\", \"visit_start_datetime\"]], on=\"person_id\", how=\"inner\")"
   ]
  },
  {
   "cell_type": "code",
   "execution_count": null,
   "metadata": {},
   "outputs": [],
   "source": [
    "data.head()"
   ]
  },
  {
   "cell_type": "code",
   "execution_count": null,
   "metadata": {},
   "outputs": [],
   "source": [
    "data['age'] = round((data.visit_start_datetime - data.birth_datetime).dt.days/365)"
   ]
  },
  {
   "attachments": {},
   "cell_type": "markdown",
   "metadata": {},
   "source": [
    "<a id=\"gender\"></a>\n",
    "## 1.2 Gender"
   ]
  },
  {
   "attachments": {},
   "cell_type": "markdown",
   "metadata": {},
   "source": [
    "Create a \"male\" boolean column to identify if the patient is a male (1) or a female (0)."
   ]
  },
  {
   "cell_type": "code",
   "execution_count": null,
   "metadata": {},
   "outputs": [],
   "source": [
    "data[\"male\"] = data.gender_source_value == 'm'"
   ]
  },
  {
   "attachments": {},
   "cell_type": "markdown",
   "metadata": {},
   "source": [
    "<a id=\"death\"></a>\n",
    "## 1.3 Death"
   ]
  },
  {
   "attachments": {},
   "cell_type": "markdown",
   "metadata": {},
   "source": [
    "Create a \"dead\" boolean column to identify if the patient has died or not.\n",
    "\n",
    "TIP : The patient is dead if a date of death is mention. Use the function `pandas.notna()`"
   ]
  },
  {
   "cell_type": "code",
   "execution_count": null,
   "metadata": {},
   "outputs": [],
   "source": [
    "data.head()"
   ]
  },
  {
   "cell_type": "code",
   "execution_count": null,
   "metadata": {},
   "outputs": [],
   "source": [
    "data[\"dead\"] = data.death_datetime.notna()"
   ]
  },
  {
   "attachments": {},
   "cell_type": "markdown",
   "metadata": {},
   "source": [
    "<a id=\"comorb\"></a>\n",
    "## 1.4 Comorbidities : history of cancer and diabetes"
   ]
  },
  {
   "attachments": {},
   "cell_type": "markdown",
   "metadata": {},
   "source": [
    "Meetings with experts lead us to identify the ICD-10 codes corresponding to history of cancer and diabetes :\n",
    "- cancer : [\"Z851\", \"Z852\", \"Z853\"]\n",
    "- diabetes : [\"E10\", \"E11\", \"E12\"]"
   ]
  },
  {
   "attachments": {},
   "cell_type": "markdown",
   "metadata": {},
   "source": [
    "Create a `comorbidity` column by tagging each code in the `df_cond` Dataframe corresponding to diabetes or cancer antecedent."
   ]
  },
  {
   "attachments": {},
   "cell_type": "markdown",
   "metadata": {},
   "source": [
    "TIP: you can build a `code_to_comorb` dictionary mapping each ICD-10 code to its corresponding comorbidity, and use the pandas `df.col_name.map(dict)` built-function to map the values of the `condition_source_value` column."
   ]
  },
  {
   "cell_type": "code",
   "execution_count": null,
   "metadata": {},
   "outputs": [],
   "source": [
    "comorb_to_code = {\n",
    "    \"diabetes\": [\"E10\", \"E11\", \"E12\"],\n",
    "    \"history_cancer\": [\"Z851\", \"Z852\", \"Z853\"]\n",
    "}"
   ]
  },
  {
   "cell_type": "code",
   "execution_count": null,
   "metadata": {},
   "outputs": [],
   "source": [
    "code_to_comorb = {}\n",
    "for key,codes_list in comorb_to_code.items():\n",
    "    print(key, codes_list)\n",
    "    for code in codes_list:\n",
    "        code_to_comorb[code] = key"
   ]
  },
  {
   "cell_type": "code",
   "execution_count": null,
   "metadata": {},
   "outputs": [],
   "source": [
    "code_to_comorb"
   ]
  },
  {
   "cell_type": "code",
   "execution_count": null,
   "metadata": {},
   "outputs": [],
   "source": [
    "df_condition[\"comorbidity\"] = df_condition.condition_source_value.map(code_to_comorb)"
   ]
  },
  {
   "cell_type": "code",
   "execution_count": null,
   "metadata": {},
   "outputs": [],
   "source": [
    "df_condition.sample(10)"
   ]
  },
  {
   "attachments": {},
   "cell_type": "markdown",
   "metadata": {},
   "source": [
    "Create a `df_comorbidities` DataFrame by selecting the condition codes corresponding to the desired comorbidities."
   ]
  },
  {
   "attachments": {},
   "cell_type": "markdown",
   "metadata": {},
   "source": [
    "TIP : \n",
    "You can use the `df.col_name.notna()` built-in function : \n",
    "```python \n",
    "df[df.col_name.notna()]\n",
    "```"
   ]
  },
  {
   "cell_type": "code",
   "execution_count": null,
   "metadata": {},
   "outputs": [],
   "source": [
    "df_comorbidities = df_condition[df_condition.comorbidity.notna()]"
   ]
  },
  {
   "attachments": {},
   "cell_type": "markdown",
   "metadata": {},
   "source": [
    "How many patient have cancer antecedent ? How many have had diabetes ?\n",
    "\n",
    "TIP : Use the `df.col_name.value_counts()` function"
   ]
  },
  {
   "cell_type": "code",
   "execution_count": null,
   "metadata": {},
   "outputs": [],
   "source": [
    "df_comorbidities.comorbidity.value_counts()"
   ]
  },
  {
   "cell_type": "code",
   "execution_count": null,
   "metadata": {},
   "outputs": [],
   "source": [
    "df_comorbidities.head()"
   ]
  },
  {
   "attachments": {},
   "cell_type": "markdown",
   "metadata": {},
   "source": [
    "The `df_comorbidities` DataFrame is composed of one row per condition source value (either cancer or diabete).\n",
    "<br> A patient can have multiple rows depending on how many conditions they have.\n",
    "\n",
    "Now, we will create a dataframe with one row per patient and per visit : \n",
    "<br>NB : each patient only has one and only visit\n",
    "\n",
    "| visit_occurrence_id | person_id  | history_cancer | diabetes |\n",
    "| :------------------ | :----------|:------------| :---------- |\n",
    "| aaa | xxx | True |  True |\n",
    "| bbb | yyy | False |  True |\n",
    "| ccc | zzz | False |  False |\n",
    "\n",
    "Pivot the `df_comorbidities` DataFrame to have the presence of both antecedents for each patient. Don't forget to replace the NaN values by False and to reset the index !"
   ]
  },
  {
   "attachments": {},
   "cell_type": "markdown",
   "metadata": {},
   "source": [
    "TIP \n",
    "You can use the [pivot](https://pandas.pydata.org/docs/reference/api/pandas.DataFrame.pivot.html) built-in function :\n",
    "```python\n",
    "df.pivot(index=[\"index_col\"], columns=[\"col\"], values=[\"value\"]])\n",
    "```\n",
    "You might need to create \"artificially\" the *value* column as a True boolean, and drop the *condition_occurrence_id* column."
   ]
  },
  {
   "cell_type": "code",
   "execution_count": null,
   "metadata": {},
   "outputs": [],
   "source": [
    "df_comorbidities[\"value\"] = True"
   ]
  },
  {
   "cell_type": "code",
   "execution_count": null,
   "metadata": {},
   "outputs": [],
   "source": [
    "df_comorbidities = df_comorbidities.drop(columns=[\"condition_occurrence_id\"]).pivot(index=[\"visit_occurrence_id\", \"person_id\"], columns=\"comorbidity\", values=\"value\").reset_index().fillna(False)"
   ]
  },
  {
   "cell_type": "code",
   "execution_count": null,
   "metadata": {},
   "outputs": [],
   "source": [
    "df_comorbidities.head()"
   ]
  },
  {
   "attachments": {},
   "cell_type": "markdown",
   "metadata": {},
   "source": [
    "Merge the `data` DataFrame with the obtained `df_comorbidities` to summarize comorbidities information for each patient.\n",
    "\n",
    "TIP:  \n",
    "- Think twice about the type of merging you want to perform\n",
    "- Do not forget to fill NA values for the comorbidity columns with False !"
   ]
  },
  {
   "cell_type": "code",
   "execution_count": null,
   "metadata": {},
   "outputs": [],
   "source": [
    "df_comorbidities.person_id.nunique()"
   ]
  },
  {
   "cell_type": "code",
   "execution_count": null,
   "metadata": {},
   "outputs": [],
   "source": [
    "data.person_id.nunique()"
   ]
  },
  {
   "cell_type": "code",
   "execution_count": null,
   "metadata": {},
   "outputs": [],
   "source": [
    "data = pd.merge(data, df_comorbidities[[\"person_id\", \"history_cancer\", \"diabetes\"]], on=\"person_id\", how=\"left\").fillna({\"diabetes\":False, \"history_cancer\":False})"
   ]
  },
  {
   "cell_type": "code",
   "execution_count": null,
   "metadata": {},
   "outputs": [],
   "source": [
    "data.head()"
   ]
  },
  {
   "attachments": {},
   "cell_type": "markdown",
   "metadata": {},
   "source": [
    "<a id=\"bio\"></a>\n",
    "## 1.5 Biological profile"
   ]
  },
  {
   "attachments": {},
   "cell_type": "markdown",
   "metadata": {},
   "source": [
    "Check the different biological values available."
   ]
  },
  {
   "cell_type": "code",
   "execution_count": null,
   "metadata": {},
   "outputs": [],
   "source": [
    "df_bio.concept_source_value.value_counts()"
   ]
  },
  {
   "cell_type": "code",
   "execution_count": null,
   "metadata": {},
   "outputs": [],
   "source": [
    "df_bio.head()"
   ]
  },
  {
   "attachments": {},
   "cell_type": "markdown",
   "metadata": {},
   "source": [
    "Create a `df_bio_processed` DataFrame with all biological values for each visit : \n",
    "\n",
    "| visit_occurrence_id | bio_A  | bio_B | bio_C |\n",
    "| :------------------ | :----------|:------------| :---------- |\n",
    "| aaa | 189 | 13 |  0.87 |\n",
    "| bbb | 160 | 11 |  0.59 |\n",
    "| ccc | 209 | 11 |  0.69 |\n",
    "\n",
    "\n",
    "TIP : Pivot the `df_bio` DataFrame and retrieve the biological values measured at the admission of each hospitalization."
   ]
  },
  {
   "cell_type": "code",
   "execution_count": null,
   "metadata": {},
   "outputs": [],
   "source": [
    "bio_processed = df_bio[[\"visit_occurrence_id\", \"concept_source_value\", \"transformed_value\"]].pivot(index=[\"visit_occurrence_id\"], columns=\"concept_source_value\", values=\"transformed_value\").reset_index()"
   ]
  },
  {
   "cell_type": "code",
   "execution_count": null,
   "metadata": {},
   "outputs": [],
   "source": [
    "bio_processed.head()"
   ]
  },
  {
   "attachments": {},
   "cell_type": "markdown",
   "metadata": {},
   "source": [
    "Merge `data` and `bio_processed` on `visit_occurrence_id`\n",
    "\n",
    "TIP: Think twice about the type of merging you want to perform"
   ]
  },
  {
   "cell_type": "code",
   "execution_count": null,
   "metadata": {},
   "outputs": [],
   "source": [
    "data.head()"
   ]
  },
  {
   "cell_type": "code",
   "execution_count": null,
   "metadata": {},
   "outputs": [],
   "source": [
    "data = pd.merge(data, bio_processed, on=\"visit_occurrence_id\", how=\"left\")"
   ]
  },
  {
   "cell_type": "code",
   "execution_count": null,
   "metadata": {},
   "outputs": [],
   "source": [
    "data.head()"
   ]
  },
  {
   "attachments": {},
   "cell_type": "markdown",
   "metadata": {},
   "source": [
    "<a id=\"med\"></a>\n",
    "## 1.6 Medication taken"
   ]
  },
  {
   "cell_type": "code",
   "execution_count": null,
   "metadata": {},
   "outputs": [],
   "source": [
    "df_med.head()"
   ]
  },
  {
   "attachments": {},
   "cell_type": "markdown",
   "metadata": {},
   "source": [
    "Create a \"drugB\" boolean column in `data` indicating whether patients have taken the drugB or not. "
   ]
  },
  {
   "attachments": {},
   "cell_type": "markdown",
   "metadata": {},
   "source": [
    "TIP :\n",
    "You can pivot the `df_med` DataFrame into a `med_processed` dataframe as done for the comorbidities and merge it with `data`."
   ]
  },
  {
   "cell_type": "code",
   "execution_count": null,
   "metadata": {},
   "outputs": [],
   "source": [
    "df_med[\"value\"]=True"
   ]
  },
  {
   "cell_type": "code",
   "execution_count": null,
   "metadata": {},
   "outputs": [],
   "source": [
    "med_processed = df_med[[\"visit_occurrence_id\", \"drug_source_value\", \"value\"]].pivot(index=\"visit_occurrence_id\", columns=\"drug_source_value\", values=\"value\").reset_index()"
   ]
  },
  {
   "cell_type": "code",
   "execution_count": null,
   "metadata": {},
   "outputs": [],
   "source": [
    "med_processed.head()"
   ]
  },
  {
   "cell_type": "code",
   "execution_count": null,
   "metadata": {},
   "outputs": [],
   "source": [
    "med_processed.drugB.value_counts()"
   ]
  },
  {
   "cell_type": "code",
   "execution_count": null,
   "metadata": {},
   "outputs": [],
   "source": [
    "data = pd.merge(data, med_processed, on=\"visit_occurrence_id\", how='left').fillna({\"drugB\":False})"
   ]
  },
  {
   "cell_type": "code",
   "execution_count": null,
   "metadata": {},
   "outputs": [],
   "source": [
    "data.head()"
   ]
  },
  {
   "cell_type": "code",
   "execution_count": null,
   "metadata": {},
   "outputs": [],
   "source": [
    "data.drugB.value_counts()"
   ]
  },
  {
   "attachments": {},
   "cell_type": "markdown",
   "metadata": {},
   "source": [
    "### Final step"
   ]
  },
  {
   "attachments": {},
   "cell_type": "markdown",
   "metadata": {},
   "source": [
    "Select the columns you want to keep for the statistical analyses and check that you don't have missing values."
   ]
  },
  {
   "attachments": {},
   "cell_type": "markdown",
   "metadata": {},
   "source": [
    "TIP : you can use the following built-in function :\n",
    "```python\n",
    "df.isna().sum()\n",
    "```\n",
    "Beware of the axis along which you sum !"
   ]
  },
  {
   "cell_type": "code",
   "execution_count": null,
   "metadata": {},
   "outputs": [],
   "source": [
    "data = data[[\"person_id\", \"age\", \"male\", \"dead\", \"history_cancer\", \"diabetes\", \"bmi\", \"crp\", \"urea\", \"hb\", \"drugB\"]]"
   ]
  },
  {
   "cell_type": "code",
   "execution_count": null,
   "metadata": {},
   "outputs": [],
   "source": [
    "data.isna().sum(axis=0)"
   ]
  },
  {
   "attachments": {},
   "cell_type": "markdown",
   "metadata": {},
   "source": [
    "<a id=\"stat\"></a>\n",
    "# 2. Descriptive statistics"
   ]
  },
  {
   "attachments": {},
   "cell_type": "markdown",
   "metadata": {},
   "source": [
    "Let's compute base statistics for our features in order to catch a glimpse of our population characteristics by separating dead vs alive patients. We will compute :\n",
    "- For quantitative features : mean (std) and student t-test\n",
    "- For qualitative features : % of prevalence and Chi-sq test\n",
    "\n",
    "*Assuming that we are respecting the initial conditions of each test (iid gaussian distribution for quanti feats).*"
   ]
  },
  {
   "attachments": {},
   "cell_type": "markdown",
   "metadata": {},
   "source": [
    "We are going to use the `df.groupby().agg(agg_dict)` function. Check out the doc [here](https://pandas.pydata.org/pandas-docs/version/0.22/generated/pandas.core.groupby.DataFrameGroupBy.agg.html)  \n",
    "We will therefore need to provide for each column of `data` the desired aggregation function."
   ]
  },
  {
   "attachments": {},
   "cell_type": "markdown",
   "metadata": {},
   "source": [
    "Create a \"prevalence\" function that returns the percentage of True values from a list of booleans."
   ]
  },
  {
   "cell_type": "code",
   "execution_count": null,
   "metadata": {},
   "outputs": [],
   "source": [
    "def prevalence(values):\n",
    "    return values.sum()*100/len(values)"
   ]
  },
  {
   "attachments": {},
   "cell_type": "markdown",
   "metadata": {},
   "source": [
    "Create the \"agg_dict\" dictionary storing for each column name (keys) the list of transforming functions (values). You can use the `np.mean` and `np.std` registered functions."
   ]
  },
  {
   "attachments": {},
   "cell_type": "markdown",
   "metadata": {},
   "source": [
    "TIP : Example\n",
    "```python\n",
    "agg_dict = {\n",
    "    \"person_id\": [\"count\"],\n",
    "    \"age\": [np.mean, np.std],\n",
    "    ...\n",
    "}\n",
    "```"
   ]
  },
  {
   "cell_type": "code",
   "execution_count": null,
   "metadata": {},
   "outputs": [],
   "source": [
    "agg_dict = {\n",
    "    \"person_id\": [\"count\"],\n",
    "    \"age\": [np.mean, np.std],\n",
    "    \"male\": [prevalence],\n",
    "    \"history_cancer\" : [prevalence],\n",
    "    \"diabetes\" : [prevalence],\n",
    "    \"drugB\": [prevalence],\n",
    "    \"bmi\" : [np.mean, np.std],\n",
    "    \"crp\": [np.mean, np.std],\n",
    "    \"hb\": [np.mean, np.std],\n",
    "    \"urea\": [np.mean, np.std],\n",
    "}"
   ]
  },
  {
   "attachments": {},
   "cell_type": "markdown",
   "metadata": {},
   "source": [
    "Create a summary DataFrame from `data` using the predefined `agg_dict` to compare base statistics between the living and the dead groups."
   ]
  },
  {
   "cell_type": "code",
   "execution_count": null,
   "metadata": {},
   "outputs": [],
   "source": [
    "data.head(2)"
   ]
  },
  {
   "cell_type": "code",
   "execution_count": null,
   "metadata": {},
   "outputs": [],
   "source": [
    "data_summary = round(data.groupby(\"dead\").agg(agg_dict).T,2)"
   ]
  },
  {
   "cell_type": "code",
   "execution_count": null,
   "metadata": {},
   "outputs": [],
   "source": [
    "data_summary"
   ]
  },
  {
   "attachments": {},
   "cell_type": "markdown",
   "metadata": {},
   "source": [
    "Compute statistical tests to assess the significancy of the resulting difference between the dead and the living groups.  \n",
    "For numerical values (age and bio), you can compute the p-values associated to Student t-tests (function `ttest_ind`, doc [here](https://docs.scipy.org/doc/scipy/reference/generated/scipy.stats.ttest_ind.html)), and for categorical values (gender, comorbidities and drug) chi-sq tests (function `chi2_contigency`, doc [here](https://docs.scipy.org/doc/scipy/reference/generated/scipy.stats.chi2_contingency.html))."
   ]
  },
  {
   "attachments": {},
   "cell_type": "markdown",
   "metadata": {},
   "source": [
    "TIP : \n",
    "You may need to separate `data` into `data_alive` and `data_dead` in order to facilitate the statistic computation."
   ]
  },
  {
   "cell_type": "code",
   "execution_count": null,
   "metadata": {},
   "outputs": [],
   "source": [
    "numerical = [\"age\", \"bmi\", \"crp\", \"hb\", \"urea\"]\n",
    "test_categorical = [\"male\", \"history_cancer\", \"diabetes\", \"drugB\"]"
   ]
  },
  {
   "cell_type": "code",
   "execution_count": null,
   "metadata": {},
   "outputs": [],
   "source": [
    "data_alive = data.query(\"dead==False\")\n",
    "data_dead = data.query(\"dead==True\")"
   ]
  },
  {
   "cell_type": "code",
   "execution_count": null,
   "metadata": {},
   "outputs": [],
   "source": [
    "data_summary.index"
   ]
  },
  {
   "cell_type": "code",
   "execution_count": null,
   "metadata": {},
   "outputs": [],
   "source": [
    "chi2_contingency(pd.crosstab(data[\"dead\"], data[\"drugB\"]))"
   ]
  },
  {
   "cell_type": "code",
   "execution_count": null,
   "metadata": {},
   "outputs": [],
   "source": [
    "for feat, sub_value in data_summary.index:\n",
    "    if sub_value == 'std':\n",
    "        continue\n",
    "    if feat in numerical:\n",
    "        data_summary.loc[(feat,sub_value),\"t-test\"] = round(ttest_ind(data_alive[feat], data_dead[feat])[1],4)\n",
    "\n",
    "    if feat in test_categorical:\n",
    "        data_summary.loc[(feat,sub_value),\"chi-sq\"] = round(chi2_contingency(pd.crosstab(data[\"dead\"], data[feat]))[1],4)\n"
   ]
  },
  {
   "cell_type": "code",
   "execution_count": null,
   "metadata": {},
   "outputs": [],
   "source": [
    "data_summary"
   ]
  },
  {
   "attachments": {},
   "cell_type": "markdown",
   "metadata": {},
   "source": [
    "What can you conclude ?"
   ]
  },
  {
   "attachments": {},
   "cell_type": "markdown",
   "metadata": {},
   "source": [
    "Dead patients appear to be older, having diabetes more frequently and presenting a worse biological profile (especially regarding Urea) at admission.\n",
    "**However**, the statistical significance must be confronted to the sample size. Indeed, with >20000 patients, the statistical tests are de facto significant, and those p-values are \"artificially\" low."
   ]
  },
  {
   "attachments": {},
   "cell_type": "markdown",
   "metadata": {},
   "source": [
    "<a id=\"analysis\"></a>\n",
    "# 3. Statistical analysis"
   ]
  },
  {
   "attachments": {},
   "cell_type": "markdown",
   "metadata": {},
   "source": [
    "Now that we have a better overview of our cohort and its characteristics, we can perform the desired statistical analysis by fitting logistic regression models."
   ]
  },
  {
   "attachments": {},
   "cell_type": "markdown",
   "metadata": {},
   "source": [
    "Convert binary features into integer, as boolean are not supported by the statsmodels functions."
   ]
  },
  {
   "cell_type": "code",
   "execution_count": null,
   "metadata": {},
   "outputs": [],
   "source": [
    "categorical = [\"dead\",\"male\", \"atcd_cancer\", \"diabetes\", \"drugB\"]\n",
    "data[categorical] = data[categorical].astype(int)"
   ]
  },
  {
   "attachments": {},
   "cell_type": "markdown",
   "metadata": {},
   "source": [
    "<a id=\"uni_analysis\"></a>\n",
    "## 3.2 Univariate logistic regression : OR associated with taking drugB"
   ]
  },
  {
   "cell_type": "code",
   "execution_count": null,
   "metadata": {},
   "outputs": [],
   "source": [
    "data.head()"
   ]
  },
  {
   "attachments": {},
   "cell_type": "markdown",
   "metadata": {},
   "source": [
    "Build a logistical regression model to evaluate the univariate effect of taking drug B on death, and fit it on `data`. Documentation about the `logit` function can be found [here](https://www.statsmodels.org/devel/generated/statsmodels.formula.api.logit.html)."
   ]
  },
  {
   "cell_type": "code",
   "execution_count": null,
   "metadata": {},
   "outputs": [],
   "source": [
    "model = logit(\"dead~drugB\",data).fit(disp=False)\n",
    "print(model.summary())"
   ]
  },
  {
   "attachments": {},
   "cell_type": "markdown",
   "metadata": {},
   "source": [
    "Extract the coefficient associated with drugB using `model.params[param_name]`"
   ]
  },
  {
   "cell_type": "code",
   "execution_count": null,
   "metadata": {},
   "outputs": [],
   "source": [
    "model.params[\"drugB\"]"
   ]
  },
  {
   "attachments": {},
   "cell_type": "markdown",
   "metadata": {},
   "source": [
    "Compute the Odds Ratio associated with the drugB feature."
   ]
  },
  {
   "attachments": {},
   "cell_type": "markdown",
   "metadata": {},
   "source": [
    "TIP :\n",
    "OR = exp(feature_coef)"
   ]
  },
  {
   "cell_type": "code",
   "execution_count": null,
   "metadata": {},
   "outputs": [],
   "source": [
    "or_uni = np.exp(model.params[\"drugB\"])"
   ]
  },
  {
   "cell_type": "code",
   "execution_count": null,
   "metadata": {},
   "outputs": [],
   "source": [
    "or_uni"
   ]
  },
  {
   "attachments": {},
   "cell_type": "markdown",
   "metadata": {},
   "source": [
    "What can you conclude of the odds of death when taking drugB ?"
   ]
  },
  {
   "cell_type": "code",
   "execution_count": null,
   "metadata": {},
   "outputs": [],
   "source": [
    "print(f\"According to our univariate analysis, the odds of dying appears to be multiplied by {round(or_uni,2)}, or reduced by {1/or_uni} when taking drug B.\")"
   ]
  },
  {
   "attachments": {},
   "cell_type": "markdown",
   "metadata": {},
   "source": [
    "Perform the same univariate analysis on the other features relating to death event."
   ]
  },
  {
   "cell_type": "code",
   "execution_count": null,
   "metadata": {},
   "outputs": [],
   "source": [
    "for feat in [\"age\", \"male\", \"atcd_cancer\", \"diabetes\", \"urea\", \"crp\", \"bmi\", \"hb\"]:\n",
    "    model = logit(f\"dead ~  {feat}\", data).fit(disp=False)\n",
    "    print(f\"Univariate OR associated with {feat}: {round(np.exp(model.params[feat]),2)}\")\n"
   ]
  },
  {
   "attachments": {},
   "cell_type": "markdown",
   "metadata": {},
   "source": [
    "What parameters seem to have the greatest influence on the death event ?"
   ]
  },
  {
   "attachments": {},
   "cell_type": "markdown",
   "metadata": {},
   "source": [
    "The most influent parameters on death are the following :\n",
    "#TODO"
   ]
  },
  {
   "attachments": {},
   "cell_type": "markdown",
   "metadata": {},
   "source": [
    "<a id=\"multi_analysis\"></a>\n",
    "## 3.3 Multivariate analysis : Generalized Linear Models"
   ]
  },
  {
   "attachments": {},
   "cell_type": "markdown",
   "metadata": {},
   "source": [
    "Build a Generalized Linear Model to explain the death event with all the available features. Documentation about the `glm` function can be found [here](https://www.statsmodels.org/devel/generated/statsmodels.formula.api.glm.html)."
   ]
  },
  {
   "cell_type": "code",
   "execution_count": null,
   "metadata": {},
   "outputs": [],
   "source": [
    "model = glm(\"dead ~ drugB + age + male + history_cancer + diabetes + urea + crp + bmi + hb\", data).fit()\n",
    "print(model.summary())"
   ]
  },
  {
   "attachments": {},
   "cell_type": "markdown",
   "metadata": {},
   "source": [
    "Compute the stratified OR associated with taking drugB :"
   ]
  },
  {
   "cell_type": "code",
   "execution_count": null,
   "metadata": {},
   "outputs": [],
   "source": [
    "or_multi = np.exp(model.params[\"drugB\"])"
   ]
  },
  {
   "attachments": {},
   "cell_type": "markdown",
   "metadata": {},
   "source": [
    "Compute the OR associated with each feature after adjustement."
   ]
  },
  {
   "cell_type": "code",
   "execution_count": null,
   "metadata": {},
   "outputs": [],
   "source": [
    "for feat, param in model.params.to_dict().items():\n",
    "    print(feat, round(np.exp(model.params[feat]),2))"
   ]
  },
  {
   "attachments": {},
   "cell_type": "markdown",
   "metadata": {},
   "source": [
    "What can you conclude ?"
   ]
  },
  {
   "cell_type": "code",
   "execution_count": null,
   "metadata": {},
   "outputs": [],
   "source": [
    "print(f\"After a stratification on other features, the odds of death appear to be reduced by  {#TODO} when taking drug B.\")"
   ]
  },
  {
   "attachments": {},
   "cell_type": "markdown",
   "metadata": {},
   "source": [
    "The most impactful features on the adjusted model is:\n",
    "- #TODO"
   ]
  },
  {
   "attachments": {},
   "cell_type": "markdown",
   "metadata": {},
   "source": [
    "**CONCLUSION**\n",
    "The effect of drug B adjusted on all available features is reduced, illustrating the fact that this medication was more frequently prescribed to younger people in better global health (less comorbidities and better biological features). \n",
    "Moreover, the effect of the other features (urea, comorbidities, etc..) vanishes when adjusting on drugB.  \n",
    "This is a typical clinical bias that can be found frequently in Real-World Data and may lead to over-interpretation of drug effects... do not conclude to quickly !"
   ]
  },
  {
   "attachments": {},
   "cell_type": "markdown",
   "metadata": {},
   "source": [
    "# 4. Takeaways"
   ]
  },
  {
   "attachments": {},
   "cell_type": "markdown",
   "metadata": {},
   "source": [
    "Large scale Real-World Data may be subject to major clinical biases, such as prescription bias. They can affect the overall population, or be subject to differing guidelines and practices among the diversity of hospitals, clinicians and patients. \n",
    "It is of paramount importance to work closely with clinician to be aware of such biases and avoid over-interpretation, as long as performing stratified analyses to have a broader view of the effects."
   ]
  }
 ],
 "metadata": {
  "interpreter": {
   "hash": "2ffb0fb47ea8f733c001ba519ad88900dd17f4bfc9ebfd0d356a457e5cc19a15"
  },
  "kernelspec": {
   "display_name": "Python 3.7.11 ('eds-tuto')",
   "language": "python",
   "name": "python3"
  },
  "language_info": {
   "codemirror_mode": {
    "name": "ipython",
    "version": 3
   },
   "file_extension": ".py",
   "mimetype": "text/x-python",
   "name": "python",
   "nbconvert_exporter": "python",
   "pygments_lexer": "ipython3",
   "version": "3.7.16"
  },
  "orig_nbformat": 4
 },
 "nbformat": 4,
 "nbformat_minor": 2
}
