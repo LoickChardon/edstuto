{
 "cells": [
  {
   "attachments": {},
   "cell_type": "markdown",
   "metadata": {},
   "source": [
    "# Exercise 2: Data linkage\n",
    "\n",
    "In this exercise we want to evaluate the impact of duplicated patients in a dataset. To address this issue, linkage algorithms may be used to merge records related to the same patients. They are commonly divided in **deterministic linkage** algorithms and in **probabilistic linkage** algorithms. Whereas deterministic algorithms rely on simple rules to match identifiers, probabilistic algorithms compute a similarity metric between pairs of records. A table of deduplicated patient identifiers is provided for examples of these two algorithms.\n",
    "\n",
    "In this exercice, we will : \n",
    "1. Deduplicate the dataset by using a deterministic algorithm\n",
    "2. Deduplicate the dataset by using a probabilistic algorithm\n",
    "3. Compare the Kaplan-Meyer curves between these 2 groups and non deduplicated data from exercice 1.\n",
    "\n",
    "We initialize the notebook by importing the following libraries:"
   ]
  },
  {
   "cell_type": "code",
   "execution_count": 79,
   "metadata": {},
   "outputs": [],
   "source": [
    "import pandas as pd\n",
    "import numpy as np\n",
    "\n",
    "# Visualization library\n",
    "import matplotlib.pyplot as plt\n",
    "import altair as alt\n",
    "alt.data_transformers.enable('default', max_rows=None)\n",
    "\n",
    "# Dates management\n",
    "import datetime"
   ]
  },
  {
   "cell_type": "code",
   "execution_count": 80,
   "metadata": {},
   "outputs": [],
   "source": [
    "#Import the helper functions\n",
    "import sys\n",
    "sys.path.append(\"../\")\n",
    "sys.path.append(\"data/\")\n",
    "from viz import plot_primary_kaplan, plot_secondary_kaplan"
   ]
  },
  {
   "cell_type": "markdown",
   "metadata": {},
   "source": [
    "# Table of content"
   ]
  },
  {
   "cell_type": "markdown",
   "metadata": {},
   "source": [
    "# 1. Data Exploration\n",
    "\n",
    "\n",
    "A fake dataset that mimics data coming from a clinical information system is made available in the */data* folder of this exercise.\n",
    "<br>For this study, data has been extracted from the Clinical Data Warehouse on December 1st, 2025.\n",
    "<br>The same data than in exercice 1 is imported\n",
    "\n",
    "## 1.1 Data extracted from the Clinical Data Warehouse\n",
    "\n",
    "Open the following files using the `pandas.read_pickle()` function : \n",
    "  - *data/df_person.pkl* as `df_person`\n",
    "  - *data/df_visit.pkl* as `df_visit`\n",
    "  - *data/df_condition.pkl* as `df_cond`\n",
    "  - *data/df_med.pkl* as `df_med`\n"
   ]
  },
  {
   "cell_type": "code",
   "execution_count": 81,
   "metadata": {},
   "outputs": [],
   "source": [
    "# Patients\n",
    "df_person = pd.read_pickle(\"data/df_person.pkl\")\n",
    "\n",
    "# Visits\n",
    "df_visit = pd.read_pickle(\"data/df_visit.pkl\")\n",
    "\n",
    "# Diagnosis (condition)\n",
    "df_cond = pd.read_pickle(\"data/df_condition.pkl\")\n",
    "\n",
    "# Medication\n",
    "df_med = pd.read_pickle(\"data/df_med.pkl\")"
   ]
  },
  {
   "cell_type": "code",
   "execution_count": 82,
   "metadata": {},
   "outputs": [
    {
     "data": {
      "text/html": [
       "<div>\n",
       "<style scoped>\n",
       "    .dataframe tbody tr th:only-of-type {\n",
       "        vertical-align: middle;\n",
       "    }\n",
       "\n",
       "    .dataframe tbody tr th {\n",
       "        vertical-align: top;\n",
       "    }\n",
       "\n",
       "    .dataframe thead th {\n",
       "        text-align: right;\n",
       "    }\n",
       "</style>\n",
       "<table border=\"1\" class=\"dataframe\">\n",
       "  <thead>\n",
       "    <tr style=\"text-align: right;\">\n",
       "      <th></th>\n",
       "      <th>person_id</th>\n",
       "      <th>birth_datetime</th>\n",
       "      <th>death_datetime</th>\n",
       "      <th>gender_source_value</th>\n",
       "      <th>cdm_source</th>\n",
       "    </tr>\n",
       "  </thead>\n",
       "  <tbody>\n",
       "    <tr>\n",
       "      <th>1012</th>\n",
       "      <td>81970282</td>\n",
       "      <td>1956-07-29</td>\n",
       "      <td>NaT</td>\n",
       "      <td>f</td>\n",
       "      <td>EHR 1</td>\n",
       "    </tr>\n",
       "    <tr>\n",
       "      <th>3508</th>\n",
       "      <td>87830669</td>\n",
       "      <td>1980-07-19</td>\n",
       "      <td>NaT</td>\n",
       "      <td>m</td>\n",
       "      <td>EHR 1</td>\n",
       "    </tr>\n",
       "    <tr>\n",
       "      <th>2132</th>\n",
       "      <td>89429283</td>\n",
       "      <td>1962-05-16</td>\n",
       "      <td>2020-06-14</td>\n",
       "      <td>m</td>\n",
       "      <td>EHR 1</td>\n",
       "    </tr>\n",
       "    <tr>\n",
       "      <th>363</th>\n",
       "      <td>82111706</td>\n",
       "      <td>1944-07-21</td>\n",
       "      <td>NaT</td>\n",
       "      <td>f</td>\n",
       "      <td>EHR 1</td>\n",
       "    </tr>\n",
       "    <tr>\n",
       "      <th>1058</th>\n",
       "      <td>81879940</td>\n",
       "      <td>1927-03-09</td>\n",
       "      <td>2022-10-11</td>\n",
       "      <td>f</td>\n",
       "      <td>EHR 1</td>\n",
       "    </tr>\n",
       "    <tr>\n",
       "      <th>...</th>\n",
       "      <td>...</td>\n",
       "      <td>...</td>\n",
       "      <td>...</td>\n",
       "      <td>...</td>\n",
       "      <td>...</td>\n",
       "    </tr>\n",
       "    <tr>\n",
       "      <th>8</th>\n",
       "      <td>86140106</td>\n",
       "      <td>1958-11-05</td>\n",
       "      <td>2022-03-31</td>\n",
       "      <td>f</td>\n",
       "      <td>EHR 1</td>\n",
       "    </tr>\n",
       "    <tr>\n",
       "      <th>382</th>\n",
       "      <td>86585517</td>\n",
       "      <td>2018-12-04</td>\n",
       "      <td>2019-12-13</td>\n",
       "      <td>m</td>\n",
       "      <td>EHR 1</td>\n",
       "    </tr>\n",
       "    <tr>\n",
       "      <th>2834</th>\n",
       "      <td>85715060</td>\n",
       "      <td>1975-03-14</td>\n",
       "      <td>NaT</td>\n",
       "      <td>f</td>\n",
       "      <td>EHR 1</td>\n",
       "    </tr>\n",
       "    <tr>\n",
       "      <th>3180</th>\n",
       "      <td>80359433</td>\n",
       "      <td>1968-08-17</td>\n",
       "      <td>NaT</td>\n",
       "      <td>m</td>\n",
       "      <td>EHR 1</td>\n",
       "    </tr>\n",
       "    <tr>\n",
       "      <th>744</th>\n",
       "      <td>80249787</td>\n",
       "      <td>1934-04-14</td>\n",
       "      <td>NaT</td>\n",
       "      <td>m</td>\n",
       "      <td>EHR 1</td>\n",
       "    </tr>\n",
       "  </tbody>\n",
       "</table>\n",
       "<p>66768 rows × 5 columns</p>\n",
       "</div>"
      ],
      "text/plain": [
       "     person_id birth_datetime death_datetime gender_source_value cdm_source\n",
       "1012  81970282     1956-07-29            NaT                   f      EHR 1\n",
       "3508  87830669     1980-07-19            NaT                   m      EHR 1\n",
       "2132  89429283     1962-05-16     2020-06-14                   m      EHR 1\n",
       "363   82111706     1944-07-21            NaT                   f      EHR 1\n",
       "1058  81879940     1927-03-09     2022-10-11                   f      EHR 1\n",
       "...        ...            ...            ...                 ...        ...\n",
       "8     86140106     1958-11-05     2022-03-31                   f      EHR 1\n",
       "382   86585517     2018-12-04     2019-12-13                   m      EHR 1\n",
       "2834  85715060     1975-03-14            NaT                   f      EHR 1\n",
       "3180  80359433     1968-08-17            NaT                   m      EHR 1\n",
       "744   80249787     1934-04-14            NaT                   m      EHR 1\n",
       "\n",
       "[66768 rows x 5 columns]"
      ]
     },
     "execution_count": 82,
     "metadata": {},
     "output_type": "execute_result"
    }
   ],
   "source": [
    "df_person"
   ]
  },
  {
   "attachments": {},
   "cell_type": "markdown",
   "metadata": {},
   "source": [
    "## 1.2 Data provided by the deterministic deduplication algorithm\n",
    "\n",
    "The results of the **deterministic algorithm** are made available in the *df_dedup_det* dataframe.\n",
    "\n",
    "- Open the *data/df_dedup_deterministic.pkl* file as `df_dedup_det` using the `pandas.read_pickle()` function.\n",
    "- Explore the type of each feature of the df_dedup_det DataFrame with the `.info()` function.\n",
    "- Check out the first rows of the DataFrame using the `.head()` function.\n"
   ]
  },
  {
   "cell_type": "code",
   "execution_count": 83,
   "metadata": {},
   "outputs": [
    {
     "name": "stdout",
     "output_type": "stream",
     "text": [
      "<class 'pandas.core.frame.DataFrame'>\n",
      "Index: 2031 entries, 2855 to 321\n",
      "Data columns (total 2 columns):\n",
      " #   Column            Non-Null Count  Dtype \n",
      "---  ------            --------------  ----- \n",
      " 0   unique_person_id  2031 non-null   int64 \n",
      " 1   person_id         2031 non-null   object\n",
      "dtypes: int64(1), object(1)\n",
      "memory usage: 47.6+ KB\n"
     ]
    },
    {
     "data": {
      "text/html": [
       "<div>\n",
       "<style scoped>\n",
       "    .dataframe tbody tr th:only-of-type {\n",
       "        vertical-align: middle;\n",
       "    }\n",
       "\n",
       "    .dataframe tbody tr th {\n",
       "        vertical-align: top;\n",
       "    }\n",
       "\n",
       "    .dataframe thead th {\n",
       "        text-align: right;\n",
       "    }\n",
       "</style>\n",
       "<table border=\"1\" class=\"dataframe\">\n",
       "  <thead>\n",
       "    <tr style=\"text-align: right;\">\n",
       "      <th></th>\n",
       "      <th>unique_person_id</th>\n",
       "      <th>person_id</th>\n",
       "    </tr>\n",
       "  </thead>\n",
       "  <tbody>\n",
       "    <tr>\n",
       "      <th>2855</th>\n",
       "      <td>80808302</td>\n",
       "      <td>83057738</td>\n",
       "    </tr>\n",
       "    <tr>\n",
       "      <th>2808</th>\n",
       "      <td>81747693</td>\n",
       "      <td>87993293</td>\n",
       "    </tr>\n",
       "    <tr>\n",
       "      <th>1430</th>\n",
       "      <td>87991514</td>\n",
       "      <td>88170904</td>\n",
       "    </tr>\n",
       "    <tr>\n",
       "      <th>1433</th>\n",
       "      <td>86660301</td>\n",
       "      <td>85470579</td>\n",
       "    </tr>\n",
       "    <tr>\n",
       "      <th>740</th>\n",
       "      <td>84843798</td>\n",
       "      <td>85464125</td>\n",
       "    </tr>\n",
       "  </tbody>\n",
       "</table>\n",
       "</div>"
      ],
      "text/plain": [
       "      unique_person_id person_id\n",
       "2855          80808302  83057738\n",
       "2808          81747693  87993293\n",
       "1430          87991514  88170904\n",
       "1433          86660301  85470579\n",
       "740           84843798  85464125"
      ]
     },
     "execution_count": 83,
     "metadata": {},
     "output_type": "execute_result"
    }
   ],
   "source": [
    "df_dedup_det = pd.read_pickle('data/df_dedup_deterministic.pkl')\n",
    "df_dedup_det\n",
    "df_dedup_det.info()\n",
    "df_dedup_det.head()"
   ]
  },
  {
   "cell_type": "code",
   "execution_count": 85,
   "metadata": {},
   "outputs": [],
   "source": [
    "df_dedup_det['person_id'] = df_dedup_det['person_id'].astype('Int64')"
   ]
  },
  {
   "cell_type": "markdown",
   "metadata": {},
   "source": [
    "<br> The dataframe `df_dedup_det` is composed of 2 columns :\n",
    "- *unique_person_id* : this id is the *real* id for the patient\n",
    "- *person_id* : this id is another one, created by mistake"
   ]
  },
  {
   "cell_type": "markdown",
   "metadata": {},
   "source": [
    "## 1.3 Data provided by the probabilistic deduplication algorithm\n",
    "\n",
    "The results of the **probabilistic algorithm** are made available in the *df_dedup_proba* dataframe.\n",
    "\n",
    "- Open the *data/df_dedup_proba.pkl* file as `df_dedup_proba` using the `pandas.read_pickle()` function.\n",
    "- Explore the type of each feature of the df_dedup_proba DataFrame with the `.info()` function.\n",
    "- Check out the first rows of the DataFrame using the `.head()` function.\n"
   ]
  },
  {
   "cell_type": "code",
   "execution_count": 40,
   "metadata": {},
   "outputs": [
    {
     "name": "stdout",
     "output_type": "stream",
     "text": [
      "<class 'pandas.core.frame.DataFrame'>\n",
      "Index: 9445 entries, 81 to 975\n",
      "Data columns (total 3 columns):\n",
      " #   Column            Non-Null Count  Dtype  \n",
      "---  ------            --------------  -----  \n",
      " 0   unique_person_id  9445 non-null   int64  \n",
      " 1   person_id         9445 non-null   object \n",
      " 2   prob              9445 non-null   float64\n",
      "dtypes: float64(1), int64(1), object(1)\n",
      "memory usage: 295.2+ KB\n"
     ]
    },
    {
     "data": {
      "text/html": [
       "<div>\n",
       "<style scoped>\n",
       "    .dataframe tbody tr th:only-of-type {\n",
       "        vertical-align: middle;\n",
       "    }\n",
       "\n",
       "    .dataframe tbody tr th {\n",
       "        vertical-align: top;\n",
       "    }\n",
       "\n",
       "    .dataframe thead th {\n",
       "        text-align: right;\n",
       "    }\n",
       "</style>\n",
       "<table border=\"1\" class=\"dataframe\">\n",
       "  <thead>\n",
       "    <tr style=\"text-align: right;\">\n",
       "      <th></th>\n",
       "      <th>unique_person_id</th>\n",
       "      <th>person_id</th>\n",
       "      <th>prob</th>\n",
       "    </tr>\n",
       "  </thead>\n",
       "  <tbody>\n",
       "    <tr>\n",
       "      <th>81</th>\n",
       "      <td>85833537</td>\n",
       "      <td>88898325</td>\n",
       "      <td>0.825227</td>\n",
       "    </tr>\n",
       "    <tr>\n",
       "      <th>436</th>\n",
       "      <td>81879765</td>\n",
       "      <td>81879765</td>\n",
       "      <td>0.177655</td>\n",
       "    </tr>\n",
       "    <tr>\n",
       "      <th>554</th>\n",
       "      <td>86445696</td>\n",
       "      <td>86257687</td>\n",
       "      <td>0.311453</td>\n",
       "    </tr>\n",
       "    <tr>\n",
       "      <th>366</th>\n",
       "      <td>82207130</td>\n",
       "      <td>80846980</td>\n",
       "      <td>1.000000</td>\n",
       "    </tr>\n",
       "    <tr>\n",
       "      <th>746</th>\n",
       "      <td>82467500</td>\n",
       "      <td>88763960</td>\n",
       "      <td>0.597121</td>\n",
       "    </tr>\n",
       "  </tbody>\n",
       "</table>\n",
       "</div>"
      ],
      "text/plain": [
       "     unique_person_id person_id      prob\n",
       "81           85833537  88898325  0.825227\n",
       "436          81879765  81879765  0.177655\n",
       "554          86445696  86257687  0.311453\n",
       "366          82207130  80846980  1.000000\n",
       "746          82467500  88763960  0.597121"
      ]
     },
     "execution_count": 40,
     "metadata": {},
     "output_type": "execute_result"
    }
   ],
   "source": [
    "df_dedup_proba = pd.read_pickle(\"data/df_dedup_proba.pkl\")\n",
    "df_dedup_proba.info()\n",
    "df_dedup_proba.head()"
   ]
  },
  {
   "cell_type": "code",
   "execution_count": 86,
   "metadata": {},
   "outputs": [],
   "source": [
    "df_dedup_proba['person_id'] = df_dedup_proba['person_id'].astype('Int64')"
   ]
  },
  {
   "cell_type": "markdown",
   "metadata": {},
   "source": [
    "<br> The dataframe `df_dedup_proba` is composed of 3 columns :\n",
    "- *unique_person_id* : this id is the *real* id for the patient\n",
    "- *person_id* : this id is another one, created by mistake\n",
    "- *prob* : the probability that the 2 these 2 ids are actually the same person"
   ]
  },
  {
   "cell_type": "markdown",
   "metadata": {},
   "source": [
    "# 2. Preprocessing\n",
    "\n",
    "## 2.1 Deduplicating using the deterministic algorithm\n"
   ]
  },
  {
   "cell_type": "markdown",
   "metadata": {},
   "source": [
    "<br> The dataframe `df_dedup_det` is composed of 2 columns :\n",
    "- *unique_person_id* : this id is the *real* id for the patient\n",
    "- *person_id* : this id is another one, created by mistake\n",
    "\n",
    "We are going to clean the `df_person` dataframe by only keeping a single id per patient.\n",
    "- Create a dataframe `df_person_dedup_det` from `df_person` that contains 1 row per patient.\n",
    "\n",
    "TIPS : \n",
    "- Outer join `df_person` and `df_dedup_det` on *person_id* using the `pandas.merge()` function (see [doc](https://pandas.pydata.org/docs/reference/api/pandas.DataFrame.merge.html))\n",
    "- Fill in the *unique_person_id* column with the *person_id* column when empty using the `pandas.fillna()` function (see [doc](https://pandas.pydata.org/docs/reference/api/pandas.DataFrame.fillna.html))\n",
    "- If several rows have the same *unique_person_id*, only keep the first one using `pandas.drop_duplicates()` (see [doc](https://pandas.pydata.org/docs/reference/api/pandas.DataFrame.drop_duplicates.html))"
   ]
  },
  {
   "cell_type": "code",
   "execution_count": 87,
   "metadata": {},
   "outputs": [
    {
     "name": "stderr",
     "output_type": "stream",
     "text": [
      "C:\\Users\\4240737\\AppData\\Local\\Temp\\ipykernel_11260\\713715321.py:10: FutureWarning: Downcasting object dtype arrays on .fillna, .ffill, .bfill is deprecated and will change in a future version. Call result.infer_objects(copy=False) instead. To opt-in to the future behavior, set `pd.set_option('future.no_silent_downcasting', True)`\n",
      "  df_person_dedup_det['unique_person_id'] = df_person_dedup_det['unique_person_id'].fillna(df_person_dedup_det['person_id'])\n"
     ]
    }
   ],
   "source": [
    "# Merge df_person with df_dedup_det on 'person_id' using a left join\n",
    "df_person_dedup_det = df_person.merge(\n",
    "    df_dedup_det,\n",
    "    on='person_id',\n",
    "    how='outer'\n",
    ")\n",
    "\n",
    "# Create the new 'unique_person_id' column\n",
    "# If 'unique_person_id' from df_dedup_det is NaN, fill it with 'person_id' from df_person\n",
    "df_person_dedup_det['unique_person_id'] = df_person_dedup_det['unique_person_id'].fillna(df_person_dedup_det['person_id'])\n",
    "df_person_dedup_det.drop_duplicates(subset=['unique_person_id'], inplace=True)"
   ]
  },
  {
   "cell_type": "code",
   "execution_count": 88,
   "metadata": {},
   "outputs": [
    {
     "name": "stdout",
     "output_type": "stream",
     "text": [
      "<class 'pandas.core.frame.DataFrame'>\n",
      "Index: 64737 entries, 0 to 66767\n",
      "Data columns (total 6 columns):\n",
      " #   Column               Non-Null Count  Dtype         \n",
      "---  ------               --------------  -----         \n",
      " 0   person_id            64737 non-null  Int64         \n",
      " 1   birth_datetime       64737 non-null  datetime64[ns]\n",
      " 2   death_datetime       30681 non-null  datetime64[ns]\n",
      " 3   gender_source_value  64737 non-null  object        \n",
      " 4   cdm_source           64737 non-null  object        \n",
      " 5   unique_person_id     64737 non-null  Int64         \n",
      "dtypes: Int64(2), datetime64[ns](2), object(2)\n",
      "memory usage: 3.6+ MB\n"
     ]
    }
   ],
   "source": [
    "for col in ['person_id', 'unique_person_id']:\n",
    "    df_person_dedup_det[col] = pd.to_numeric(df_person_dedup_det[col], errors='coerce').astype('Int64')\n",
    "\n",
    "df_person_dedup_det.info()"
   ]
  },
  {
   "cell_type": "markdown",
   "metadata": {},
   "source": [
    "How many patients have we left ?"
   ]
  },
  {
   "cell_type": "code",
   "execution_count": 89,
   "metadata": {},
   "outputs": [
    {
     "name": "stdout",
     "output_type": "stream",
     "text": [
      "We have 64737 unique patient ids in this dataset when using the determinist algorithm.\n"
     ]
    }
   ],
   "source": [
    "print(f\"We have {df_person_dedup_det.person_id.nunique()} unique patient ids in this dataset when using the determinist algorithm.\")"
   ]
  },
  {
   "cell_type": "markdown",
   "metadata": {},
   "source": [
    "## 2.2 Deduplicatng using probabilistic algorithm\n",
    "\n",
    "<br> The dataframe `df_dedup_proba` is composed of 3 columns :\n",
    "- *unique_person_id* : this id is the *real* id for the patient\n",
    "- *person_id* : this id is another one, created by mistake\n",
    "- *prob* : the probability that the 2 these 2 ids are actually the same person\n",
    "\n",
    "Observe the distribution of the probabilities using `pandas.describe()` function"
   ]
  },
  {
   "cell_type": "code",
   "execution_count": 90,
   "metadata": {},
   "outputs": [
    {
     "data": {
      "text/html": [
       "<div>\n",
       "<style scoped>\n",
       "    .dataframe tbody tr th:only-of-type {\n",
       "        vertical-align: middle;\n",
       "    }\n",
       "\n",
       "    .dataframe tbody tr th {\n",
       "        vertical-align: top;\n",
       "    }\n",
       "\n",
       "    .dataframe thead th {\n",
       "        text-align: right;\n",
       "    }\n",
       "</style>\n",
       "<table border=\"1\" class=\"dataframe\">\n",
       "  <thead>\n",
       "    <tr style=\"text-align: right;\">\n",
       "      <th></th>\n",
       "      <th>unique_person_id</th>\n",
       "      <th>person_id</th>\n",
       "      <th>prob</th>\n",
       "    </tr>\n",
       "  </thead>\n",
       "  <tbody>\n",
       "    <tr>\n",
       "      <th>count</th>\n",
       "      <td>9.445000e+03</td>\n",
       "      <td>9445.0</td>\n",
       "      <td>9445.000000</td>\n",
       "    </tr>\n",
       "    <tr>\n",
       "      <th>mean</th>\n",
       "      <td>8.499789e+07</td>\n",
       "      <td>85013029.326522</td>\n",
       "      <td>0.577710</td>\n",
       "    </tr>\n",
       "    <tr>\n",
       "      <th>std</th>\n",
       "      <td>2.908403e+06</td>\n",
       "      <td>2891909.449076</td>\n",
       "      <td>0.389554</td>\n",
       "    </tr>\n",
       "    <tr>\n",
       "      <th>min</th>\n",
       "      <td>8.000051e+07</td>\n",
       "      <td>80000022.0</td>\n",
       "      <td>0.000023</td>\n",
       "    </tr>\n",
       "    <tr>\n",
       "      <th>25%</th>\n",
       "      <td>8.243744e+07</td>\n",
       "      <td>82492505.0</td>\n",
       "      <td>0.156758</td>\n",
       "    </tr>\n",
       "    <tr>\n",
       "      <th>50%</th>\n",
       "      <td>8.502407e+07</td>\n",
       "      <td>85025165.0</td>\n",
       "      <td>0.657442</td>\n",
       "    </tr>\n",
       "    <tr>\n",
       "      <th>75%</th>\n",
       "      <td>8.751843e+07</td>\n",
       "      <td>87531842.0</td>\n",
       "      <td>0.982158</td>\n",
       "    </tr>\n",
       "    <tr>\n",
       "      <th>max</th>\n",
       "      <td>8.999981e+07</td>\n",
       "      <td>89999726.0</td>\n",
       "      <td>1.000000</td>\n",
       "    </tr>\n",
       "  </tbody>\n",
       "</table>\n",
       "</div>"
      ],
      "text/plain": [
       "       unique_person_id        person_id         prob\n",
       "count      9.445000e+03           9445.0  9445.000000\n",
       "mean       8.499789e+07  85013029.326522     0.577710\n",
       "std        2.908403e+06   2891909.449076     0.389554\n",
       "min        8.000051e+07       80000022.0     0.000023\n",
       "25%        8.243744e+07       82492505.0     0.156758\n",
       "50%        8.502407e+07       85025165.0     0.657442\n",
       "75%        8.751843e+07       87531842.0     0.982158\n",
       "max        8.999981e+07       89999726.0     1.000000"
      ]
     },
     "execution_count": 90,
     "metadata": {},
     "output_type": "execute_result"
    }
   ],
   "source": [
    "df_dedup_proba.describe()"
   ]
  },
  {
   "cell_type": "code",
   "execution_count": 91,
   "metadata": {},
   "outputs": [
    {
     "name": "stdout",
     "output_type": "stream",
     "text": [
      "<class 'pandas.core.frame.DataFrame'>\n",
      "Index: 9445 entries, 81 to 975\n",
      "Data columns (total 3 columns):\n",
      " #   Column            Non-Null Count  Dtype  \n",
      "---  ------            --------------  -----  \n",
      " 0   unique_person_id  9445 non-null   Int64  \n",
      " 1   person_id         9445 non-null   Int64  \n",
      " 2   prob              9445 non-null   float64\n",
      "dtypes: Int64(2), float64(1)\n",
      "memory usage: 313.6 KB\n"
     ]
    }
   ],
   "source": [
    "for col in ['person_id', 'unique_person_id']:\n",
    "    df_dedup_proba[col] = pd.to_numeric(df_dedup_proba[col], errors='coerce').astype('Int64')\n",
    "\n",
    "df_dedup_proba.info()"
   ]
  },
  {
   "cell_type": "markdown",
   "metadata": {},
   "source": [
    "Plot the estimated density of the distribution of the probabilities using `pandas.plot.density()` (see [doc](https://pandas.pydata.org/docs/reference/api/pandas.DataFrame.plot.density.html))"
   ]
  },
  {
   "cell_type": "code",
   "execution_count": 92,
   "metadata": {},
   "outputs": [
    {
     "data": {
      "text/plain": [
       "<Axes: ylabel='Density'>"
      ]
     },
     "execution_count": 92,
     "metadata": {},
     "output_type": "execute_result"
    },
    {
     "data": {
      "image/png": "[encoded data removed]",
      "text/plain": [
       "<Figure size 640x480 with 1 Axes>"
      ]
     },
     "metadata": {},
     "output_type": "display_data"
    }
   ],
   "source": [
    "df_dedup_proba['prob'].plot.density()"
   ]
  },
  {
   "cell_type": "markdown",
   "metadata": {},
   "source": [
    "**QUESTION**\n",
    "Pourquoi des valeurs avant 0 et après 1 ?"
   ]
  },
  {
   "cell_type": "markdown",
   "metadata": {},
   "source": [
    "Why is there a peak at probability = 1?"
   ]
  },
  {
   "cell_type": "markdown",
   "metadata": {},
   "source": [
    "Create a function `deduplicate_proba(df_person: pd.DataFrame, df_dedup_proba: pd.DataFrame, score: int)` that returns a dataset of deduplicated person ids if their similarity score was above `score`.\n",
    "\n",
    "TIPS : \n",
    "- Create a subset dataframe `df_dedup_proba_score` of df_person_dedup_proba keeping only rows where `'prob' > score`\n",
    "- Outer join `df_person` and `df_dedup_proba_score` on *person_id* using the `pandas.merge()` function (see [doc](https://pandas.pydata.org/docs/reference/api/pandas.DataFrame.merge.html))\n",
    "- Fill in the *unique_person_id* column with the *person_id* column when empty using the `pandas.fillna()` function (see [doc](https://pandas.pydata.org/docs/reference/api/pandas.DataFrame.fillna.html))\n",
    "- If several rows have the same *unique_person_id*, only keep the first one using `pandas.drop_duplicates()` (see [doc](https://pandas.pydata.org/docs/reference/api/pandas.DataFrame.drop_duplicates.html))"
   ]
  },
  {
   "cell_type": "code",
   "execution_count": 103,
   "metadata": {},
   "outputs": [],
   "source": [
    "def deduplicate_proba(df_person: pd.DataFrame, df_dedup_proba: pd.DataFrame, score):\n",
    "    df_dedup_proba_score = df_dedup_proba.loc[df_dedup_proba.prob > score]\n",
    "    df_person_dedup_proba = df_person.merge(df_dedup_proba_score, on='person_id', how='outer')\n",
    "    df_person_dedup_proba['unique_person_id'] = df_person_dedup_proba['unique_person_id'].fillna(df_person_dedup_proba['person_id'])\n",
    "    df_person_dedup_proba.drop_duplicates(subset=['unique_person_id'], inplace=True)\n",
    "    return df_person_dedup_proba\n",
    "\n",
    "df_person_dedup_proba_90 = deduplicate_proba(df_person, df_dedup_proba,0.1)"
   ]
  },
  {
   "cell_type": "markdown",
   "metadata": {},
   "source": [
    "Create a dataframe `df_person_dedup_proba_90` that only keeps the similarity scores above 0.90.<br>\n",
    "How many patients do we have if the similarity score must be above 0.90 ?"
   ]
  },
  {
   "cell_type": "code",
   "execution_count": null,
   "metadata": {},
   "outputs": [
    {
     "name": "stdout",
     "output_type": "stream",
     "text": [
      "We have 66768 unique patient ids in this dataset when using the probabilistic algorithm and a threshold of 0.90.\n"
     ]
    }
   ],
   "source": [
    "df_person_dedup_proba_90 = deduplicate_proba(df_person, df_dedup_proba, 1.0)\n",
    "print(f\"We have {len(df_person_dedup_proba_90)} unique patient ids in this dataset when using the probabilistic algorithm and a threshold of 0.90.\")"
   ]
  },
  {
   "cell_type": "markdown",
   "metadata": {},
   "source": [
    "Create a dataframe `df_person_dedup_proba_20` that only keeps the similarity scores above 0.20.<br>\n",
    "How many patients do we have if the similarity score must be above 0.20 ?"
   ]
  },
  {
   "cell_type": "code",
   "execution_count": null,
   "metadata": {},
   "outputs": [],
   "source": [
    "df_person_dedup_proba_20 = #TODO\n",
    "print(f\"We have {#TODO} unique patient ids in this dataset when using the probabilistic algorithm and a threshold of 0.20.\")"
   ]
  },
  {
   "cell_type": "markdown",
   "metadata": {},
   "source": [
    "We can see that most linked records feature a high similarity score, but a significant amount of additional records would be matched by setting a low threshold. Let's compare two strategies for threshold setting, a high threshold strategy (*i.e.* keeping only high-confidence linkages, but missing some records that should be matched) and a low threshold strategy (*i.e.* linking most records that feature some similarities, among which some linkages correspond actually to different visits). \n",
    "<br>We choose as thresholds the values **0.9** and **0.2** to compare the consequences of both thresholds."
   ]
  },
  {
   "cell_type": "markdown",
   "metadata": {},
   "source": [
    "# 3. Statistical analysis\n",
    "\n",
    "Now that we have deduplicated patient ids,  we can conduct the statistical analysis showing the impact of the deduplication process. \n",
    "<br>We plot the Kaplan-Meier estimates of survival curves, and realize the log-rank tests.\n",
    "<br> The same functions `plot_primary_kaplan` used in the previous notebook can be used to plot the curves.\n",
    "<br> If needed, you can print the docstrings using `print(plot_primary_kaplan.__doc__)`.\n",
    "\n",
    "For this exercise, we have only kept the visits regarding the epidemic conditions. `df_visit` and `df_med` can be used to without any preprocessing."
   ]
  },
  {
   "cell_type": "code",
   "execution_count": 30,
   "metadata": {},
   "outputs": [],
   "source": [
    "t_end_of_study = datetime.date(2025,12,1)"
   ]
  },
  {
   "cell_type": "code",
   "execution_count": 31,
   "metadata": {},
   "outputs": [],
   "source": [
    " #Import the helper functions\n",
    "import sys\n",
    "sys.path.append(\"../\")\n",
    "from viz import plot_primary_kaplan, plot_secondary_kaplan"
   ]
  },
  {
   "cell_type": "code",
   "execution_count": 32,
   "metadata": {},
   "outputs": [
    {
     "name": "stdout",
     "output_type": "stream",
     "text": [
      "\n",
      "Function that displays survival curves computed by the KaplanMeierFitter function from the lifeline package. \n",
      "It compares the drugA and drugB effects to the control cohort.\n",
      "\n",
      "Parameters\n",
      "----------\n",
      ":param df_person_kaplan: pandas df,\n",
      "    DataFrame gathering the demographic data about the patients of interest.\n",
      "    Must have the same structure as the initial `df_person` table (must contain especially `person_id`\n",
      "    and potential `death_datetime`).\n",
      ":param list_case: list of tuples,\n",
      "    List of studied case for the survival analysis.\n",
      "    List of tuple (df_visit-pandas df-, df_med-pandas df-, name-str-) having :\n",
      "        - df_visit : hospitalization DataFrame, with information on entry/exit dates\n",
      "        - df_med : drug administration DataFrame, must contain ONLY the drugs of interest (i.e epidemic)\n",
      "        - name : name of the studied case (for visualization purposes)\n",
      ":param t_end_of_study: datetime.date,\n",
      "    Date of the end of the study, i.e after which no information can be trusted (censoring).\n",
      "\n",
      "Returns\n",
      "-------\n",
      ":return: None\n",
      "    Plots the survival curves built by the Kaplan-Meier estimates.\n",
      "\n"
     ]
    }
   ],
   "source": [
    "print(plot_primary_kaplan.__doc__)"
   ]
  },
  {
   "cell_type": "markdown",
   "metadata": {},
   "source": [
    "## 3.1 Without deduplicating the person dataset\n",
    "\n",
    "Plot the  primary Kaplan-Meier estimates for the whole `df_person` DataFrame"
   ]
  },
  {
   "cell_type": "code",
   "execution_count": 140,
   "metadata": {},
   "outputs": [
    {
     "data": {
      "image/png": "[encoded data removed]",
      "text/plain": [
       "<Figure size 1050x550 with 4 Axes>"
      ]
     },
     "metadata": {},
     "output_type": "display_data"
    }
   ],
   "source": [
    "plot_primary_kaplan(df_person,[(df_visit,df_med,\"all pop\")],t_end_of_study)"
   ]
  },
  {
   "cell_type": "markdown",
   "metadata": {},
   "source": [
    "What can be concluded on the effect of each drugs?"
   ]
  },
  {
   "cell_type": "markdown",
   "metadata": {},
   "source": [
    "## 3.2 Using the determinist deduplication\n",
    "\n",
    "Plot the  primary Kaplan-Meier estimates for the whole `df_person_dedup_det` dataFrame"
   ]
  },
  {
   "cell_type": "code",
   "execution_count": 141,
   "metadata": {},
   "outputs": [
    {
     "data": {
      "image/png": "[encoded data removed]",
      "text/plain": [
       "<Figure size 1050x550 with 4 Axes>"
      ]
     },
     "metadata": {},
     "output_type": "display_data"
    }
   ],
   "source": [
    "plot_primary_kaplan(df_person_dedup_det,[(df_visit,df_med,\"all pop\")],t_end_of_study)"
   ]
  },
  {
   "cell_type": "markdown",
   "metadata": {},
   "source": [
    "What can be concluded on the effect of each drugs?"
   ]
  },
  {
   "cell_type": "markdown",
   "metadata": {},
   "source": [
    "## 3.2 Using the probabilistic deduplication\n",
    "\n",
    "Plot the  primary Kaplan-Meier estimates for the whole `df_person_dedup_proba_90` dataFrame"
   ]
  },
  {
   "cell_type": "code",
   "execution_count": null,
   "metadata": {},
   "outputs": [],
   "source": [
    "#TODO"
   ]
  },
  {
   "cell_type": "markdown",
   "metadata": {},
   "source": [
    "What can be concluded on the effect of each drugs?"
   ]
  },
  {
   "cell_type": "markdown",
   "metadata": {},
   "source": [
    "Plot the  primary Kaplan-Meier estimates for the whole `df_person_dedup_proba_20` dataFrame"
   ]
  },
  {
   "cell_type": "code",
   "execution_count": null,
   "metadata": {},
   "outputs": [],
   "source": [
    "#TODO"
   ]
  },
  {
   "cell_type": "markdown",
   "metadata": {},
   "source": [
    "The survival curves obtained with the low value threshold diverge strongly from the high value threshold or from the survival curves computed using the deterministic algorithm. Our confidence in the low value threshold is therefore low, but we should keep investigating this issue, for instance realizing a validation of the probabilistic linkage by a chart review campaign.\n",
    "\n",
    "In this exercise, we have shown some challenges related to the linkage of records in a clinical data warehouse. Various strategies may be adopted, and this methodological choice once more impacts the final results. "
   ]
  },
  {
   "attachments": {},
   "cell_type": "markdown",
   "metadata": {},
   "source": [
    "# 4. Takeaways\n",
    "\n",
    "- Clinical data warehouses contain **data collected in various clinical softwares** that may not always share **common identifiers**.\n",
    "- It appears necessary to **link data coming from different softwares** prior to they statistical analysis (linkage to a common identity, to a visit occurrence, etc.). Linkage may rely on common identifiers or on more involved linkage algorithms.\n",
    "- Linkage algorithms are commonly divided in **deterministic linkage** algorithms and in **probabilistic linkage** algorithms. Whereas deterministic algorithms rely on simple rules to match identifiers, probabilistic algorithms compute a similarity metric between pairs of records.\n",
    "- Methodological choices related to data linkage may impact the result of the overall analysis"
   ]
  },
  {
   "cell_type": "markdown",
   "metadata": {},
   "source": [
    "# 5. References\n",
    "\n",
    "- Harron, Katie, Harvey Goldstein, et Chris Dibben. Methodological Developments in Data Linkage. Wiley Series in Probability and Statistics. Wiley, 2016.\n",
    "- Harron, Katie, Angie Wade, Ruth Gilbert, Berit Muller-Pebody, et Harvey Goldstein. « Evaluating Bias Due to Data Linkage Error in Electronic Healthcare Records ». BMC Medical Research Methodology 14, nᵒ 1 (décembre 2014): 36. https://doi.org/10.1186/1471-2288-14-36.\n",
    "- Gilbert, Ruth, Rosemary Lafferty, Gareth Hagger-Johnson, Katie Harron, Li-Chun Zhang, Peter Smith, Chris Dibben, et Harvey Goldstein. « GUILD: GUidance for Information about Linking Data Sets† ». Journal of Public Health 40, nᵒ 1 (1 mars 2018): 191‑98. https://doi.org/10.1093/pubmed/fdx037.\n",
    "- Vatsalan, Dinusha, Peter Christen, et Vassilios S. Verykios. « A Taxonomy of Privacy-Preserving Record Linkage Techniques ». Information Systems 38, nᵒ 6 (septembre 2013): 946‑69. https://doi.org/10.1016/j.is.2012.11.005."
   ]
  }
 ],
 "metadata": {
  "kernelspec": {
   "display_name": "venv",
   "language": "python",
   "name": "python3"
  },
  "language_info": {
   "codemirror_mode": {
    "name": "ipython",
    "version": 3
   },
   "file_extension": ".py",
   "mimetype": "text/x-python",
   "name": "python",
   "nbconvert_exporter": "python",
   "pygments_lexer": "ipython3",
   "version": "3.13.1"
  }
 },
 "nbformat": 4,
 "nbformat_minor": 4
}
