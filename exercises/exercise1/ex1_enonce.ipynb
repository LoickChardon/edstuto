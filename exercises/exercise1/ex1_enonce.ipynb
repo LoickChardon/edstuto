{
 "cells": [
  {
   "cell_type": "markdown",
   "metadata": {},
   "source": [
    "<a id=\"data_exploration\"></a>\n",
    "# 1. Data Exploration"
   ]
  },
  {
   "cell_type": "markdown",
   "metadata": {},
   "source": [
    "The dataset is available in the */data* folder. The database structure is freely inspired from the AP-HP Clinical Data Warehouse (CDW).\n",
    "\n",
    "Let's assume that data were extracted from the CDW on **December 1st, 2025**."
   ]
  },
  {
   "cell_type": "markdown",
   "metadata": {},
   "source": [
    "# Exercise 1: a first illustration of Real-World Data (RWD) analysis"
   ]
  },
  {
   "cell_type": "markdown",
   "metadata": {},
   "source": [
    "In this first exercise we introduce some basic categories of RWD and we illustrate some of the challenges related to their preprocessing for research.\n",
    "\n",
    "We initialize the notebook by importing the following libraries:"
   ]
  },
  {
   "cell_type": "code",
   "execution_count": 76,
   "metadata": {},
   "outputs": [],
   "source": [
    "import pandas as pd\n",
    "import numpy as np\n",
    "\n",
    "# Visualization library\n",
    "import altair as alt\n",
    "alt.data_transformers.enable('default', max_rows=None)\n",
    "\n",
    "# Dates management\n",
    "import datetime\n",
    "\n",
    "# For the computation of Kaplan-Meier estimates and log-rank tests\n",
    "import lifelines"
   ]
  },
  {
   "cell_type": "markdown",
   "metadata": {},
   "source": [
    "# Table of content"
   ]
  },
  {
   "attachments": {},
   "cell_type": "markdown",
   "metadata": {},
   "source": [
    "1. [Data Exploration](#data_exploration)  \n",
    "    1.1 [Patients' identities and demographic data](#patient_ids)  \n",
    "    1.2 [Administrative data related to patients' pathways](#visits)  \n",
    "    1.3 [Claim data related to patients' conditions (diagnosis)](#cond)  \n",
    "    1.4 [Structured medication data](#med)  \n",
    "2. [Preprocessing](#preprocessing)  \n",
    "    2.1 [First attempt of visualizing survival curves](#first_kaplan)  \n",
    "    2.2 [Pre-processing patients' identities and demographic data](#prepro_patient)  \n",
    "    2.3 [Pre-processing administrative data related to patients' pathways](#prepro_visits)  \n",
    "    2.4 [Pre-processing claim data](#prepro_cond)  \n",
    "3. [Statistical analysis](#stat)  \n",
    "    3.1 [First objective : Are the drugs efficient on the overall population ?](#stat_first_kaplan)  \n",
    "    3.2 [Second objective : Sub-population analysis](#stat_second_kaplan)  \n",
    "4. [Takeaways](#takeaways) \n",
    "5. [References](#references)  "
   ]
  },
  {
   "cell_type": "markdown",
   "metadata": {},
   "source": [
    "<a id=\"data_exploration\"></a>\n",
    "# 1. Data Exploration"
   ]
  },
  {
   "cell_type": "markdown",
   "metadata": {},
   "source": [
    "The dataset is available in the */data* folder. The database structure is freely inspired from the AP-HP Clinical Data Warehouse (CDW).\n",
    "\n",
    "Let's assume that data were extracted from the CDW on **December 1st, 2025**."
   ]
  },
  {
   "cell_type": "markdown",
   "metadata": {},
   "source": [
    "<a id=\"patient_ids\"></a>\n",
    "## 1.1 Patients' identities and demographic data"
   ]
  },
  {
   "cell_type": "markdown",
   "metadata": {},
   "source": [
    "- Open the *data/df_person.pkl* file using the `pandas.read_pickle()` function.\n",
    "- Explore the type of each feature of the `df_person` DataFrame with the `.info()` function.\n",
    "- Check out the first rows of the DataFrame using the `.head()` function."
   ]
  },
  {
   "cell_type": "code",
   "execution_count": 3,
   "metadata": {},
   "outputs": [
    {
     "name": "stdout",
     "output_type": "stream",
     "text": [
      "<class 'pandas.core.frame.DataFrame'>\n",
      "Index: 57000 entries, 0 to 1749\n",
      "Data columns (total 5 columns):\n",
      " #   Column               Non-Null Count  Dtype         \n",
      "---  ------               --------------  -----         \n",
      " 0   person_id            57000 non-null  int64         \n",
      " 1   birth_datetime       51249 non-null  datetime64[ns]\n",
      " 2   death_datetime       26194 non-null  datetime64[ns]\n",
      " 3   gender_source_value  57000 non-null  object        \n",
      " 4   cdm_source           57000 non-null  object        \n",
      "dtypes: datetime64[ns](2), int64(1), object(2)\n",
      "memory usage: 2.6+ MB\n"
     ]
    },
    {
     "data": {
      "text/html": [
       "<div>\n",
       "<style scoped>\n",
       "    .dataframe tbody tr th:only-of-type {\n",
       "        vertical-align: middle;\n",
       "    }\n",
       "\n",
       "    .dataframe tbody tr th {\n",
       "        vertical-align: top;\n",
       "    }\n",
       "\n",
       "    .dataframe thead th {\n",
       "        text-align: right;\n",
       "    }\n",
       "</style>\n",
       "<table border=\"1\" class=\"dataframe\">\n",
       "  <thead>\n",
       "    <tr style=\"text-align: right;\">\n",
       "      <th></th>\n",
       "      <th>person_id</th>\n",
       "      <th>birth_datetime</th>\n",
       "      <th>death_datetime</th>\n",
       "      <th>gender_source_value</th>\n",
       "      <th>cdm_source</th>\n",
       "    </tr>\n",
       "  </thead>\n",
       "  <tbody>\n",
       "    <tr>\n",
       "      <th>0</th>\n",
       "      <td>85902261</td>\n",
       "      <td>2012-04-06</td>\n",
       "      <td>2025-10-14</td>\n",
       "      <td>f</td>\n",
       "      <td>EHR 1</td>\n",
       "    </tr>\n",
       "    <tr>\n",
       "      <th>1</th>\n",
       "      <td>80206244</td>\n",
       "      <td>2014-05-09</td>\n",
       "      <td>NaT</td>\n",
       "      <td>f</td>\n",
       "      <td>EHR 1</td>\n",
       "    </tr>\n",
       "    <tr>\n",
       "      <th>2</th>\n",
       "      <td>83994765</td>\n",
       "      <td>2006-08-22</td>\n",
       "      <td>NaT</td>\n",
       "      <td>f</td>\n",
       "      <td>EHR 1</td>\n",
       "    </tr>\n",
       "    <tr>\n",
       "      <th>3</th>\n",
       "      <td>89192524</td>\n",
       "      <td>2018-09-18</td>\n",
       "      <td>NaT</td>\n",
       "      <td>f</td>\n",
       "      <td>EHR 1</td>\n",
       "    </tr>\n",
       "    <tr>\n",
       "      <th>4</th>\n",
       "      <td>81459188</td>\n",
       "      <td>2014-08-20</td>\n",
       "      <td>NaT</td>\n",
       "      <td>f</td>\n",
       "      <td>EHR 1</td>\n",
       "    </tr>\n",
       "  </tbody>\n",
       "</table>\n",
       "</div>"
      ],
      "text/plain": [
       "   person_id birth_datetime death_datetime gender_source_value cdm_source\n",
       "0   85902261     2012-04-06     2025-10-14                   f      EHR 1\n",
       "1   80206244     2014-05-09            NaT                   f      EHR 1\n",
       "2   83994765     2006-08-22            NaT                   f      EHR 1\n",
       "3   89192524     2018-09-18            NaT                   f      EHR 1\n",
       "4   81459188     2014-08-20            NaT                   f      EHR 1"
      ]
     },
     "execution_count": 3,
     "metadata": {},
     "output_type": "execute_result"
    }
   ],
   "source": [
    "df_person = pd.read_pickle('data/df_person.pkl')\n",
    "df_person.info()\n",
    "df_person.head()"
   ]
  },
  {
   "cell_type": "markdown",
   "metadata": {},
   "source": [
    "How many patient_ids do we have in this database ?\n",
    "\n",
    "TIP : You can use the `DataFrame.col_name.unique()` function on one of the columns"
   ]
  },
  {
   "cell_type": "code",
   "execution_count": 4,
   "metadata": {},
   "outputs": [
    {
     "name": "stdout",
     "output_type": "stream",
     "text": [
      "We have 57000 unique patient ids in this dataset.\n"
     ]
    }
   ],
   "source": [
    "print(f\"We have {df_person[\"person_id\"].nunique()} unique patient ids in this dataset.\")"
   ]
  },
  {
   "cell_type": "markdown",
   "metadata": {},
   "source": [
    "<a id=\"visits\"></a>\n",
    "## 1.2 Administrative data related to patients' pathways"
   ]
  },
  {
   "cell_type": "markdown",
   "metadata": {},
   "source": [
    "Explore the `df_visit` DataFrame that gathers administrative data about patient's hospitalizations."
   ]
  },
  {
   "cell_type": "code",
   "execution_count": 5,
   "metadata": {},
   "outputs": [
    {
     "name": "stdout",
     "output_type": "stream",
     "text": [
      "<class 'pandas.core.frame.DataFrame'>\n",
      "Index: 57000 entries, 0 to 1749\n",
      "Data columns (total 6 columns):\n",
      " #   Column                Non-Null Count  Dtype         \n",
      "---  ------                --------------  -----         \n",
      " 0   visit_occurrence_id   57000 non-null  int64         \n",
      " 1   care_site_id          57000 non-null  object        \n",
      " 2   visit_start_datetime  57000 non-null  datetime64[ns]\n",
      " 3   visit_end_datetime    56599 non-null  datetime64[ns]\n",
      " 4   person_id             57000 non-null  int64         \n",
      " 5   visit_source_value    57000 non-null  object        \n",
      "dtypes: datetime64[ns](2), int64(2), object(2)\n",
      "memory usage: 3.0+ MB\n"
     ]
    },
    {
     "data": {
      "text/html": [
       "<div>\n",
       "<style scoped>\n",
       "    .dataframe tbody tr th:only-of-type {\n",
       "        vertical-align: middle;\n",
       "    }\n",
       "\n",
       "    .dataframe tbody tr th {\n",
       "        vertical-align: top;\n",
       "    }\n",
       "\n",
       "    .dataframe thead th {\n",
       "        text-align: right;\n",
       "    }\n",
       "</style>\n",
       "<table border=\"1\" class=\"dataframe\">\n",
       "  <thead>\n",
       "    <tr style=\"text-align: right;\">\n",
       "      <th></th>\n",
       "      <th>visit_occurrence_id</th>\n",
       "      <th>care_site_id</th>\n",
       "      <th>visit_start_datetime</th>\n",
       "      <th>visit_end_datetime</th>\n",
       "      <th>person_id</th>\n",
       "      <th>visit_source_value</th>\n",
       "    </tr>\n",
       "  </thead>\n",
       "  <tbody>\n",
       "    <tr>\n",
       "      <th>0</th>\n",
       "      <td>87039763</td>\n",
       "      <td>Hopital M.Bres</td>\n",
       "      <td>2024-12-24</td>\n",
       "      <td>2025-01-10</td>\n",
       "      <td>85935943</td>\n",
       "      <td>Hospitalisés</td>\n",
       "    </tr>\n",
       "    <tr>\n",
       "      <th>1</th>\n",
       "      <td>83184379</td>\n",
       "      <td>Centre F.Sinoussi</td>\n",
       "      <td>2025-09-01</td>\n",
       "      <td>2025-09-21</td>\n",
       "      <td>87104656</td>\n",
       "      <td>Hospitalisés</td>\n",
       "    </tr>\n",
       "    <tr>\n",
       "      <th>2</th>\n",
       "      <td>87368296</td>\n",
       "      <td>Hopital M.Bres</td>\n",
       "      <td>2023-01-08</td>\n",
       "      <td>2023-01-08</td>\n",
       "      <td>80785788</td>\n",
       "      <td>Hospitalisés</td>\n",
       "    </tr>\n",
       "    <tr>\n",
       "      <th>3</th>\n",
       "      <td>84290710</td>\n",
       "      <td>Hopital M.Bres</td>\n",
       "      <td>2024-11-27</td>\n",
       "      <td>2024-12-13</td>\n",
       "      <td>82815332</td>\n",
       "      <td>Hospitalisés</td>\n",
       "    </tr>\n",
       "    <tr>\n",
       "      <th>4</th>\n",
       "      <td>87357364</td>\n",
       "      <td>Centre F.Sinoussi</td>\n",
       "      <td>2025-07-29</td>\n",
       "      <td>2025-08-07</td>\n",
       "      <td>80509718</td>\n",
       "      <td>Hospitalisés</td>\n",
       "    </tr>\n",
       "  </tbody>\n",
       "</table>\n",
       "</div>"
      ],
      "text/plain": [
       "   visit_occurrence_id       care_site_id visit_start_datetime  \\\n",
       "0             87039763     Hopital M.Bres           2024-12-24   \n",
       "1             83184379  Centre F.Sinoussi           2025-09-01   \n",
       "2             87368296     Hopital M.Bres           2023-01-08   \n",
       "3             84290710     Hopital M.Bres           2024-11-27   \n",
       "4             87357364  Centre F.Sinoussi           2025-07-29   \n",
       "\n",
       "  visit_end_datetime  person_id visit_source_value  \n",
       "0         2025-01-10   85935943       Hospitalisés  \n",
       "1         2025-09-21   87104656       Hospitalisés  \n",
       "2         2023-01-08   80785788       Hospitalisés  \n",
       "3         2024-12-13   82815332       Hospitalisés  \n",
       "4         2025-08-07   80509718       Hospitalisés  "
      ]
     },
     "execution_count": 5,
     "metadata": {},
     "output_type": "execute_result"
    }
   ],
   "source": [
    "df_visit = pd.read_pickle('data/df_visit.pkl')\n",
    "df_visit.info()\n",
    "df_visit.head()"
   ]
  },
  {
   "cell_type": "markdown",
   "metadata": {},
   "source": [
    "Compute the number of visits recorded by care site.\n",
    "\n",
    "TIP : You can use the `DataFrame.col_name.value_counts()`function on the right column"
   ]
  },
  {
   "cell_type": "code",
   "execution_count": 12,
   "metadata": {},
   "outputs": [
    {
     "data": {
      "text/html": [
       "<div>\n",
       "<style scoped>\n",
       "    .dataframe tbody tr th:only-of-type {\n",
       "        vertical-align: middle;\n",
       "    }\n",
       "\n",
       "    .dataframe tbody tr th {\n",
       "        vertical-align: top;\n",
       "    }\n",
       "\n",
       "    .dataframe thead th {\n",
       "        text-align: right;\n",
       "    }\n",
       "</style>\n",
       "<table border=\"1\" class=\"dataframe\">\n",
       "  <thead>\n",
       "    <tr style=\"text-align: right;\">\n",
       "      <th></th>\n",
       "      <th>care_site_id</th>\n",
       "      <th>visit_occurrence_id</th>\n",
       "    </tr>\n",
       "  </thead>\n",
       "  <tbody>\n",
       "    <tr>\n",
       "      <th>0</th>\n",
       "      <td>Centre F.Sinoussi</td>\n",
       "      <td>14147</td>\n",
       "    </tr>\n",
       "    <tr>\n",
       "      <th>1</th>\n",
       "      <td>Clinique L.Pasteur</td>\n",
       "      <td>14349</td>\n",
       "    </tr>\n",
       "    <tr>\n",
       "      <th>2</th>\n",
       "      <td>GHU A.Fleming</td>\n",
       "      <td>14390</td>\n",
       "    </tr>\n",
       "    <tr>\n",
       "      <th>3</th>\n",
       "      <td>Hopital M.Bres</td>\n",
       "      <td>14114</td>\n",
       "    </tr>\n",
       "  </tbody>\n",
       "</table>\n",
       "</div>"
      ],
      "text/plain": [
       "         care_site_id  visit_occurrence_id\n",
       "0   Centre F.Sinoussi                14147\n",
       "1  Clinique L.Pasteur                14349\n",
       "2       GHU A.Fleming                14390\n",
       "3      Hopital M.Bres                14114"
      ]
     },
     "execution_count": 12,
     "metadata": {},
     "output_type": "execute_result"
    }
   ],
   "source": [
    "df_visit.groupby('care_site_id')['visit_occurrence_id'].nunique().reset_index()"
   ]
  },
  {
   "cell_type": "markdown",
   "metadata": {},
   "source": [
    "<a id=\"cond\"></a>\n",
    "## 1.3 Claim data related to patients' conditions (diagnosis)"
   ]
  },
  {
   "cell_type": "markdown",
   "metadata": {},
   "source": [
    "Explore the `df_condition` DataFrame that gathers claim data used by hospital managers for reimbursement purposes.\n",
    "\n",
    "Meeting with experts has allowed us to identify the ICD-10 codes corresponding to the flu virus :\n",
    "- J09\n",
    "- J10\n",
    "- J11\n",
    "\n",
    "You can check out on the following website the meaning of those codes : https://www.aideaucodage.fr/cim"
   ]
  },
  {
   "cell_type": "code",
   "execution_count": 31,
   "metadata": {},
   "outputs": [
    {
     "name": "stdout",
     "output_type": "stream",
     "text": [
      "<class 'pandas.core.frame.DataFrame'>\n",
      "Index: 57000 entries, 0 to 1749\n",
      "Data columns (total 4 columns):\n",
      " #   Column                   Non-Null Count  Dtype \n",
      "---  ------                   --------------  ----- \n",
      " 0   visit_occurrence_id      57000 non-null  int64 \n",
      " 1   person_id                57000 non-null  int64 \n",
      " 2   condition_occurrence_id  57000 non-null  int64 \n",
      " 3   condition_source_value   57000 non-null  object\n",
      "dtypes: int64(3), object(1)\n",
      "memory usage: 2.2+ MB\n"
     ]
    },
    {
     "data": {
      "text/html": [
       "<div>\n",
       "<style scoped>\n",
       "    .dataframe tbody tr th:only-of-type {\n",
       "        vertical-align: middle;\n",
       "    }\n",
       "\n",
       "    .dataframe tbody tr th {\n",
       "        vertical-align: top;\n",
       "    }\n",
       "\n",
       "    .dataframe thead th {\n",
       "        text-align: right;\n",
       "    }\n",
       "</style>\n",
       "<table border=\"1\" class=\"dataframe\">\n",
       "  <thead>\n",
       "    <tr style=\"text-align: right;\">\n",
       "      <th></th>\n",
       "      <th>visit_occurrence_id</th>\n",
       "      <th>person_id</th>\n",
       "      <th>condition_occurrence_id</th>\n",
       "      <th>condition_source_value</th>\n",
       "    </tr>\n",
       "  </thead>\n",
       "  <tbody>\n",
       "    <tr>\n",
       "      <th>0</th>\n",
       "      <td>87039763</td>\n",
       "      <td>85935943</td>\n",
       "      <td>86006023</td>\n",
       "      <td>J10</td>\n",
       "    </tr>\n",
       "    <tr>\n",
       "      <th>1</th>\n",
       "      <td>83184379</td>\n",
       "      <td>87104656</td>\n",
       "      <td>87765316</td>\n",
       "      <td>J11</td>\n",
       "    </tr>\n",
       "    <tr>\n",
       "      <th>2</th>\n",
       "      <td>87368296</td>\n",
       "      <td>80785788</td>\n",
       "      <td>89665004</td>\n",
       "      <td>J09</td>\n",
       "    </tr>\n",
       "    <tr>\n",
       "      <th>3</th>\n",
       "      <td>84290710</td>\n",
       "      <td>82815332</td>\n",
       "      <td>84026043</td>\n",
       "      <td>J10</td>\n",
       "    </tr>\n",
       "    <tr>\n",
       "      <th>4</th>\n",
       "      <td>87357364</td>\n",
       "      <td>80509718</td>\n",
       "      <td>86346709</td>\n",
       "      <td>J10</td>\n",
       "    </tr>\n",
       "  </tbody>\n",
       "</table>\n",
       "</div>"
      ],
      "text/plain": [
       "   visit_occurrence_id  person_id  condition_occurrence_id  \\\n",
       "0             87039763   85935943                 86006023   \n",
       "1             83184379   87104656                 87765316   \n",
       "2             87368296   80785788                 89665004   \n",
       "3             84290710   82815332                 84026043   \n",
       "4             87357364   80509718                 86346709   \n",
       "\n",
       "  condition_source_value  \n",
       "0                    J10  \n",
       "1                    J11  \n",
       "2                    J09  \n",
       "3                    J10  \n",
       "4                    J10  "
      ]
     },
     "execution_count": 31,
     "metadata": {},
     "output_type": "execute_result"
    }
   ],
   "source": [
    "df_condition = pd.read_pickle('data/df_condition.pkl')\n",
    "df_condition.info()\n",
    "df_condition.head()"
   ]
  },
  {
   "cell_type": "markdown",
   "metadata": {},
   "source": [
    "How many ICD-10 codes can you identify in this dataset ?  \n",
    "\n",
    "TIP : You can use the `DataFrame.col_name.unique()` function."
   ]
  },
  {
   "cell_type": "code",
   "execution_count": 20,
   "metadata": {},
   "outputs": [
    {
     "name": "stdout",
     "output_type": "stream",
     "text": [
      "The available ICD-10 codes are the following : ['J10' 'J11' 'J09' 'B019' 'V9544' 'U0715']\n"
     ]
    }
   ],
   "source": [
    "print(f\"The available ICD-10 codes are the following : {df_condition[\"condition_source_value\"].unique()}\")"
   ]
  },
  {
   "cell_type": "markdown",
   "metadata": {},
   "source": [
    "<a id=\"med\"></a>\n",
    "## 1.4 Structured medication data"
   ]
  },
  {
   "cell_type": "markdown",
   "metadata": {},
   "source": [
    "Explore the `df_med` DataFrame gathering structured data in regards to medication administration during hospital stays."
   ]
  },
  {
   "cell_type": "code",
   "execution_count": 32,
   "metadata": {},
   "outputs": [
    {
     "name": "stdout",
     "output_type": "stream",
     "text": [
      "<class 'pandas.core.frame.DataFrame'>\n",
      "Index: 38000 entries, 0 to 3499\n",
      "Data columns (total 4 columns):\n",
      " #   Column               Non-Null Count  Dtype \n",
      "---  ------               --------------  ----- \n",
      " 0   visit_occurrence_id  38000 non-null  object\n",
      " 1   drug_exposure_id     38000 non-null  object\n",
      " 2   drug_source_value    38000 non-null  object\n",
      " 3   cdm_source           38000 non-null  object\n",
      "dtypes: object(4)\n",
      "memory usage: 1.4+ MB\n"
     ]
    },
    {
     "data": {
      "text/html": [
       "<div>\n",
       "<style scoped>\n",
       "    .dataframe tbody tr th:only-of-type {\n",
       "        vertical-align: middle;\n",
       "    }\n",
       "\n",
       "    .dataframe tbody tr th {\n",
       "        vertical-align: top;\n",
       "    }\n",
       "\n",
       "    .dataframe thead th {\n",
       "        text-align: right;\n",
       "    }\n",
       "</style>\n",
       "<table border=\"1\" class=\"dataframe\">\n",
       "  <thead>\n",
       "    <tr style=\"text-align: right;\">\n",
       "      <th></th>\n",
       "      <th>visit_occurrence_id</th>\n",
       "      <th>drug_exposure_id</th>\n",
       "      <th>drug_source_value</th>\n",
       "      <th>cdm_source</th>\n",
       "    </tr>\n",
       "  </thead>\n",
       "  <tbody>\n",
       "    <tr>\n",
       "      <th>0</th>\n",
       "      <td>83508825</td>\n",
       "      <td>81635492</td>\n",
       "      <td>drugA</td>\n",
       "      <td>EHR med</td>\n",
       "    </tr>\n",
       "    <tr>\n",
       "      <th>1</th>\n",
       "      <td>84793089</td>\n",
       "      <td>81981242</td>\n",
       "      <td>drugA</td>\n",
       "      <td>EHR med</td>\n",
       "    </tr>\n",
       "    <tr>\n",
       "      <th>2</th>\n",
       "      <td>81363581</td>\n",
       "      <td>81049850</td>\n",
       "      <td>drugA</td>\n",
       "      <td>EHR med</td>\n",
       "    </tr>\n",
       "    <tr>\n",
       "      <th>3</th>\n",
       "      <td>84194047</td>\n",
       "      <td>89471075</td>\n",
       "      <td>drugA</td>\n",
       "      <td>EHR med</td>\n",
       "    </tr>\n",
       "    <tr>\n",
       "      <th>4</th>\n",
       "      <td>86390630</td>\n",
       "      <td>88647388</td>\n",
       "      <td>drugA</td>\n",
       "      <td>EHR med</td>\n",
       "    </tr>\n",
       "  </tbody>\n",
       "</table>\n",
       "</div>"
      ],
      "text/plain": [
       "  visit_occurrence_id drug_exposure_id drug_source_value cdm_source\n",
       "0            83508825         81635492             drugA    EHR med\n",
       "1            84793089         81981242             drugA    EHR med\n",
       "2            81363581         81049850             drugA    EHR med\n",
       "3            84194047         89471075             drugA    EHR med\n",
       "4            86390630         88647388             drugA    EHR med"
      ]
     },
     "execution_count": 32,
     "metadata": {},
     "output_type": "execute_result"
    }
   ],
   "source": [
    "df_med = pd.read_pickle('data/df_med.pkl')\n",
    "df_med.info()\n",
    "df_med.head()"
   ]
  },
  {
   "cell_type": "markdown",
   "metadata": {},
   "source": [
    "<a id=\"preprocessing\"></a>\n",
    "# 2. Preprocessing"
   ]
  },
  {
   "cell_type": "markdown",
   "metadata": {},
   "source": [
    "Now that we know what categories of data are available, let's process them!\n",
    "\n",
    "We have defined two helper functions in the *viz.py* script that leverage the [*lifelines*](https://lifelines.readthedocs.io/en/latest/) library to plot Kaplan-Meier estimates and compute log-rank tests relatively to our objectives :  \n",
    "1. Evaluate the overall impact of drug A and B\n",
    "2. Stratify our analysis on age and gender"
   ]
  },
  {
   "cell_type": "code",
   "execution_count": 77,
   "metadata": {},
   "outputs": [],
   "source": [
    "#Import the helper functions\n",
    "import sys\n",
    "sys.path.append(\"../\")\n",
    "sys.path.append(\"data/\")\n",
    "from viz import plot_primary_kaplan, plot_secondary_kaplan"
   ]
  },
  {
   "cell_type": "markdown",
   "metadata": {},
   "source": [
    "<a id=\"first_kaplan\"></a>\n",
    "## 2.1 First attempt of visualizing survival curves"
   ]
  },
  {
   "attachments": {},
   "cell_type": "markdown",
   "metadata": {},
   "source": [
    "Let's try to compute straightforwardly the Kaplan-Meier estimates!  \n",
    "\n",
    "First define the end date of the study, as needed to censor data, using the [*datetime*](https://pypi.org/project/DateTime/) package."
   ]
  },
  {
   "cell_type": "code",
   "execution_count": 90,
   "metadata": {},
   "outputs": [],
   "source": [
    "end_of_study = datetime.date(2025,12,1)"
   ]
  },
  {
   "cell_type": "markdown",
   "metadata": {},
   "source": [
    "Print the docstrings of the `plot_primary_kaplan` function, and use them to plot the first Kaplan-Meier estimates for the whole population regarding the drug administration.\n",
    "\n",
    "TIP : To print the documentation of a function, you can call the `__doc__`attribute of the function."
   ]
  },
  {
   "cell_type": "code",
   "execution_count": 24,
   "metadata": {},
   "outputs": [
    {
     "name": "stdout",
     "output_type": "stream",
     "text": [
      "\n",
      "Function that displays survival curves computed by the KaplanMeierFitter function from the lifeline package. \n",
      "It compares the drugA and drugB effects to the control cohort.\n",
      "\n",
      "Parameters\n",
      "----------\n",
      ":param df_person_kaplan: pandas df,\n",
      "    DataFrame gathering the demographic data about the patients of interest.\n",
      "    Must have the same structure as the initial `df_person` table (must contain especially `person_id`\n",
      "    and potential `death_datetime`).\n",
      ":param list_case: list of tuples,\n",
      "    List of studied case for the survival analysis.\n",
      "    List of tuple (df_visit-pandas df-, df_med-pandas df-, name-str-) having :\n",
      "        - df_visit : hospitalization DataFrame, with information on entry/exit dates\n",
      "        - df_med : drug administration DataFrame, must contain ONLY the drugs of interest (i.e epidemic)\n",
      "        - name : name of the studied case (for visualization purposes)\n",
      ":param t_end_of_study: datetime.date,\n",
      "    Date of the end of the study, i.e after which no information can be trusted (censoring).\n",
      "\n",
      "Returns\n",
      "-------\n",
      ":return: None\n",
      "    Plots the survival curves built by the Kaplan-Meier estimates.\n",
      "\n"
     ]
    }
   ],
   "source": [
    "print(plot_primary_kaplan.__doc__)"
   ]
  },
  {
   "cell_type": "code",
   "execution_count": 26,
   "metadata": {
    "scrolled": true
   },
   "outputs": [
    {
     "data": {
      "image/png": "[encoded data removed]",
      "text/plain": [
       "<Figure size 1050x550 with 4 Axes>"
      ]
     },
     "metadata": {},
     "output_type": "display_data"
    }
   ],
   "source": [
    "plot_primary_kaplan(df_person_kaplan=df_person, list_case=[(df_visit,df_med,\"studied case\")], t_end_of_study=end_of_study)"
   ]
  },
  {
   "cell_type": "markdown",
   "metadata": {},
   "source": [
    "Does the Kaplan-Meier estimates seem correct ?"
   ]
  },
  {
   "cell_type": "markdown",
   "metadata": {},
   "source": [
    "<a id=\"prepro_patient\"></a>\n",
    "## 2.2 Pre-processing patients' identities and demographic data"
   ]
  },
  {
   "cell_type": "markdown",
   "metadata": {},
   "source": [
    "### 2.2.1 Birth dates"
   ]
  },
  {
   "cell_type": "markdown",
   "metadata": {},
   "source": [
    "Let's explore identities and demographic data. Count the number of missing values for each feature of the `df_person` DataFrame. What do you observe ?\n",
    "\n",
    "TIP : Use the `DataFrame.isna().sum()` function to compute the number of NA values within each column of the DataFrame."
   ]
  },
  {
   "cell_type": "code",
   "execution_count": 29,
   "metadata": {},
   "outputs": [
    {
     "data": {
      "text/html": [
       "<div>\n",
       "<style scoped>\n",
       "    .dataframe tbody tr th:only-of-type {\n",
       "        vertical-align: middle;\n",
       "    }\n",
       "\n",
       "    .dataframe tbody tr th {\n",
       "        vertical-align: top;\n",
       "    }\n",
       "\n",
       "    .dataframe thead th {\n",
       "        text-align: right;\n",
       "    }\n",
       "</style>\n",
       "<table border=\"1\" class=\"dataframe\">\n",
       "  <thead>\n",
       "    <tr style=\"text-align: right;\">\n",
       "      <th></th>\n",
       "      <th>person_id</th>\n",
       "      <th>birth_datetime</th>\n",
       "      <th>death_datetime</th>\n",
       "      <th>gender_source_value</th>\n",
       "      <th>cdm_source</th>\n",
       "    </tr>\n",
       "  </thead>\n",
       "  <tbody>\n",
       "    <tr>\n",
       "      <th>0</th>\n",
       "      <td>85902261</td>\n",
       "      <td>2012-04-06</td>\n",
       "      <td>2025-10-14</td>\n",
       "      <td>f</td>\n",
       "      <td>EHR 1</td>\n",
       "    </tr>\n",
       "    <tr>\n",
       "      <th>1</th>\n",
       "      <td>80206244</td>\n",
       "      <td>2014-05-09</td>\n",
       "      <td>NaT</td>\n",
       "      <td>f</td>\n",
       "      <td>EHR 1</td>\n",
       "    </tr>\n",
       "    <tr>\n",
       "      <th>2</th>\n",
       "      <td>83994765</td>\n",
       "      <td>2006-08-22</td>\n",
       "      <td>NaT</td>\n",
       "      <td>f</td>\n",
       "      <td>EHR 1</td>\n",
       "    </tr>\n",
       "    <tr>\n",
       "      <th>3</th>\n",
       "      <td>89192524</td>\n",
       "      <td>2018-09-18</td>\n",
       "      <td>NaT</td>\n",
       "      <td>f</td>\n",
       "      <td>EHR 1</td>\n",
       "    </tr>\n",
       "    <tr>\n",
       "      <th>4</th>\n",
       "      <td>81459188</td>\n",
       "      <td>2014-08-20</td>\n",
       "      <td>NaT</td>\n",
       "      <td>f</td>\n",
       "      <td>EHR 1</td>\n",
       "    </tr>\n",
       "  </tbody>\n",
       "</table>\n",
       "</div>"
      ],
      "text/plain": [
       "   person_id birth_datetime death_datetime gender_source_value cdm_source\n",
       "0   85902261     2012-04-06     2025-10-14                   f      EHR 1\n",
       "1   80206244     2014-05-09            NaT                   f      EHR 1\n",
       "2   83994765     2006-08-22            NaT                   f      EHR 1\n",
       "3   89192524     2018-09-18            NaT                   f      EHR 1\n",
       "4   81459188     2014-08-20            NaT                   f      EHR 1"
      ]
     },
     "execution_count": 29,
     "metadata": {},
     "output_type": "execute_result"
    }
   ],
   "source": [
    "df_person.head()"
   ]
  },
  {
   "cell_type": "code",
   "execution_count": 30,
   "metadata": {},
   "outputs": [
    {
     "data": {
      "text/html": [
       "<div>\n",
       "<style scoped>\n",
       "    .dataframe tbody tr th:only-of-type {\n",
       "        vertical-align: middle;\n",
       "    }\n",
       "\n",
       "    .dataframe tbody tr th {\n",
       "        vertical-align: top;\n",
       "    }\n",
       "\n",
       "    .dataframe thead th {\n",
       "        text-align: right;\n",
       "    }\n",
       "</style>\n",
       "<table border=\"1\" class=\"dataframe\">\n",
       "  <thead>\n",
       "    <tr style=\"text-align: right;\">\n",
       "      <th></th>\n",
       "      <th>visit_occurrence_id</th>\n",
       "      <th>drug_exposure_id</th>\n",
       "      <th>drug_source_value</th>\n",
       "      <th>cdm_source</th>\n",
       "    </tr>\n",
       "  </thead>\n",
       "  <tbody>\n",
       "    <tr>\n",
       "      <th>0</th>\n",
       "      <td>83508825</td>\n",
       "      <td>81635492</td>\n",
       "      <td>drugA</td>\n",
       "      <td>EHR med</td>\n",
       "    </tr>\n",
       "    <tr>\n",
       "      <th>1</th>\n",
       "      <td>84793089</td>\n",
       "      <td>81981242</td>\n",
       "      <td>drugA</td>\n",
       "      <td>EHR med</td>\n",
       "    </tr>\n",
       "    <tr>\n",
       "      <th>2</th>\n",
       "      <td>81363581</td>\n",
       "      <td>81049850</td>\n",
       "      <td>drugA</td>\n",
       "      <td>EHR med</td>\n",
       "    </tr>\n",
       "    <tr>\n",
       "      <th>3</th>\n",
       "      <td>84194047</td>\n",
       "      <td>89471075</td>\n",
       "      <td>drugA</td>\n",
       "      <td>EHR med</td>\n",
       "    </tr>\n",
       "    <tr>\n",
       "      <th>4</th>\n",
       "      <td>86390630</td>\n",
       "      <td>88647388</td>\n",
       "      <td>drugA</td>\n",
       "      <td>EHR med</td>\n",
       "    </tr>\n",
       "  </tbody>\n",
       "</table>\n",
       "</div>"
      ],
      "text/plain": [
       "  visit_occurrence_id drug_exposure_id drug_source_value cdm_source\n",
       "0            83508825         81635492             drugA    EHR med\n",
       "1            84793089         81981242             drugA    EHR med\n",
       "2            81363581         81049850             drugA    EHR med\n",
       "3            84194047         89471075             drugA    EHR med\n",
       "4            86390630         88647388             drugA    EHR med"
      ]
     },
     "execution_count": 30,
     "metadata": {},
     "output_type": "execute_result"
    }
   ],
   "source": [
    "df_med.head()"
   ]
  },
  {
   "cell_type": "code",
   "execution_count": 31,
   "metadata": {},
   "outputs": [
    {
     "data": {
      "text/html": [
       "<div>\n",
       "<style scoped>\n",
       "    .dataframe tbody tr th:only-of-type {\n",
       "        vertical-align: middle;\n",
       "    }\n",
       "\n",
       "    .dataframe tbody tr th {\n",
       "        vertical-align: top;\n",
       "    }\n",
       "\n",
       "    .dataframe thead th {\n",
       "        text-align: right;\n",
       "    }\n",
       "</style>\n",
       "<table border=\"1\" class=\"dataframe\">\n",
       "  <thead>\n",
       "    <tr style=\"text-align: right;\">\n",
       "      <th></th>\n",
       "      <th>visit_occurrence_id</th>\n",
       "      <th>person_id</th>\n",
       "      <th>condition_occurrence_id</th>\n",
       "      <th>condition_source_value</th>\n",
       "    </tr>\n",
       "  </thead>\n",
       "  <tbody>\n",
       "    <tr>\n",
       "      <th>0</th>\n",
       "      <td>87039763</td>\n",
       "      <td>85935943</td>\n",
       "      <td>86006023</td>\n",
       "      <td>J10</td>\n",
       "    </tr>\n",
       "    <tr>\n",
       "      <th>1</th>\n",
       "      <td>83184379</td>\n",
       "      <td>87104656</td>\n",
       "      <td>87765316</td>\n",
       "      <td>J11</td>\n",
       "    </tr>\n",
       "    <tr>\n",
       "      <th>2</th>\n",
       "      <td>87368296</td>\n",
       "      <td>80785788</td>\n",
       "      <td>89665004</td>\n",
       "      <td>J09</td>\n",
       "    </tr>\n",
       "    <tr>\n",
       "      <th>3</th>\n",
       "      <td>84290710</td>\n",
       "      <td>82815332</td>\n",
       "      <td>84026043</td>\n",
       "      <td>J10</td>\n",
       "    </tr>\n",
       "    <tr>\n",
       "      <th>4</th>\n",
       "      <td>87357364</td>\n",
       "      <td>80509718</td>\n",
       "      <td>86346709</td>\n",
       "      <td>J10</td>\n",
       "    </tr>\n",
       "  </tbody>\n",
       "</table>\n",
       "</div>"
      ],
      "text/plain": [
       "   visit_occurrence_id  person_id  condition_occurrence_id  \\\n",
       "0             87039763   85935943                 86006023   \n",
       "1             83184379   87104656                 87765316   \n",
       "2             87368296   80785788                 89665004   \n",
       "3             84290710   82815332                 84026043   \n",
       "4             87357364   80509718                 86346709   \n",
       "\n",
       "  condition_source_value  \n",
       "0                    J10  \n",
       "1                    J11  \n",
       "2                    J09  \n",
       "3                    J10  \n",
       "4                    J10  "
      ]
     },
     "execution_count": 31,
     "metadata": {},
     "output_type": "execute_result"
    }
   ],
   "source": [
    "df_condition.head()"
   ]
  },
  {
   "cell_type": "code",
   "execution_count": 28,
   "metadata": {},
   "outputs": [
    {
     "data": {
      "text/html": [
       "<div>\n",
       "<style scoped>\n",
       "    .dataframe tbody tr th:only-of-type {\n",
       "        vertical-align: middle;\n",
       "    }\n",
       "\n",
       "    .dataframe tbody tr th {\n",
       "        vertical-align: top;\n",
       "    }\n",
       "\n",
       "    .dataframe thead th {\n",
       "        text-align: right;\n",
       "    }\n",
       "</style>\n",
       "<table border=\"1\" class=\"dataframe\">\n",
       "  <thead>\n",
       "    <tr style=\"text-align: right;\">\n",
       "      <th></th>\n",
       "      <th>visit_occurrence_id</th>\n",
       "      <th>care_site_id</th>\n",
       "      <th>visit_start_datetime</th>\n",
       "      <th>visit_end_datetime</th>\n",
       "      <th>person_id</th>\n",
       "      <th>visit_source_value</th>\n",
       "    </tr>\n",
       "  </thead>\n",
       "  <tbody>\n",
       "    <tr>\n",
       "      <th>0</th>\n",
       "      <td>87039763</td>\n",
       "      <td>Hopital M.Bres</td>\n",
       "      <td>2024-12-24</td>\n",
       "      <td>2025-01-10</td>\n",
       "      <td>85935943</td>\n",
       "      <td>Hospitalisés</td>\n",
       "    </tr>\n",
       "    <tr>\n",
       "      <th>1</th>\n",
       "      <td>83184379</td>\n",
       "      <td>Centre F.Sinoussi</td>\n",
       "      <td>2025-09-01</td>\n",
       "      <td>2025-09-21</td>\n",
       "      <td>87104656</td>\n",
       "      <td>Hospitalisés</td>\n",
       "    </tr>\n",
       "    <tr>\n",
       "      <th>2</th>\n",
       "      <td>87368296</td>\n",
       "      <td>Hopital M.Bres</td>\n",
       "      <td>2023-01-08</td>\n",
       "      <td>2023-01-08</td>\n",
       "      <td>80785788</td>\n",
       "      <td>Hospitalisés</td>\n",
       "    </tr>\n",
       "    <tr>\n",
       "      <th>3</th>\n",
       "      <td>84290710</td>\n",
       "      <td>Hopital M.Bres</td>\n",
       "      <td>2024-11-27</td>\n",
       "      <td>2024-12-13</td>\n",
       "      <td>82815332</td>\n",
       "      <td>Hospitalisés</td>\n",
       "    </tr>\n",
       "    <tr>\n",
       "      <th>4</th>\n",
       "      <td>87357364</td>\n",
       "      <td>Centre F.Sinoussi</td>\n",
       "      <td>2025-07-29</td>\n",
       "      <td>2025-08-07</td>\n",
       "      <td>80509718</td>\n",
       "      <td>Hospitalisés</td>\n",
       "    </tr>\n",
       "  </tbody>\n",
       "</table>\n",
       "</div>"
      ],
      "text/plain": [
       "   visit_occurrence_id       care_site_id visit_start_datetime  \\\n",
       "0             87039763     Hopital M.Bres           2024-12-24   \n",
       "1             83184379  Centre F.Sinoussi           2025-09-01   \n",
       "2             87368296     Hopital M.Bres           2023-01-08   \n",
       "3             84290710     Hopital M.Bres           2024-11-27   \n",
       "4             87357364  Centre F.Sinoussi           2025-07-29   \n",
       "\n",
       "  visit_end_datetime  person_id visit_source_value  \n",
       "0         2025-01-10   85935943       Hospitalisés  \n",
       "1         2025-09-21   87104656       Hospitalisés  \n",
       "2         2023-01-08   80785788       Hospitalisés  \n",
       "3         2024-12-13   82815332       Hospitalisés  \n",
       "4         2025-08-07   80509718       Hospitalisés  "
      ]
     },
     "execution_count": 28,
     "metadata": {},
     "output_type": "execute_result"
    }
   ],
   "source": [
    "df_visit.head()"
   ]
  },
  {
   "cell_type": "code",
   "execution_count": 27,
   "metadata": {},
   "outputs": [
    {
     "data": {
      "text/plain": [
       "person_id                  0\n",
       "birth_datetime          5751\n",
       "death_datetime         30806\n",
       "gender_source_value        0\n",
       "cdm_source                 0\n",
       "dtype: int64"
      ]
     },
     "execution_count": 27,
     "metadata": {},
     "output_type": "execute_result"
    }
   ],
   "source": [
    "df_person.isna().sum()"
   ]
  },
  {
   "cell_type": "markdown",
   "metadata": {},
   "source": [
    "Some dates of birth are missing. Can you search for the origin of this lack of data ?"
   ]
  },
  {
   "cell_type": "markdown",
   "metadata": {},
   "source": [
    "TIP : Check out the impact of `cdm_source` in the missingness of birth datetime."
   ]
  },
  {
   "cell_type": "code",
   "execution_count": 35,
   "metadata": {},
   "outputs": [
    {
     "data": {
      "text/html": [
       "<div>\n",
       "<style scoped>\n",
       "    .dataframe tbody tr th:only-of-type {\n",
       "        vertical-align: middle;\n",
       "    }\n",
       "\n",
       "    .dataframe tbody tr th {\n",
       "        vertical-align: top;\n",
       "    }\n",
       "\n",
       "    .dataframe thead th {\n",
       "        text-align: right;\n",
       "    }\n",
       "</style>\n",
       "<table border=\"1\" class=\"dataframe\">\n",
       "  <thead>\n",
       "    <tr style=\"text-align: right;\">\n",
       "      <th>cdm_source</th>\n",
       "      <th>EHR 1</th>\n",
       "      <th>EHR 2</th>\n",
       "      <th>Total</th>\n",
       "    </tr>\n",
       "    <tr>\n",
       "      <th>birth_datetime</th>\n",
       "      <th></th>\n",
       "      <th></th>\n",
       "      <th></th>\n",
       "    </tr>\n",
       "  </thead>\n",
       "  <tbody>\n",
       "    <tr>\n",
       "      <th>Non</th>\n",
       "      <td>0</td>\n",
       "      <td>5751</td>\n",
       "      <td>5751</td>\n",
       "    </tr>\n",
       "    <tr>\n",
       "      <th>Oui</th>\n",
       "      <td>51249</td>\n",
       "      <td>0</td>\n",
       "      <td>51249</td>\n",
       "    </tr>\n",
       "    <tr>\n",
       "      <th>Total</th>\n",
       "      <td>51249</td>\n",
       "      <td>5751</td>\n",
       "      <td>57000</td>\n",
       "    </tr>\n",
       "  </tbody>\n",
       "</table>\n",
       "</div>"
      ],
      "text/plain": [
       "cdm_source      EHR 1  EHR 2  Total\n",
       "birth_datetime                     \n",
       "Non                 0   5751   5751\n",
       "Oui             51249      0  51249\n",
       "Total           51249   5751  57000"
      ]
     },
     "execution_count": 35,
     "metadata": {},
     "output_type": "execute_result"
    }
   ],
   "source": [
    "cross_tab = pd.crosstab(df_person['birth_datetime'].apply(lambda x: 'Oui' if pd.notnull(x) else 'Non'), df_person['cdm_source'], margins=True, margins_name=\"Total\")\n",
    "cross_tab"
   ]
  },
  {
   "cell_type": "code",
   "execution_count": 6,
   "metadata": {},
   "outputs": [
    {
     "name": "stdout",
     "output_type": "stream",
     "text": [
      "Number of missing birth datetimes for EHR 1 : 0\n"
     ]
    }
   ],
   "source": [
    "print(f\"Number of missing birth datetimes for EHR 1 : {df_person[df_person['cdm_source'] == 'EHR 1']['birth_datetime'].isna().sum()}\")"
   ]
  },
  {
   "cell_type": "code",
   "execution_count": 7,
   "metadata": {},
   "outputs": [
    {
     "name": "stdout",
     "output_type": "stream",
     "text": [
      "Number of missing birth datetimes for EHR 2 : 5751\n"
     ]
    }
   ],
   "source": [
    "print(f\"Number of missing birth datetimes for EHR 2 : {df_person[df_person['cdm_source'] == 'EHR 2']['birth_datetime'].isna().sum()}\")"
   ]
  },
  {
   "cell_type": "markdown",
   "metadata": {},
   "source": [
    "What would you suggest to address this bias ?"
   ]
  },
  {
   "attachments": {},
   "cell_type": "markdown",
   "metadata": {},
   "source": [
    "**Correction** :  \n",
    "The birth dates quality issue can be directly associated to the registration within the \"EHR 2\" software. Although it could include a clinical bias, a solution may be to discard data coming from this software (this assumption should be grounded in an understanding of the context of use of both softwares! Clinicians' expertise shall be leveraged to confirm/infirm this assumption)."
   ]
  },
  {
   "attachments": {},
   "cell_type": "markdown",
   "metadata": {},
   "source": [
    "Create a `df_person_fix` DataFrame that contains patient information coming from `cdm_source` other than \"EHR 2\".\n",
    "\n",
    "TIP : \n",
    "You can use the `query` built-in function : \n",
    "```python \n",
    "df_condition.query(\"content of your query\")"
   ]
  },
  {
   "cell_type": "code",
   "execution_count": 9,
   "metadata": {
    "scrolled": true
   },
   "outputs": [
    {
     "data": {
      "text/html": [
       "<div>\n",
       "<style scoped>\n",
       "    .dataframe tbody tr th:only-of-type {\n",
       "        vertical-align: middle;\n",
       "    }\n",
       "\n",
       "    .dataframe tbody tr th {\n",
       "        vertical-align: top;\n",
       "    }\n",
       "\n",
       "    .dataframe thead th {\n",
       "        text-align: right;\n",
       "    }\n",
       "</style>\n",
       "<table border=\"1\" class=\"dataframe\">\n",
       "  <thead>\n",
       "    <tr style=\"text-align: right;\">\n",
       "      <th></th>\n",
       "      <th>person_id</th>\n",
       "      <th>birth_datetime</th>\n",
       "      <th>death_datetime</th>\n",
       "      <th>gender_source_value</th>\n",
       "      <th>cdm_source</th>\n",
       "    </tr>\n",
       "  </thead>\n",
       "  <tbody>\n",
       "    <tr>\n",
       "      <th>0</th>\n",
       "      <td>85902261</td>\n",
       "      <td>2012-04-06</td>\n",
       "      <td>2025-10-14</td>\n",
       "      <td>f</td>\n",
       "      <td>EHR 1</td>\n",
       "    </tr>\n",
       "    <tr>\n",
       "      <th>1</th>\n",
       "      <td>80206244</td>\n",
       "      <td>2014-05-09</td>\n",
       "      <td>NaT</td>\n",
       "      <td>f</td>\n",
       "      <td>EHR 1</td>\n",
       "    </tr>\n",
       "    <tr>\n",
       "      <th>2</th>\n",
       "      <td>83994765</td>\n",
       "      <td>2006-08-22</td>\n",
       "      <td>NaT</td>\n",
       "      <td>f</td>\n",
       "      <td>EHR 1</td>\n",
       "    </tr>\n",
       "    <tr>\n",
       "      <th>3</th>\n",
       "      <td>89192524</td>\n",
       "      <td>2018-09-18</td>\n",
       "      <td>NaT</td>\n",
       "      <td>f</td>\n",
       "      <td>EHR 1</td>\n",
       "    </tr>\n",
       "    <tr>\n",
       "      <th>4</th>\n",
       "      <td>81459188</td>\n",
       "      <td>2014-08-20</td>\n",
       "      <td>NaT</td>\n",
       "      <td>f</td>\n",
       "      <td>EHR 1</td>\n",
       "    </tr>\n",
       "  </tbody>\n",
       "</table>\n",
       "</div>"
      ],
      "text/plain": [
       "   person_id birth_datetime death_datetime gender_source_value cdm_source\n",
       "0   85902261     2012-04-06     2025-10-14                   f      EHR 1\n",
       "1   80206244     2014-05-09            NaT                   f      EHR 1\n",
       "2   83994765     2006-08-22            NaT                   f      EHR 1\n",
       "3   89192524     2018-09-18            NaT                   f      EHR 1\n",
       "4   81459188     2014-08-20            NaT                   f      EHR 1"
      ]
     },
     "execution_count": 9,
     "metadata": {},
     "output_type": "execute_result"
    }
   ],
   "source": [
    "df_person_fix = df_person.query(\"cdm_source == 'EHR 1'\")\n",
    "df_person_fix.head()"
   ]
  },
  {
   "cell_type": "markdown",
   "metadata": {},
   "source": [
    "Now that we have handled the missingness of dates of birth, let's check the plausibility of the available dates. Plot the birth datetime distribution as a bar chart.\n",
    "\n",
    "Tip 1 : you can convert the birth datetime to a \"YYYY-MM\" format using the following command : \n",
    "```python \n",
    "    df_person_fix['birth_date'] = df_person_fix['birth_datetime'].dt.strftime('%Y-%m')\n",
    "```  \n",
    "Tip 2 : If your DataFrame contains too many rows, you can use the `pandas.DataFrame.groupby()` function and count the number of `person_id` by `birth_date`."
   ]
  },
  {
   "cell_type": "code",
   "execution_count": 13,
   "metadata": {},
   "outputs": [],
   "source": [
    "df_person_fix.loc[:, 'birth_date'] = df_person_fix['birth_datetime'].dt.strftime('%Y-%m')"
   ]
  },
  {
   "cell_type": "code",
   "execution_count": 11,
   "metadata": {},
   "outputs": [
    {
     "data": {
      "image/png": "[encoded data removed]",
      "text/plain": [
       "<Figure size 640x480 with 1 Axes>"
      ]
     },
     "metadata": {},
     "output_type": "display_data"
    }
   ],
   "source": [
    "import matplotlib.pyplot as plt\n",
    "\n",
    "grouped = df_person_fix.groupby('birth_date')['person_id'].count()\n",
    "grouped.plot(kind='bar')\n",
    "\n",
    "plt.xlabel('Birth Date')\n",
    "plt.ylabel('Number of Persons')\n",
    "plt.title('Number of Persons per Birth Date')\n",
    "plt.show()\n"
   ]
  },
  {
   "cell_type": "code",
   "execution_count": 12,
   "metadata": {},
   "outputs": [
    {
     "data": {
      "text/html": [
       "<div>\n",
       "<style scoped>\n",
       "    .dataframe tbody tr th:only-of-type {\n",
       "        vertical-align: middle;\n",
       "    }\n",
       "\n",
       "    .dataframe tbody tr th {\n",
       "        vertical-align: top;\n",
       "    }\n",
       "\n",
       "    .dataframe thead th {\n",
       "        text-align: right;\n",
       "    }\n",
       "</style>\n",
       "<table border=\"1\" class=\"dataframe\">\n",
       "  <thead>\n",
       "    <tr style=\"text-align: right;\">\n",
       "      <th></th>\n",
       "      <th>person_id</th>\n",
       "      <th>birth_datetime</th>\n",
       "      <th>death_datetime</th>\n",
       "      <th>gender_source_value</th>\n",
       "      <th>cdm_source</th>\n",
       "      <th>birth_date</th>\n",
       "    </tr>\n",
       "  </thead>\n",
       "  <tbody>\n",
       "    <tr>\n",
       "      <th>0</th>\n",
       "      <td>85902261</td>\n",
       "      <td>2012-04-06</td>\n",
       "      <td>2025-10-14</td>\n",
       "      <td>f</td>\n",
       "      <td>EHR 1</td>\n",
       "      <td>2012-04</td>\n",
       "    </tr>\n",
       "    <tr>\n",
       "      <th>1</th>\n",
       "      <td>80206244</td>\n",
       "      <td>2014-05-09</td>\n",
       "      <td>NaT</td>\n",
       "      <td>f</td>\n",
       "      <td>EHR 1</td>\n",
       "      <td>2014-05</td>\n",
       "    </tr>\n",
       "    <tr>\n",
       "      <th>2</th>\n",
       "      <td>83994765</td>\n",
       "      <td>2006-08-22</td>\n",
       "      <td>NaT</td>\n",
       "      <td>f</td>\n",
       "      <td>EHR 1</td>\n",
       "      <td>2006-08</td>\n",
       "    </tr>\n",
       "    <tr>\n",
       "      <th>3</th>\n",
       "      <td>89192524</td>\n",
       "      <td>2018-09-18</td>\n",
       "      <td>NaT</td>\n",
       "      <td>f</td>\n",
       "      <td>EHR 1</td>\n",
       "      <td>2018-09</td>\n",
       "    </tr>\n",
       "    <tr>\n",
       "      <th>4</th>\n",
       "      <td>81459188</td>\n",
       "      <td>2014-08-20</td>\n",
       "      <td>NaT</td>\n",
       "      <td>f</td>\n",
       "      <td>EHR 1</td>\n",
       "      <td>2014-08</td>\n",
       "    </tr>\n",
       "  </tbody>\n",
       "</table>\n",
       "</div>"
      ],
      "text/plain": [
       "   person_id birth_datetime death_datetime gender_source_value cdm_source  \\\n",
       "0   85902261     2012-04-06     2025-10-14                   f      EHR 1   \n",
       "1   80206244     2014-05-09            NaT                   f      EHR 1   \n",
       "2   83994765     2006-08-22            NaT                   f      EHR 1   \n",
       "3   89192524     2018-09-18            NaT                   f      EHR 1   \n",
       "4   81459188     2014-08-20            NaT                   f      EHR 1   \n",
       "\n",
       "  birth_date  \n",
       "0    2012-04  \n",
       "1    2014-05  \n",
       "2    2006-08  \n",
       "3    2018-09  \n",
       "4    2014-08  "
      ]
     },
     "execution_count": 12,
     "metadata": {},
     "output_type": "execute_result"
    }
   ],
   "source": [
    "df_person_fix.head()"
   ]
  },
  {
   "cell_type": "code",
   "execution_count": null,
   "metadata": {
    "scrolled": true,
    "tags": []
   },
   "outputs": [],
   "source": [
    "#TODO"
   ]
  },
  {
   "cell_type": "markdown",
   "metadata": {},
   "source": [
    "What do you see ? Does this distribution look normal ?"
   ]
  },
  {
   "cell_type": "markdown",
   "metadata": {},
   "source": [
    "### 2.2.2 Death dates"
   ]
  },
  {
   "cell_type": "markdown",
   "metadata": {},
   "source": [
    "Plot the death datetime distribution. Do you observe anything seeming abnormal ?\n",
    "\n",
    "TIP : Use the same steps than for the birth datetime"
   ]
  },
  {
   "cell_type": "code",
   "execution_count": 15,
   "metadata": {},
   "outputs": [],
   "source": [
    "df_person_fix.loc[:,'death_date'] = df_person_fix['death_datetime'].dt.strftime('%Y-%m')"
   ]
  },
  {
   "cell_type": "code",
   "execution_count": 18,
   "metadata": {},
   "outputs": [],
   "source": [
    "death_dates_summary = df_person_fix.groupby('death_date')['person_id'].count()"
   ]
  },
  {
   "cell_type": "code",
   "execution_count": 19,
   "metadata": {},
   "outputs": [
    {
     "data": {
      "image/png": "[encoded data removed]",
      "text/plain": [
       "<Figure size 640x480 with 1 Axes>"
      ]
     },
     "metadata": {},
     "output_type": "display_data"
    }
   ],
   "source": [
    "death_dates_summary.plot(kind='bar')\n",
    "\n",
    "plt.xlabel('Death date')\n",
    "plt.ylabel('Number of Persons')\n",
    "plt.title('Number of Persons per death Date')\n",
    "plt.show()"
   ]
  },
  {
   "cell_type": "markdown",
   "metadata": {},
   "source": [
    "What do you observe ?"
   ]
  },
  {
   "cell_type": "markdown",
   "metadata": {},
   "source": [
    "<a id=\"prepro_visits\"></a>\n",
    "## 2.3 Pre-processing administrative data related to patients' pathways"
   ]
  },
  {
   "cell_type": "code",
   "execution_count": 20,
   "metadata": {},
   "outputs": [
    {
     "data": {
      "text/html": [
       "<div>\n",
       "<style scoped>\n",
       "    .dataframe tbody tr th:only-of-type {\n",
       "        vertical-align: middle;\n",
       "    }\n",
       "\n",
       "    .dataframe tbody tr th {\n",
       "        vertical-align: top;\n",
       "    }\n",
       "\n",
       "    .dataframe thead th {\n",
       "        text-align: right;\n",
       "    }\n",
       "</style>\n",
       "<table border=\"1\" class=\"dataframe\">\n",
       "  <thead>\n",
       "    <tr style=\"text-align: right;\">\n",
       "      <th></th>\n",
       "      <th>visit_occurrence_id</th>\n",
       "      <th>care_site_id</th>\n",
       "      <th>visit_start_datetime</th>\n",
       "      <th>visit_end_datetime</th>\n",
       "      <th>person_id</th>\n",
       "      <th>visit_source_value</th>\n",
       "    </tr>\n",
       "  </thead>\n",
       "  <tbody>\n",
       "    <tr>\n",
       "      <th>0</th>\n",
       "      <td>87039763</td>\n",
       "      <td>Hopital M.Bres</td>\n",
       "      <td>2024-12-24</td>\n",
       "      <td>2025-01-10</td>\n",
       "      <td>85935943</td>\n",
       "      <td>Hospitalisés</td>\n",
       "    </tr>\n",
       "    <tr>\n",
       "      <th>1</th>\n",
       "      <td>83184379</td>\n",
       "      <td>Centre F.Sinoussi</td>\n",
       "      <td>2025-09-01</td>\n",
       "      <td>2025-09-21</td>\n",
       "      <td>87104656</td>\n",
       "      <td>Hospitalisés</td>\n",
       "    </tr>\n",
       "    <tr>\n",
       "      <th>2</th>\n",
       "      <td>87368296</td>\n",
       "      <td>Hopital M.Bres</td>\n",
       "      <td>2023-01-08</td>\n",
       "      <td>2023-01-08</td>\n",
       "      <td>80785788</td>\n",
       "      <td>Hospitalisés</td>\n",
       "    </tr>\n",
       "    <tr>\n",
       "      <th>3</th>\n",
       "      <td>84290710</td>\n",
       "      <td>Hopital M.Bres</td>\n",
       "      <td>2024-11-27</td>\n",
       "      <td>2024-12-13</td>\n",
       "      <td>82815332</td>\n",
       "      <td>Hospitalisés</td>\n",
       "    </tr>\n",
       "    <tr>\n",
       "      <th>4</th>\n",
       "      <td>87357364</td>\n",
       "      <td>Centre F.Sinoussi</td>\n",
       "      <td>2025-07-29</td>\n",
       "      <td>2025-08-07</td>\n",
       "      <td>80509718</td>\n",
       "      <td>Hospitalisés</td>\n",
       "    </tr>\n",
       "  </tbody>\n",
       "</table>\n",
       "</div>"
      ],
      "text/plain": [
       "   visit_occurrence_id       care_site_id visit_start_datetime  \\\n",
       "0             87039763     Hopital M.Bres           2024-12-24   \n",
       "1             83184379  Centre F.Sinoussi           2025-09-01   \n",
       "2             87368296     Hopital M.Bres           2023-01-08   \n",
       "3             84290710     Hopital M.Bres           2024-11-27   \n",
       "4             87357364  Centre F.Sinoussi           2025-07-29   \n",
       "\n",
       "  visit_end_datetime  person_id visit_source_value  \n",
       "0         2025-01-10   85935943       Hospitalisés  \n",
       "1         2025-09-21   87104656       Hospitalisés  \n",
       "2         2023-01-08   80785788       Hospitalisés  \n",
       "3         2024-12-13   82815332       Hospitalisés  \n",
       "4         2025-08-07   80509718       Hospitalisés  "
      ]
     },
     "execution_count": 20,
     "metadata": {},
     "output_type": "execute_result"
    }
   ],
   "source": [
    "df_visit.head()"
   ]
  },
  {
   "cell_type": "markdown",
   "metadata": {},
   "source": [
    "We consider now administrative data related to patients' hospitalizations.\n",
    "\n",
    "Plot the distribution of entrance dates : column \"visit_start_datetime\" of the *df_visit* DataFrame.  \n",
    "\n",
    "Tip 1: Check out the presence of null dates, and convert dates to the \"YYYY-MM\" format.  \n",
    "Tip 2: If your DataFrame contains to many rows, you can use the `pandas.DataFrame.groupby()` function and count the number of `person_id` by `visit_start_date`."
   ]
  },
  {
   "cell_type": "code",
   "execution_count": 22,
   "metadata": {},
   "outputs": [],
   "source": [
    "df_visit.loc[:,'visit_date'] = df_visit['visit_start_datetime'].dt.strftime('%Y-%m')"
   ]
  },
  {
   "cell_type": "code",
   "execution_count": null,
   "metadata": {},
   "outputs": [
    {
     "data": {
      "text/html": [
       "\n",
       "<style>\n",
       "  #altair-viz-9652059bf7ce4b0e8124de0ec5f831b1.vega-embed {\n",
       "    width: 100%;\n",
       "    display: flex;\n",
       "  }\n",
       "\n",
       "  #altair-viz-9652059bf7ce4b0e8124de0ec5f831b1.vega-embed details,\n",
       "  #altair-viz-9652059bf7ce4b0e8124de0ec5f831b1.vega-embed details summary {\n",
       "    position: relative;\n",
       "  }\n",
       "</style>\n",
       "<div id=\"altair-viz-9652059bf7ce4b0e8124de0ec5f831b1\"></div>\n",
       "<script type=\"text/javascript\">\n",
       "  var VEGA_DEBUG = (typeof VEGA_DEBUG == \"undefined\") ? {} : VEGA_DEBUG;\n",
       "  (function(spec, embedOpt){\n",
       "    let outputDiv = document.currentScript.previousElementSibling;\n",
       "    if (outputDiv.id !== \"altair-viz-9652059bf7ce4b0e8124de0ec5f831b1\") {\n",
       "      outputDiv = document.getElementById(\"altair-viz-9652059bf7ce4b0e8124de0ec5f831b1\");\n",
       "    }\n",
       "\n",
       "    const paths = {\n",
       "      \"vega\": \"https://cdn.jsdelivr.net/npm/vega@5?noext\",\n",
       "      \"vega-lib\": \"https://cdn.jsdelivr.net/npm/vega-lib?noext\",\n",
       "      \"vega-lite\": \"https://cdn.jsdelivr.net/npm/vega-lite@5.20.1?noext\",\n",
       "      \"vega-embed\": \"https://cdn.jsdelivr.net/npm/vega-embed@6?noext\",\n",
       "    };\n",
       "\n",
       "    function maybeLoadScript(lib, version) {\n",
       "      var key = `${lib.replace(\"-\", \"\")}_version`;\n",
       "      return (VEGA_DEBUG[key] == version) ?\n",
       "        Promise.resolve(paths[lib]) :\n",
       "        new Promise(function(resolve, reject) {\n",
       "          var s = document.createElement('script');\n",
       "          document.getElementsByTagName(\"head\")[0].appendChild(s);\n",
       "          s.async = true;\n",
       "          s.onload = () => {\n",
       "            VEGA_DEBUG[key] = version;\n",
       "            return resolve(paths[lib]);\n",
       "          };\n",
       "          s.onerror = () => reject(`Error loading script: ${paths[lib]}`);\n",
       "          s.src = paths[lib];\n",
       "        });\n",
       "    }\n",
       "\n",
       "    function showError(err) {\n",
       "      outputDiv.innerHTML = `<div class=\"error\" style=\"color:red;\">${err}</div>`;\n",
       "      throw err;\n",
       "    }\n",
       "\n",
       "    function displayChart(vegaEmbed) {\n",
       "      vegaEmbed(outputDiv, spec, embedOpt)\n",
       "        .catch(err => showError(`Javascript Error: ${err.message}<br>This usually means there's a typo in your chart specification. See the javascript console for the full traceback.`));\n",
       "    }\n",
       "\n",
       "    if(typeof define === \"function\" && define.amd) {\n",
       "      requirejs.config({paths});\n",
       "      let deps = [\"vega-embed\"];\n",
       "      require(deps, displayChart, err => showError(`Error loading script: ${err.message}`));\n",
       "    } else {\n",
       "      maybeLoadScript(\"vega\", \"5\")\n",
       "        .then(() => maybeLoadScript(\"vega-lite\", \"5.20.1\"))\n",
       "        .then(() => maybeLoadScript(\"vega-embed\", \"6\"))\n",
       "        .catch(showError)\n",
       "        .then(() => displayChart(vegaEmbed));\n",
       "    }\n",
       "  })({\"config\": {\"view\": {\"continuousWidth\": 300, \"continuousHeight\": 300}}, \"data\": {\"name\": \"data-70ff65fa075d5485c7939741b773dc5d\"}, \"mark\": {\"type\": \"bar\"}, \"encoding\": {\"x\": {\"field\": \"visit_date\", \"title\": \"Date de Visite\", \"type\": \"temporal\"}, \"y\": {\"field\": \"person_id\", \"title\": \"Nombre de Personnes\", \"type\": \"quantitative\"}}, \"height\": 400, \"title\": \"Nombre de Personnes par Date de Visite\", \"width\": 800, \"$schema\": \"https://vega.github.io/schema/vega-lite/v5.20.1.json\", \"datasets\": {\"data-70ff65fa075d5485c7939741b773dc5d\": [{\"visit_date\": \"1867-08\", \"person_id\": 593}, {\"visit_date\": \"2019-12\", \"person_id\": 429}, {\"visit_date\": \"2020-01\", \"person_id\": 406}, {\"visit_date\": \"2020-02\", \"person_id\": 357}, {\"visit_date\": \"2020-03\", \"person_id\": 430}, {\"visit_date\": \"2020-04\", \"person_id\": 402}, {\"visit_date\": \"2020-05\", \"person_id\": 440}, {\"visit_date\": \"2020-06\", \"person_id\": 422}, {\"visit_date\": \"2020-07\", \"person_id\": 419}, {\"visit_date\": \"2020-08\", \"person_id\": 446}, {\"visit_date\": \"2020-09\", \"person_id\": 405}, {\"visit_date\": \"2020-10\", \"person_id\": 457}, {\"visit_date\": \"2020-11\", \"person_id\": 444}, {\"visit_date\": \"2020-12\", \"person_id\": 421}, {\"visit_date\": \"2021-01\", \"person_id\": 467}, {\"visit_date\": \"2021-02\", \"person_id\": 410}, {\"visit_date\": \"2021-03\", \"person_id\": 427}, {\"visit_date\": \"2021-04\", \"person_id\": 423}, {\"visit_date\": \"2021-05\", \"person_id\": 488}, {\"visit_date\": \"2021-06\", \"person_id\": 452}, {\"visit_date\": \"2021-07\", \"person_id\": 504}, {\"visit_date\": \"2021-08\", \"person_id\": 458}, {\"visit_date\": \"2021-09\", \"person_id\": 487}, {\"visit_date\": \"2021-10\", \"person_id\": 532}, {\"visit_date\": \"2021-11\", \"person_id\": 478}, {\"visit_date\": \"2021-12\", \"person_id\": 512}, {\"visit_date\": \"2022-01\", \"person_id\": 494}, {\"visit_date\": \"2022-02\", \"person_id\": 467}, {\"visit_date\": \"2022-03\", \"person_id\": 489}, {\"visit_date\": \"2022-04\", \"person_id\": 448}, {\"visit_date\": \"2022-05\", \"person_id\": 564}, {\"visit_date\": \"2022-06\", \"person_id\": 517}, {\"visit_date\": \"2022-07\", \"person_id\": 559}, {\"visit_date\": \"2022-08\", \"person_id\": 562}, {\"visit_date\": \"2022-09\", \"person_id\": 573}, {\"visit_date\": \"2022-10\", \"person_id\": 551}, {\"visit_date\": \"2022-11\", \"person_id\": 487}, {\"visit_date\": \"2022-12\", \"person_id\": 615}, {\"visit_date\": \"2023-01\", \"person_id\": 652}, {\"visit_date\": \"2023-02\", \"person_id\": 546}, {\"visit_date\": \"2023-03\", \"person_id\": 625}, {\"visit_date\": \"2023-04\", \"person_id\": 654}, {\"visit_date\": \"2023-05\", \"person_id\": 719}, {\"visit_date\": \"2023-06\", \"person_id\": 669}, {\"visit_date\": \"2023-07\", \"person_id\": 763}, {\"visit_date\": \"2023-08\", \"person_id\": 794}, {\"visit_date\": \"2023-09\", \"person_id\": 744}, {\"visit_date\": \"2023-10\", \"person_id\": 809}, {\"visit_date\": \"2023-11\", \"person_id\": 754}, {\"visit_date\": \"2023-12\", \"person_id\": 781}, {\"visit_date\": \"2024-01\", \"person_id\": 840}, {\"visit_date\": \"2024-02\", \"person_id\": 832}, {\"visit_date\": \"2024-03\", \"person_id\": 883}, {\"visit_date\": \"2024-04\", \"person_id\": 906}, {\"visit_date\": \"2024-05\", \"person_id\": 1002}, {\"visit_date\": \"2024-06\", \"person_id\": 969}, {\"visit_date\": \"2024-07\", \"person_id\": 1060}, {\"visit_date\": \"2024-08\", \"person_id\": 1079}, {\"visit_date\": \"2024-09\", \"person_id\": 1052}, {\"visit_date\": \"2024-10\", \"person_id\": 1194}, {\"visit_date\": \"2024-11\", \"person_id\": 1208}, {\"visit_date\": \"2024-12\", \"person_id\": 1258}, {\"visit_date\": \"2025-01\", \"person_id\": 1344}, {\"visit_date\": \"2025-02\", \"person_id\": 1267}, {\"visit_date\": \"2025-03\", \"person_id\": 1493}, {\"visit_date\": \"2025-04\", \"person_id\": 1495}, {\"visit_date\": \"2025-05\", \"person_id\": 1560}, {\"visit_date\": \"2025-06\", \"person_id\": 1531}, {\"visit_date\": \"2025-07\", \"person_id\": 1721}, {\"visit_date\": \"2025-08\", \"person_id\": 1843}, {\"visit_date\": \"2025-09\", \"person_id\": 1858}, {\"visit_date\": \"2025-10\", \"person_id\": 1993}, {\"visit_date\": \"2025-11\", \"person_id\": 2067}]}}, {\"mode\": \"vega-lite\"});\n",
       "</script>"
      ],
      "text/plain": [
       "alt.Chart(...)"
      ]
     },
     "execution_count": 26,
     "metadata": {},
     "output_type": "execute_result"
    }
   ],
   "source": [
    "visit_start_dates_summary = df_visit.groupby('visit_date')['person_id'].count().reset_index()\n",
    "\n",
    "# bar chart\n",
    "chart = alt.Chart(visit_start_dates_summary).mark_bar().encode(\n",
    "    x=alt.X('visit_date:T', title='Date de Visite'),\n",
    "    y=alt.Y('person_id:Q', title='Nombre de Personnes')\n",
    ").properties(\n",
    "    title='Nombre de Personnes par Date de Visite',\n",
    "    width=800,\n",
    "    height=400\n",
    ")\n",
    "\n",
    "# plot chart\n",
    "chart"
   ]
  },
  {
   "cell_type": "markdown",
   "metadata": {},
   "source": [
    "Discard visits which dates are not plausible (*e.g* occurring before 01/01/2000), and checkout for the new date repartition.\n",
    "\n",
    "TIPS : \n",
    "- Use  `pd.to_datetime(\"01/01/2000\"))` to compare visit start date to 01/01/2000 and create a Dataframe `df_visit_fix` with only visits starting after 01/01/2000.\n",
    "- Convert the visit start datetime to a \"YYYY-MM\" format\n",
    "- Use the `pandas.DataFrame.groupby()` function and count the number of `person_id` by `birth_date`"
   ]
  },
  {
   "cell_type": "code",
   "execution_count": 27,
   "metadata": {},
   "outputs": [],
   "source": [
    "df_visit_fix = df_visit[df_visit['visit_start_datetime'] >= '2000-01-01']"
   ]
  },
  {
   "cell_type": "code",
   "execution_count": 28,
   "metadata": {
    "tags": []
   },
   "outputs": [
    {
     "data": {
      "text/html": [
       "\n",
       "<style>\n",
       "  #altair-viz-fdcd8356677f415c971e0237aba64aef.vega-embed {\n",
       "    width: 100%;\n",
       "    display: flex;\n",
       "  }\n",
       "\n",
       "  #altair-viz-fdcd8356677f415c971e0237aba64aef.vega-embed details,\n",
       "  #altair-viz-fdcd8356677f415c971e0237aba64aef.vega-embed details summary {\n",
       "    position: relative;\n",
       "  }\n",
       "</style>\n",
       "<div id=\"altair-viz-fdcd8356677f415c971e0237aba64aef\"></div>\n",
       "<script type=\"text/javascript\">\n",
       "  var VEGA_DEBUG = (typeof VEGA_DEBUG == \"undefined\") ? {} : VEGA_DEBUG;\n",
       "  (function(spec, embedOpt){\n",
       "    let outputDiv = document.currentScript.previousElementSibling;\n",
       "    if (outputDiv.id !== \"altair-viz-fdcd8356677f415c971e0237aba64aef\") {\n",
       "      outputDiv = document.getElementById(\"altair-viz-fdcd8356677f415c971e0237aba64aef\");\n",
       "    }\n",
       "\n",
       "    const paths = {\n",
       "      \"vega\": \"https://cdn.jsdelivr.net/npm/vega@5?noext\",\n",
       "      \"vega-lib\": \"https://cdn.jsdelivr.net/npm/vega-lib?noext\",\n",
       "      \"vega-lite\": \"https://cdn.jsdelivr.net/npm/vega-lite@5.20.1?noext\",\n",
       "      \"vega-embed\": \"https://cdn.jsdelivr.net/npm/vega-embed@6?noext\",\n",
       "    };\n",
       "\n",
       "    function maybeLoadScript(lib, version) {\n",
       "      var key = `${lib.replace(\"-\", \"\")}_version`;\n",
       "      return (VEGA_DEBUG[key] == version) ?\n",
       "        Promise.resolve(paths[lib]) :\n",
       "        new Promise(function(resolve, reject) {\n",
       "          var s = document.createElement('script');\n",
       "          document.getElementsByTagName(\"head\")[0].appendChild(s);\n",
       "          s.async = true;\n",
       "          s.onload = () => {\n",
       "            VEGA_DEBUG[key] = version;\n",
       "            return resolve(paths[lib]);\n",
       "          };\n",
       "          s.onerror = () => reject(`Error loading script: ${paths[lib]}`);\n",
       "          s.src = paths[lib];\n",
       "        });\n",
       "    }\n",
       "\n",
       "    function showError(err) {\n",
       "      outputDiv.innerHTML = `<div class=\"error\" style=\"color:red;\">${err}</div>`;\n",
       "      throw err;\n",
       "    }\n",
       "\n",
       "    function displayChart(vegaEmbed) {\n",
       "      vegaEmbed(outputDiv, spec, embedOpt)\n",
       "        .catch(err => showError(`Javascript Error: ${err.message}<br>This usually means there's a typo in your chart specification. See the javascript console for the full traceback.`));\n",
       "    }\n",
       "\n",
       "    if(typeof define === \"function\" && define.amd) {\n",
       "      requirejs.config({paths});\n",
       "      let deps = [\"vega-embed\"];\n",
       "      require(deps, displayChart, err => showError(`Error loading script: ${err.message}`));\n",
       "    } else {\n",
       "      maybeLoadScript(\"vega\", \"5\")\n",
       "        .then(() => maybeLoadScript(\"vega-lite\", \"5.20.1\"))\n",
       "        .then(() => maybeLoadScript(\"vega-embed\", \"6\"))\n",
       "        .catch(showError)\n",
       "        .then(() => displayChart(vegaEmbed));\n",
       "    }\n",
       "  })({\"config\": {\"view\": {\"continuousWidth\": 300, \"continuousHeight\": 300}}, \"data\": {\"name\": \"data-e13ddbf3529f56b852813f43a7f945d1\"}, \"mark\": {\"type\": \"bar\"}, \"encoding\": {\"x\": {\"field\": \"visit_date\", \"title\": \"Date de Visite\", \"type\": \"temporal\"}, \"y\": {\"field\": \"person_id\", \"title\": \"Nombre de Personnes\", \"type\": \"quantitative\"}}, \"height\": 400, \"title\": \"Nombre de Personnes par Date de Visite\", \"width\": 800, \"$schema\": \"https://vega.github.io/schema/vega-lite/v5.20.1.json\", \"datasets\": {\"data-e13ddbf3529f56b852813f43a7f945d1\": [{\"visit_date\": \"2019-12\", \"person_id\": 429}, {\"visit_date\": \"2020-01\", \"person_id\": 406}, {\"visit_date\": \"2020-02\", \"person_id\": 357}, {\"visit_date\": \"2020-03\", \"person_id\": 430}, {\"visit_date\": \"2020-04\", \"person_id\": 402}, {\"visit_date\": \"2020-05\", \"person_id\": 440}, {\"visit_date\": \"2020-06\", \"person_id\": 422}, {\"visit_date\": \"2020-07\", \"person_id\": 419}, {\"visit_date\": \"2020-08\", \"person_id\": 446}, {\"visit_date\": \"2020-09\", \"person_id\": 405}, {\"visit_date\": \"2020-10\", \"person_id\": 457}, {\"visit_date\": \"2020-11\", \"person_id\": 444}, {\"visit_date\": \"2020-12\", \"person_id\": 421}, {\"visit_date\": \"2021-01\", \"person_id\": 467}, {\"visit_date\": \"2021-02\", \"person_id\": 410}, {\"visit_date\": \"2021-03\", \"person_id\": 427}, {\"visit_date\": \"2021-04\", \"person_id\": 423}, {\"visit_date\": \"2021-05\", \"person_id\": 488}, {\"visit_date\": \"2021-06\", \"person_id\": 452}, {\"visit_date\": \"2021-07\", \"person_id\": 504}, {\"visit_date\": \"2021-08\", \"person_id\": 458}, {\"visit_date\": \"2021-09\", \"person_id\": 487}, {\"visit_date\": \"2021-10\", \"person_id\": 532}, {\"visit_date\": \"2021-11\", \"person_id\": 478}, {\"visit_date\": \"2021-12\", \"person_id\": 512}, {\"visit_date\": \"2022-01\", \"person_id\": 494}, {\"visit_date\": \"2022-02\", \"person_id\": 467}, {\"visit_date\": \"2022-03\", \"person_id\": 489}, {\"visit_date\": \"2022-04\", \"person_id\": 448}, {\"visit_date\": \"2022-05\", \"person_id\": 564}, {\"visit_date\": \"2022-06\", \"person_id\": 517}, {\"visit_date\": \"2022-07\", \"person_id\": 559}, {\"visit_date\": \"2022-08\", \"person_id\": 562}, {\"visit_date\": \"2022-09\", \"person_id\": 573}, {\"visit_date\": \"2022-10\", \"person_id\": 551}, {\"visit_date\": \"2022-11\", \"person_id\": 487}, {\"visit_date\": \"2022-12\", \"person_id\": 615}, {\"visit_date\": \"2023-01\", \"person_id\": 652}, {\"visit_date\": \"2023-02\", \"person_id\": 546}, {\"visit_date\": \"2023-03\", \"person_id\": 625}, {\"visit_date\": \"2023-04\", \"person_id\": 654}, {\"visit_date\": \"2023-05\", \"person_id\": 719}, {\"visit_date\": \"2023-06\", \"person_id\": 669}, {\"visit_date\": \"2023-07\", \"person_id\": 763}, {\"visit_date\": \"2023-08\", \"person_id\": 794}, {\"visit_date\": \"2023-09\", \"person_id\": 744}, {\"visit_date\": \"2023-10\", \"person_id\": 809}, {\"visit_date\": \"2023-11\", \"person_id\": 754}, {\"visit_date\": \"2023-12\", \"person_id\": 781}, {\"visit_date\": \"2024-01\", \"person_id\": 840}, {\"visit_date\": \"2024-02\", \"person_id\": 832}, {\"visit_date\": \"2024-03\", \"person_id\": 883}, {\"visit_date\": \"2024-04\", \"person_id\": 906}, {\"visit_date\": \"2024-05\", \"person_id\": 1002}, {\"visit_date\": \"2024-06\", \"person_id\": 969}, {\"visit_date\": \"2024-07\", \"person_id\": 1060}, {\"visit_date\": \"2024-08\", \"person_id\": 1079}, {\"visit_date\": \"2024-09\", \"person_id\": 1052}, {\"visit_date\": \"2024-10\", \"person_id\": 1194}, {\"visit_date\": \"2024-11\", \"person_id\": 1208}, {\"visit_date\": \"2024-12\", \"person_id\": 1258}, {\"visit_date\": \"2025-01\", \"person_id\": 1344}, {\"visit_date\": \"2025-02\", \"person_id\": 1267}, {\"visit_date\": \"2025-03\", \"person_id\": 1493}, {\"visit_date\": \"2025-04\", \"person_id\": 1495}, {\"visit_date\": \"2025-05\", \"person_id\": 1560}, {\"visit_date\": \"2025-06\", \"person_id\": 1531}, {\"visit_date\": \"2025-07\", \"person_id\": 1721}, {\"visit_date\": \"2025-08\", \"person_id\": 1843}, {\"visit_date\": \"2025-09\", \"person_id\": 1858}, {\"visit_date\": \"2025-10\", \"person_id\": 1993}, {\"visit_date\": \"2025-11\", \"person_id\": 2067}]}}, {\"mode\": \"vega-lite\"});\n",
       "</script>"
      ],
      "text/plain": [
       "alt.Chart(...)"
      ]
     },
     "execution_count": 28,
     "metadata": {},
     "output_type": "execute_result"
    }
   ],
   "source": [
    "fix_visit_start_dates_summary = df_visit_fix.groupby('visit_date')['person_id'].count().reset_index()\n",
    "\n",
    "# bar chart\n",
    "chart = alt.Chart(fix_visit_start_dates_summary).mark_bar().encode(\n",
    "    x=alt.X('visit_date:T', title='Date de Visite'),\n",
    "    y=alt.Y('person_id:Q', title='Nombre de Personnes')\n",
    ").properties(\n",
    "    title='Nombre de Personnes par Date de Visite',\n",
    "    width=800,\n",
    "    height=400\n",
    ")\n",
    "\n",
    "# plot chart\n",
    "chart"
   ]
  },
  {
   "cell_type": "markdown",
   "metadata": {},
   "source": [
    "**WARNING** : although knowing the temporality of a visit is crucial to estimate survival functions, do not forget that this selection may once more induce biases. We will evaluate its impact later on in the project."
   ]
  },
  {
   "cell_type": "markdown",
   "metadata": {},
   "source": [
    "<a id=\"prepro_cond\"></a>\n",
    "## 2.4 Pre-processing claim data"
   ]
  },
  {
   "cell_type": "markdown",
   "metadata": {},
   "source": [
    "We consider now claim data. We want to plot the total amount of visits related to flu treatment, and their temporal repartition.  \n",
    "\n",
    "Create a `df_cond_fix` DataFrame that contains only information about the previously selected visits.  \n",
    "\n",
    "Tip 1 : Merge the `df_cond` and `df_visit_fix` DataFrames on their common feature *visit_occurrence_id*.\n",
    "\n",
    "Tip 2 : we only need the *visit_start_date* and *visit_occurrence_id* from the `df_visit_fix` DataFrame."
   ]
  },
  {
   "cell_type": "code",
   "execution_count": 33,
   "metadata": {},
   "outputs": [],
   "source": [
    "df_cond_fix = df_condition.merge(df_visit_fix, on='visit_occurrence_id', how='inner')"
   ]
  },
  {
   "cell_type": "code",
   "execution_count": 46,
   "metadata": {},
   "outputs": [
    {
     "data": {
      "text/html": [
       "<div>\n",
       "<style scoped>\n",
       "    .dataframe tbody tr th:only-of-type {\n",
       "        vertical-align: middle;\n",
       "    }\n",
       "\n",
       "    .dataframe tbody tr th {\n",
       "        vertical-align: top;\n",
       "    }\n",
       "\n",
       "    .dataframe thead th {\n",
       "        text-align: right;\n",
       "    }\n",
       "</style>\n",
       "<table border=\"1\" class=\"dataframe\">\n",
       "  <thead>\n",
       "    <tr style=\"text-align: right;\">\n",
       "      <th></th>\n",
       "      <th>visit_occurrence_id</th>\n",
       "      <th>person_id_x</th>\n",
       "      <th>condition_occurrence_id</th>\n",
       "      <th>condition_source_value</th>\n",
       "      <th>care_site_id</th>\n",
       "      <th>visit_start_datetime</th>\n",
       "      <th>visit_end_datetime</th>\n",
       "      <th>person_id_y</th>\n",
       "      <th>visit_source_value</th>\n",
       "      <th>visit_date</th>\n",
       "      <th>visit_start_date</th>\n",
       "      <th>is_epidemic</th>\n",
       "    </tr>\n",
       "  </thead>\n",
       "  <tbody>\n",
       "    <tr>\n",
       "      <th>0</th>\n",
       "      <td>87039763</td>\n",
       "      <td>85935943</td>\n",
       "      <td>86006023</td>\n",
       "      <td>J10</td>\n",
       "      <td>Hopital M.Bres</td>\n",
       "      <td>2024-12-24</td>\n",
       "      <td>2025-01-10</td>\n",
       "      <td>85935943</td>\n",
       "      <td>Hospitalisés</td>\n",
       "      <td>2024-12</td>\n",
       "      <td>2024-12</td>\n",
       "      <td>True</td>\n",
       "    </tr>\n",
       "    <tr>\n",
       "      <th>1</th>\n",
       "      <td>83184379</td>\n",
       "      <td>87104656</td>\n",
       "      <td>87765316</td>\n",
       "      <td>J11</td>\n",
       "      <td>Centre F.Sinoussi</td>\n",
       "      <td>2025-09-01</td>\n",
       "      <td>2025-09-21</td>\n",
       "      <td>87104656</td>\n",
       "      <td>Hospitalisés</td>\n",
       "      <td>2025-09</td>\n",
       "      <td>2025-09</td>\n",
       "      <td>True</td>\n",
       "    </tr>\n",
       "    <tr>\n",
       "      <th>2</th>\n",
       "      <td>87368296</td>\n",
       "      <td>80785788</td>\n",
       "      <td>89665004</td>\n",
       "      <td>J09</td>\n",
       "      <td>Hopital M.Bres</td>\n",
       "      <td>2023-01-08</td>\n",
       "      <td>2023-01-08</td>\n",
       "      <td>80785788</td>\n",
       "      <td>Hospitalisés</td>\n",
       "      <td>2023-01</td>\n",
       "      <td>2023-01</td>\n",
       "      <td>False</td>\n",
       "    </tr>\n",
       "    <tr>\n",
       "      <th>3</th>\n",
       "      <td>84290710</td>\n",
       "      <td>82815332</td>\n",
       "      <td>84026043</td>\n",
       "      <td>J10</td>\n",
       "      <td>Hopital M.Bres</td>\n",
       "      <td>2024-11-27</td>\n",
       "      <td>2024-12-13</td>\n",
       "      <td>82815332</td>\n",
       "      <td>Hospitalisés</td>\n",
       "      <td>2024-11</td>\n",
       "      <td>2024-11</td>\n",
       "      <td>True</td>\n",
       "    </tr>\n",
       "    <tr>\n",
       "      <th>4</th>\n",
       "      <td>87357364</td>\n",
       "      <td>80509718</td>\n",
       "      <td>86346709</td>\n",
       "      <td>J10</td>\n",
       "      <td>Centre F.Sinoussi</td>\n",
       "      <td>2025-07-29</td>\n",
       "      <td>2025-08-07</td>\n",
       "      <td>80509718</td>\n",
       "      <td>Hospitalisés</td>\n",
       "      <td>2025-07</td>\n",
       "      <td>2025-07</td>\n",
       "      <td>True</td>\n",
       "    </tr>\n",
       "  </tbody>\n",
       "</table>\n",
       "</div>"
      ],
      "text/plain": [
       "   visit_occurrence_id  person_id_x  condition_occurrence_id  \\\n",
       "0             87039763     85935943                 86006023   \n",
       "1             83184379     87104656                 87765316   \n",
       "2             87368296     80785788                 89665004   \n",
       "3             84290710     82815332                 84026043   \n",
       "4             87357364     80509718                 86346709   \n",
       "\n",
       "  condition_source_value       care_site_id visit_start_datetime  \\\n",
       "0                    J10     Hopital M.Bres           2024-12-24   \n",
       "1                    J11  Centre F.Sinoussi           2025-09-01   \n",
       "2                    J09     Hopital M.Bres           2023-01-08   \n",
       "3                    J10     Hopital M.Bres           2024-11-27   \n",
       "4                    J10  Centre F.Sinoussi           2025-07-29   \n",
       "\n",
       "  visit_end_datetime  person_id_y visit_source_value visit_date  \\\n",
       "0         2025-01-10     85935943       Hospitalisés    2024-12   \n",
       "1         2025-09-21     87104656       Hospitalisés    2025-09   \n",
       "2         2023-01-08     80785788       Hospitalisés    2023-01   \n",
       "3         2024-12-13     82815332       Hospitalisés    2024-11   \n",
       "4         2025-08-07     80509718       Hospitalisés    2025-07   \n",
       "\n",
       "  visit_start_date  is_epidemic  \n",
       "0          2024-12         True  \n",
       "1          2025-09         True  \n",
       "2          2023-01        False  \n",
       "3          2024-11         True  \n",
       "4          2025-07         True  "
      ]
     },
     "execution_count": 46,
     "metadata": {},
     "output_type": "execute_result"
    }
   ],
   "source": [
    "df_cond_fix.head()"
   ]
  },
  {
   "cell_type": "code",
   "execution_count": 35,
   "metadata": {},
   "outputs": [],
   "source": [
    "df_cond_fix.loc[:,\"visit_start_date\"] = df_cond_fix['visit_start_datetime'].dt.strftime('%Y-%m')"
   ]
  },
  {
   "cell_type": "markdown",
   "metadata": {},
   "source": [
    "Plot the temporal repartition of *visit_occurrence_id* counts for each *condition_source_value*.\n",
    "\n",
    "Tip : you can group the `df_cond_fix` DataFrame by *visit_start_date* and *condition_source_value*, and count the number of *visit_occurrence_id* for each group, using the following command :\n",
    "```python\n",
    " DataFrame.groupby(['key1', 'key2'], as_index=False).visit_occurrence_id.count()\n",
    " ```"
   ]
  },
  {
   "cell_type": "code",
   "execution_count": 39,
   "metadata": {},
   "outputs": [
    {
     "data": {
      "text/html": [
       "\n",
       "<style>\n",
       "  #altair-viz-78f47845df4746c7baa413a5314f54b8.vega-embed {\n",
       "    width: 100%;\n",
       "    display: flex;\n",
       "  }\n",
       "\n",
       "  #altair-viz-78f47845df4746c7baa413a5314f54b8.vega-embed details,\n",
       "  #altair-viz-78f47845df4746c7baa413a5314f54b8.vega-embed details summary {\n",
       "    position: relative;\n",
       "  }\n",
       "</style>\n",
       "<div id=\"altair-viz-78f47845df4746c7baa413a5314f54b8\"></div>\n",
       "<script type=\"text/javascript\">\n",
       "  var VEGA_DEBUG = (typeof VEGA_DEBUG == \"undefined\") ? {} : VEGA_DEBUG;\n",
       "  (function(spec, embedOpt){\n",
       "    let outputDiv = document.currentScript.previousElementSibling;\n",
       "    if (outputDiv.id !== \"altair-viz-78f47845df4746c7baa413a5314f54b8\") {\n",
       "      outputDiv = document.getElementById(\"altair-viz-78f47845df4746c7baa413a5314f54b8\");\n",
       "    }\n",
       "\n",
       "    const paths = {\n",
       "      \"vega\": \"https://cdn.jsdelivr.net/npm/vega@5?noext\",\n",
       "      \"vega-lib\": \"https://cdn.jsdelivr.net/npm/vega-lib?noext\",\n",
       "      \"vega-lite\": \"https://cdn.jsdelivr.net/npm/vega-lite@5.20.1?noext\",\n",
       "      \"vega-embed\": \"https://cdn.jsdelivr.net/npm/vega-embed@6?noext\",\n",
       "    };\n",
       "\n",
       "    function maybeLoadScript(lib, version) {\n",
       "      var key = `${lib.replace(\"-\", \"\")}_version`;\n",
       "      return (VEGA_DEBUG[key] == version) ?\n",
       "        Promise.resolve(paths[lib]) :\n",
       "        new Promise(function(resolve, reject) {\n",
       "          var s = document.createElement('script');\n",
       "          document.getElementsByTagName(\"head\")[0].appendChild(s);\n",
       "          s.async = true;\n",
       "          s.onload = () => {\n",
       "            VEGA_DEBUG[key] = version;\n",
       "            return resolve(paths[lib]);\n",
       "          };\n",
       "          s.onerror = () => reject(`Error loading script: ${paths[lib]}`);\n",
       "          s.src = paths[lib];\n",
       "        });\n",
       "    }\n",
       "\n",
       "    function showError(err) {\n",
       "      outputDiv.innerHTML = `<div class=\"error\" style=\"color:red;\">${err}</div>`;\n",
       "      throw err;\n",
       "    }\n",
       "\n",
       "    function displayChart(vegaEmbed) {\n",
       "      vegaEmbed(outputDiv, spec, embedOpt)\n",
       "        .catch(err => showError(`Javascript Error: ${err.message}<br>This usually means there's a typo in your chart specification. See the javascript console for the full traceback.`));\n",
       "    }\n",
       "\n",
       "    if(typeof define === \"function\" && define.amd) {\n",
       "      requirejs.config({paths});\n",
       "      let deps = [\"vega-embed\"];\n",
       "      require(deps, displayChart, err => showError(`Error loading script: ${err.message}`));\n",
       "    } else {\n",
       "      maybeLoadScript(\"vega\", \"5\")\n",
       "        .then(() => maybeLoadScript(\"vega-lite\", \"5.20.1\"))\n",
       "        .then(() => maybeLoadScript(\"vega-embed\", \"6\"))\n",
       "        .catch(showError)\n",
       "        .then(() => displayChart(vegaEmbed));\n",
       "    }\n",
       "  })({\"config\": {\"view\": {\"continuousWidth\": 300, \"continuousHeight\": 300}}, \"data\": {\"name\": \"data-64760aa1ff0d5f5e96ff7ac6edf8b3d3\"}, \"mark\": {\"type\": \"bar\"}, \"encoding\": {\"color\": {\"field\": \"condition_source_value\", \"title\": \"Condition Source Value\", \"type\": \"nominal\"}, \"x\": {\"field\": \"visit_start_date\", \"title\": \"Visit Start Date\", \"type\": \"temporal\"}, \"y\": {\"field\": \"condition_occurrence_id\", \"title\": \"Count of Visit Occurrence ID\", \"type\": \"quantitative\"}}, \"height\": 400, \"title\": \"Temporal Repartition of Visit Occurrence ID Counts by Condition Source Value\", \"width\": 800, \"$schema\": \"https://vega.github.io/schema/vega-lite/v5.20.1.json\", \"datasets\": {\"data-64760aa1ff0d5f5e96ff7ac6edf8b3d3\": [{\"visit_start_date\": \"2019-12\", \"condition_source_value\": \"B019\", \"condition_occurrence_id\": 402}, {\"visit_start_date\": \"2019-12\", \"condition_source_value\": \"J09\", \"condition_occurrence_id\": 27}, {\"visit_start_date\": \"2020-01\", \"condition_source_value\": \"B019\", \"condition_occurrence_id\": 384}, {\"visit_start_date\": \"2020-01\", \"condition_source_value\": \"J09\", \"condition_occurrence_id\": 22}, {\"visit_start_date\": \"2020-02\", \"condition_source_value\": \"B019\", \"condition_occurrence_id\": 342}, {\"visit_start_date\": \"2020-02\", \"condition_source_value\": \"J09\", \"condition_occurrence_id\": 15}, {\"visit_start_date\": \"2020-03\", \"condition_source_value\": \"B019\", \"condition_occurrence_id\": 397}, {\"visit_start_date\": \"2020-03\", \"condition_source_value\": \"J09\", \"condition_occurrence_id\": 33}, {\"visit_start_date\": \"2020-04\", \"condition_source_value\": \"B019\", \"condition_occurrence_id\": 375}, {\"visit_start_date\": \"2020-04\", \"condition_source_value\": \"J09\", \"condition_occurrence_id\": 27}, {\"visit_start_date\": \"2020-05\", \"condition_source_value\": \"B019\", \"condition_occurrence_id\": 404}, {\"visit_start_date\": \"2020-05\", \"condition_source_value\": \"J09\", \"condition_occurrence_id\": 36}, {\"visit_start_date\": \"2020-06\", \"condition_source_value\": \"B019\", \"condition_occurrence_id\": 386}, {\"visit_start_date\": \"2020-06\", \"condition_source_value\": \"J09\", \"condition_occurrence_id\": 36}, {\"visit_start_date\": \"2020-07\", \"condition_source_value\": \"B019\", \"condition_occurrence_id\": 377}, {\"visit_start_date\": \"2020-07\", \"condition_source_value\": \"J09\", \"condition_occurrence_id\": 42}, {\"visit_start_date\": \"2020-08\", \"condition_source_value\": \"B019\", \"condition_occurrence_id\": 408}, {\"visit_start_date\": \"2020-08\", \"condition_source_value\": \"J09\", \"condition_occurrence_id\": 38}, {\"visit_start_date\": \"2020-09\", \"condition_source_value\": \"B019\", \"condition_occurrence_id\": 373}, {\"visit_start_date\": \"2020-09\", \"condition_source_value\": \"J09\", \"condition_occurrence_id\": 32}, {\"visit_start_date\": \"2020-10\", \"condition_source_value\": \"B019\", \"condition_occurrence_id\": 407}, {\"visit_start_date\": \"2020-10\", \"condition_source_value\": \"J09\", \"condition_occurrence_id\": 50}, {\"visit_start_date\": \"2020-11\", \"condition_source_value\": \"B019\", \"condition_occurrence_id\": 398}, {\"visit_start_date\": \"2020-11\", \"condition_source_value\": \"J09\", \"condition_occurrence_id\": 46}, {\"visit_start_date\": \"2020-12\", \"condition_source_value\": \"B019\", \"condition_occurrence_id\": 376}, {\"visit_start_date\": \"2020-12\", \"condition_source_value\": \"J09\", \"condition_occurrence_id\": 45}, {\"visit_start_date\": \"2021-01\", \"condition_source_value\": \"B019\", \"condition_occurrence_id\": 411}, {\"visit_start_date\": \"2021-01\", \"condition_source_value\": \"J09\", \"condition_occurrence_id\": 56}, {\"visit_start_date\": \"2021-02\", \"condition_source_value\": \"B019\", \"condition_occurrence_id\": 363}, {\"visit_start_date\": \"2021-02\", \"condition_source_value\": \"J09\", \"condition_occurrence_id\": 47}, {\"visit_start_date\": \"2021-03\", \"condition_source_value\": \"B019\", \"condition_occurrence_id\": 389}, {\"visit_start_date\": \"2021-03\", \"condition_source_value\": \"J09\", \"condition_occurrence_id\": 38}, {\"visit_start_date\": \"2021-04\", \"condition_source_value\": \"B019\", \"condition_occurrence_id\": 370}, {\"visit_start_date\": \"2021-04\", \"condition_source_value\": \"J09\", \"condition_occurrence_id\": 53}, {\"visit_start_date\": \"2021-05\", \"condition_source_value\": \"B019\", \"condition_occurrence_id\": 427}, {\"visit_start_date\": \"2021-05\", \"condition_source_value\": \"J09\", \"condition_occurrence_id\": 61}, {\"visit_start_date\": \"2021-06\", \"condition_source_value\": \"B019\", \"condition_occurrence_id\": 381}, {\"visit_start_date\": \"2021-06\", \"condition_source_value\": \"J09\", \"condition_occurrence_id\": 71}, {\"visit_start_date\": \"2021-07\", \"condition_source_value\": \"B019\", \"condition_occurrence_id\": 421}, {\"visit_start_date\": \"2021-07\", \"condition_source_value\": \"J09\", \"condition_occurrence_id\": 83}, {\"visit_start_date\": \"2021-08\", \"condition_source_value\": \"B019\", \"condition_occurrence_id\": 394}, {\"visit_start_date\": \"2021-08\", \"condition_source_value\": \"J09\", \"condition_occurrence_id\": 64}, {\"visit_start_date\": \"2021-09\", \"condition_source_value\": \"B019\", \"condition_occurrence_id\": 398}, {\"visit_start_date\": \"2021-09\", \"condition_source_value\": \"J09\", \"condition_occurrence_id\": 89}, {\"visit_start_date\": \"2021-10\", \"condition_source_value\": \"B019\", \"condition_occurrence_id\": 438}, {\"visit_start_date\": \"2021-10\", \"condition_source_value\": \"J09\", \"condition_occurrence_id\": 94}, {\"visit_start_date\": \"2021-11\", \"condition_source_value\": \"B019\", \"condition_occurrence_id\": 395}, {\"visit_start_date\": \"2021-11\", \"condition_source_value\": \"J09\", \"condition_occurrence_id\": 83}, {\"visit_start_date\": \"2021-12\", \"condition_source_value\": \"B019\", \"condition_occurrence_id\": 403}, {\"visit_start_date\": \"2021-12\", \"condition_source_value\": \"J09\", \"condition_occurrence_id\": 109}, {\"visit_start_date\": \"2022-01\", \"condition_source_value\": \"B019\", \"condition_occurrence_id\": 381}, {\"visit_start_date\": \"2022-01\", \"condition_source_value\": \"J09\", \"condition_occurrence_id\": 113}, {\"visit_start_date\": \"2022-02\", \"condition_source_value\": \"B019\", \"condition_occurrence_id\": 376}, {\"visit_start_date\": \"2022-02\", \"condition_source_value\": \"J09\", \"condition_occurrence_id\": 91}, {\"visit_start_date\": \"2022-03\", \"condition_source_value\": \"B019\", \"condition_occurrence_id\": 389}, {\"visit_start_date\": \"2022-03\", \"condition_source_value\": \"J09\", \"condition_occurrence_id\": 100}, {\"visit_start_date\": \"2022-04\", \"condition_source_value\": \"B019\", \"condition_occurrence_id\": 343}, {\"visit_start_date\": \"2022-04\", \"condition_source_value\": \"J09\", \"condition_occurrence_id\": 105}, {\"visit_start_date\": \"2022-05\", \"condition_source_value\": \"B019\", \"condition_occurrence_id\": 431}, {\"visit_start_date\": \"2022-05\", \"condition_source_value\": \"J09\", \"condition_occurrence_id\": 133}, {\"visit_start_date\": \"2022-06\", \"condition_source_value\": \"B019\", \"condition_occurrence_id\": 372}, {\"visit_start_date\": \"2022-06\", \"condition_source_value\": \"J09\", \"condition_occurrence_id\": 145}, {\"visit_start_date\": \"2022-07\", \"condition_source_value\": \"B019\", \"condition_occurrence_id\": 390}, {\"visit_start_date\": \"2022-07\", \"condition_source_value\": \"J09\", \"condition_occurrence_id\": 169}, {\"visit_start_date\": \"2022-08\", \"condition_source_value\": \"B019\", \"condition_occurrence_id\": 415}, {\"visit_start_date\": \"2022-08\", \"condition_source_value\": \"J09\", \"condition_occurrence_id\": 147}, {\"visit_start_date\": \"2022-09\", \"condition_source_value\": \"B019\", \"condition_occurrence_id\": 418}, {\"visit_start_date\": \"2022-09\", \"condition_source_value\": \"J09\", \"condition_occurrence_id\": 155}, {\"visit_start_date\": \"2022-10\", \"condition_source_value\": \"B019\", \"condition_occurrence_id\": 383}, {\"visit_start_date\": \"2022-10\", \"condition_source_value\": \"J09\", \"condition_occurrence_id\": 168}, {\"visit_start_date\": \"2022-11\", \"condition_source_value\": \"B019\", \"condition_occurrence_id\": 330}, {\"visit_start_date\": \"2022-11\", \"condition_source_value\": \"J09\", \"condition_occurrence_id\": 157}, {\"visit_start_date\": \"2022-12\", \"condition_source_value\": \"B019\", \"condition_occurrence_id\": 397}, {\"visit_start_date\": \"2022-12\", \"condition_source_value\": \"J09\", \"condition_occurrence_id\": 218}, {\"visit_start_date\": \"2023-01\", \"condition_source_value\": \"B019\", \"condition_occurrence_id\": 408}, {\"visit_start_date\": \"2023-01\", \"condition_source_value\": \"J09\", \"condition_occurrence_id\": 244}, {\"visit_start_date\": \"2023-02\", \"condition_source_value\": \"B019\", \"condition_occurrence_id\": 343}, {\"visit_start_date\": \"2023-02\", \"condition_source_value\": \"J09\", \"condition_occurrence_id\": 203}, {\"visit_start_date\": \"2023-03\", \"condition_source_value\": \"B019\", \"condition_occurrence_id\": 362}, {\"visit_start_date\": \"2023-03\", \"condition_source_value\": \"J09\", \"condition_occurrence_id\": 263}, {\"visit_start_date\": \"2023-04\", \"condition_source_value\": \"B019\", \"condition_occurrence_id\": 396}, {\"visit_start_date\": \"2023-04\", \"condition_source_value\": \"J09\", \"condition_occurrence_id\": 258}, {\"visit_start_date\": \"2023-05\", \"condition_source_value\": \"B019\", \"condition_occurrence_id\": 453}, {\"visit_start_date\": \"2023-05\", \"condition_source_value\": \"J09\", \"condition_occurrence_id\": 266}, {\"visit_start_date\": \"2023-06\", \"condition_source_value\": \"B019\", \"condition_occurrence_id\": 407}, {\"visit_start_date\": \"2023-06\", \"condition_source_value\": \"J09\", \"condition_occurrence_id\": 262}, {\"visit_start_date\": \"2023-07\", \"condition_source_value\": \"B019\", \"condition_occurrence_id\": 436}, {\"visit_start_date\": \"2023-07\", \"condition_source_value\": \"J09\", \"condition_occurrence_id\": 327}, {\"visit_start_date\": \"2023-08\", \"condition_source_value\": \"B019\", \"condition_occurrence_id\": 428}, {\"visit_start_date\": \"2023-08\", \"condition_source_value\": \"J09\", \"condition_occurrence_id\": 366}, {\"visit_start_date\": \"2023-09\", \"condition_source_value\": \"B019\", \"condition_occurrence_id\": 403}, {\"visit_start_date\": \"2023-09\", \"condition_source_value\": \"J09\", \"condition_occurrence_id\": 341}, {\"visit_start_date\": \"2023-10\", \"condition_source_value\": \"B019\", \"condition_occurrence_id\": 409}, {\"visit_start_date\": \"2023-10\", \"condition_source_value\": \"J09\", \"condition_occurrence_id\": 400}, {\"visit_start_date\": \"2023-11\", \"condition_source_value\": \"B019\", \"condition_occurrence_id\": 403}, {\"visit_start_date\": \"2023-11\", \"condition_source_value\": \"J09\", \"condition_occurrence_id\": 351}, {\"visit_start_date\": \"2023-12\", \"condition_source_value\": \"B019\", \"condition_occurrence_id\": 366}, {\"visit_start_date\": \"2023-12\", \"condition_source_value\": \"J09\", \"condition_occurrence_id\": 415}, {\"visit_start_date\": \"2024-01\", \"condition_source_value\": \"B019\", \"condition_occurrence_id\": 390}, {\"visit_start_date\": \"2024-01\", \"condition_source_value\": \"J09\", \"condition_occurrence_id\": 450}, {\"visit_start_date\": \"2024-02\", \"condition_source_value\": \"B019\", \"condition_occurrence_id\": 379}, {\"visit_start_date\": \"2024-02\", \"condition_source_value\": \"J09\", \"condition_occurrence_id\": 453}, {\"visit_start_date\": \"2024-03\", \"condition_source_value\": \"B019\", \"condition_occurrence_id\": 400}, {\"visit_start_date\": \"2024-03\", \"condition_source_value\": \"J09\", \"condition_occurrence_id\": 483}, {\"visit_start_date\": \"2024-04\", \"condition_source_value\": \"B019\", \"condition_occurrence_id\": 403}, {\"visit_start_date\": \"2024-04\", \"condition_source_value\": \"J09\", \"condition_occurrence_id\": 503}, {\"visit_start_date\": \"2024-05\", \"condition_source_value\": \"B019\", \"condition_occurrence_id\": 431}, {\"visit_start_date\": \"2024-05\", \"condition_source_value\": \"J09\", \"condition_occurrence_id\": 571}, {\"visit_start_date\": \"2024-06\", \"condition_source_value\": \"B019\", \"condition_occurrence_id\": 390}, {\"visit_start_date\": \"2024-06\", \"condition_source_value\": \"J09\", \"condition_occurrence_id\": 579}, {\"visit_start_date\": \"2024-07\", \"condition_source_value\": \"B019\", \"condition_occurrence_id\": 384}, {\"visit_start_date\": \"2024-07\", \"condition_source_value\": \"J09\", \"condition_occurrence_id\": 676}, {\"visit_start_date\": \"2024-08\", \"condition_source_value\": \"B019\", \"condition_occurrence_id\": 402}, {\"visit_start_date\": \"2024-08\", \"condition_source_value\": \"J09\", \"condition_occurrence_id\": 677}, {\"visit_start_date\": \"2024-09\", \"condition_source_value\": \"B019\", \"condition_occurrence_id\": 366}, {\"visit_start_date\": \"2024-09\", \"condition_source_value\": \"J09\", \"condition_occurrence_id\": 686}, {\"visit_start_date\": \"2024-10\", \"condition_source_value\": \"B019\", \"condition_occurrence_id\": 383}, {\"visit_start_date\": \"2024-10\", \"condition_source_value\": \"J09\", \"condition_occurrence_id\": 811}, {\"visit_start_date\": \"2024-11\", \"condition_source_value\": \"B019\", \"condition_occurrence_id\": 12}, {\"visit_start_date\": \"2024-11\", \"condition_source_value\": \"J09\", \"condition_occurrence_id\": 21}, {\"visit_start_date\": \"2024-11\", \"condition_source_value\": \"J10\", \"condition_occurrence_id\": 817}, {\"visit_start_date\": \"2024-11\", \"condition_source_value\": \"V9544\", \"condition_occurrence_id\": 358}, {\"visit_start_date\": \"2024-12\", \"condition_source_value\": \"J10\", \"condition_occurrence_id\": 870}, {\"visit_start_date\": \"2024-12\", \"condition_source_value\": \"V9544\", \"condition_occurrence_id\": 388}, {\"visit_start_date\": \"2025-01\", \"condition_source_value\": \"J10\", \"condition_occurrence_id\": 950}, {\"visit_start_date\": \"2025-01\", \"condition_source_value\": \"V9544\", \"condition_occurrence_id\": 394}, {\"visit_start_date\": \"2025-02\", \"condition_source_value\": \"J10\", \"condition_occurrence_id\": 893}, {\"visit_start_date\": \"2025-02\", \"condition_source_value\": \"J11\", \"condition_occurrence_id\": 1}, {\"visit_start_date\": \"2025-02\", \"condition_source_value\": \"V9544\", \"condition_occurrence_id\": 373}, {\"visit_start_date\": \"2025-03\", \"condition_source_value\": \"J10\", \"condition_occurrence_id\": 1098}, {\"visit_start_date\": \"2025-03\", \"condition_source_value\": \"U0715\", \"condition_occurrence_id\": 1}, {\"visit_start_date\": \"2025-03\", \"condition_source_value\": \"V9544\", \"condition_occurrence_id\": 394}, {\"visit_start_date\": \"2025-04\", \"condition_source_value\": \"J10\", \"condition_occurrence_id\": 1104}, {\"visit_start_date\": \"2025-04\", \"condition_source_value\": \"J11\", \"condition_occurrence_id\": 2}, {\"visit_start_date\": \"2025-04\", \"condition_source_value\": \"U0715\", \"condition_occurrence_id\": 1}, {\"visit_start_date\": \"2025-04\", \"condition_source_value\": \"V9544\", \"condition_occurrence_id\": 388}, {\"visit_start_date\": \"2025-05\", \"condition_source_value\": \"J10\", \"condition_occurrence_id\": 1162}, {\"visit_start_date\": \"2025-05\", \"condition_source_value\": \"J11\", \"condition_occurrence_id\": 3}, {\"visit_start_date\": \"2025-05\", \"condition_source_value\": \"V9544\", \"condition_occurrence_id\": 395}, {\"visit_start_date\": \"2025-06\", \"condition_source_value\": \"J10\", \"condition_occurrence_id\": 1177}, {\"visit_start_date\": \"2025-06\", \"condition_source_value\": \"J11\", \"condition_occurrence_id\": 5}, {\"visit_start_date\": \"2025-06\", \"condition_source_value\": \"U0715\", \"condition_occurrence_id\": 2}, {\"visit_start_date\": \"2025-06\", \"condition_source_value\": \"V9544\", \"condition_occurrence_id\": 347}, {\"visit_start_date\": \"2025-07\", \"condition_source_value\": \"J10\", \"condition_occurrence_id\": 1320}, {\"visit_start_date\": \"2025-07\", \"condition_source_value\": \"J11\", \"condition_occurrence_id\": 4}, {\"visit_start_date\": \"2025-07\", \"condition_source_value\": \"U0715\", \"condition_occurrence_id\": 2}, {\"visit_start_date\": \"2025-07\", \"condition_source_value\": \"V9544\", \"condition_occurrence_id\": 395}, {\"visit_start_date\": \"2025-08\", \"condition_source_value\": \"J10\", \"condition_occurrence_id\": 46}, {\"visit_start_date\": \"2025-08\", \"condition_source_value\": \"J11\", \"condition_occurrence_id\": 1373}, {\"visit_start_date\": \"2025-08\", \"condition_source_value\": \"U0715\", \"condition_occurrence_id\": 408}, {\"visit_start_date\": \"2025-08\", \"condition_source_value\": \"V9544\", \"condition_occurrence_id\": 16}, {\"visit_start_date\": \"2025-09\", \"condition_source_value\": \"J11\", \"condition_occurrence_id\": 1481}, {\"visit_start_date\": \"2025-09\", \"condition_source_value\": \"U0715\", \"condition_occurrence_id\": 377}, {\"visit_start_date\": \"2025-10\", \"condition_source_value\": \"J11\", \"condition_occurrence_id\": 1593}, {\"visit_start_date\": \"2025-10\", \"condition_source_value\": \"U0715\", \"condition_occurrence_id\": 400}, {\"visit_start_date\": \"2025-11\", \"condition_source_value\": \"J11\", \"condition_occurrence_id\": 1695}, {\"visit_start_date\": \"2025-11\", \"condition_source_value\": \"U0715\", \"condition_occurrence_id\": 372}]}}, {\"mode\": \"vega-lite\"});\n",
       "</script>"
      ],
      "text/plain": [
       "alt.Chart(...)"
      ]
     },
     "execution_count": 39,
     "metadata": {},
     "output_type": "execute_result"
    }
   ],
   "source": [
    "temporal_repartition = df_cond_fix.groupby(['visit_start_date','condition_source_value'])['condition_occurrence_id'].count().reset_index()\n",
    "\n",
    "chart = alt.Chart(temporal_repartition).mark_bar().encode(\n",
    "    x=alt.X('visit_start_date:T', title='Visit Start Date'),\n",
    "    y=alt.Y('condition_occurrence_id:Q', title='Count of Visit Occurrence ID'),\n",
    "    color=alt.Color('condition_source_value:N', title='Condition Source Value')\n",
    ").properties(\n",
    "    title='Temporal Repartition of Visit Occurrence ID Counts by Condition Source Value',\n",
    "    width=800,\n",
    "    height=400\n",
    ")\n",
    "chart"
   ]
  },
  {
   "cell_type": "code",
   "execution_count": 40,
   "metadata": {},
   "outputs": [
    {
     "data": {
      "text/html": [
       "<div>\n",
       "<style scoped>\n",
       "    .dataframe tbody tr th:only-of-type {\n",
       "        vertical-align: middle;\n",
       "    }\n",
       "\n",
       "    .dataframe tbody tr th {\n",
       "        vertical-align: top;\n",
       "    }\n",
       "\n",
       "    .dataframe thead th {\n",
       "        text-align: right;\n",
       "    }\n",
       "</style>\n",
       "<table border=\"1\" class=\"dataframe\">\n",
       "  <thead>\n",
       "    <tr style=\"text-align: right;\">\n",
       "      <th></th>\n",
       "      <th>visit_start_date</th>\n",
       "      <th>condition_source_value</th>\n",
       "      <th>condition_occurrence_id</th>\n",
       "    </tr>\n",
       "  </thead>\n",
       "  <tbody>\n",
       "    <tr>\n",
       "      <th>0</th>\n",
       "      <td>2019-12</td>\n",
       "      <td>B019</td>\n",
       "      <td>402</td>\n",
       "    </tr>\n",
       "    <tr>\n",
       "      <th>1</th>\n",
       "      <td>2019-12</td>\n",
       "      <td>J09</td>\n",
       "      <td>27</td>\n",
       "    </tr>\n",
       "    <tr>\n",
       "      <th>2</th>\n",
       "      <td>2020-01</td>\n",
       "      <td>B019</td>\n",
       "      <td>384</td>\n",
       "    </tr>\n",
       "    <tr>\n",
       "      <th>3</th>\n",
       "      <td>2020-01</td>\n",
       "      <td>J09</td>\n",
       "      <td>22</td>\n",
       "    </tr>\n",
       "    <tr>\n",
       "      <th>4</th>\n",
       "      <td>2020-02</td>\n",
       "      <td>B019</td>\n",
       "      <td>342</td>\n",
       "    </tr>\n",
       "    <tr>\n",
       "      <th>...</th>\n",
       "      <td>...</td>\n",
       "      <td>...</td>\n",
       "      <td>...</td>\n",
       "    </tr>\n",
       "    <tr>\n",
       "      <th>152</th>\n",
       "      <td>2025-09</td>\n",
       "      <td>U0715</td>\n",
       "      <td>377</td>\n",
       "    </tr>\n",
       "    <tr>\n",
       "      <th>153</th>\n",
       "      <td>2025-10</td>\n",
       "      <td>J11</td>\n",
       "      <td>1593</td>\n",
       "    </tr>\n",
       "    <tr>\n",
       "      <th>154</th>\n",
       "      <td>2025-10</td>\n",
       "      <td>U0715</td>\n",
       "      <td>400</td>\n",
       "    </tr>\n",
       "    <tr>\n",
       "      <th>155</th>\n",
       "      <td>2025-11</td>\n",
       "      <td>J11</td>\n",
       "      <td>1695</td>\n",
       "    </tr>\n",
       "    <tr>\n",
       "      <th>156</th>\n",
       "      <td>2025-11</td>\n",
       "      <td>U0715</td>\n",
       "      <td>372</td>\n",
       "    </tr>\n",
       "  </tbody>\n",
       "</table>\n",
       "<p>157 rows × 3 columns</p>\n",
       "</div>"
      ],
      "text/plain": [
       "    visit_start_date condition_source_value  condition_occurrence_id\n",
       "0            2019-12                   B019                      402\n",
       "1            2019-12                    J09                       27\n",
       "2            2020-01                   B019                      384\n",
       "3            2020-01                    J09                       22\n",
       "4            2020-02                   B019                      342\n",
       "..               ...                    ...                      ...\n",
       "152          2025-09                  U0715                      377\n",
       "153          2025-10                    J11                     1593\n",
       "154          2025-10                  U0715                      400\n",
       "155          2025-11                    J11                     1695\n",
       "156          2025-11                  U0715                      372\n",
       "\n",
       "[157 rows x 3 columns]"
      ]
     },
     "execution_count": 40,
     "metadata": {},
     "output_type": "execute_result"
    }
   ],
   "source": [
    "temporal_repartition"
   ]
  },
  {
   "cell_type": "markdown",
   "metadata": {},
   "source": [
    "What do you observe ?"
   ]
  },
  {
   "attachments": {},
   "cell_type": "markdown",
   "metadata": {},
   "source": [
    "Create an `is_epidemic` column in the `df_cond_fix` DataFrame to detect conditions linked to the flu epidemic, using it associated codes (J09, J10, J11).\n",
    "\n",
    "Tip 1 : Create a `list_epidemic_icd10` gathering the epidemic codes.  \n",
    "TIP 2: You can use the `df_cond_fix.condition_source_value.apply()` function, and detect if each element of the column is in the `list_epidemic_icd10`. The argument can be a function of type :\n",
    "``` python\n",
    "lambda x: treatment(x)\n",
    "```"
   ]
  },
  {
   "cell_type": "code",
   "execution_count": 59,
   "metadata": {},
   "outputs": [],
   "source": [
    "list_epidemic_icd10 = ['JC09','J10','J11']"
   ]
  },
  {
   "cell_type": "code",
   "execution_count": 60,
   "metadata": {},
   "outputs": [],
   "source": [
    "df_cond_fix.loc[:,\"is_epidemic\"] = df_cond_fix['condition_source_value'].isin(list_epidemic_icd10)"
   ]
  },
  {
   "cell_type": "markdown",
   "metadata": {},
   "source": [
    "Create a `epidemic_cond_summary` DataFrame gathering the number of epidemic vs non-epidemic visits by `condition_start_date`."
   ]
  },
  {
   "cell_type": "code",
   "execution_count": 62,
   "metadata": {},
   "outputs": [],
   "source": [
    "epidemic_cond_summary = df_cond_fix.groupby(['visit_start_date','is_epidemic']).visit_occurrence_id.count().reset_index()"
   ]
  },
  {
   "cell_type": "code",
   "execution_count": 66,
   "metadata": {},
   "outputs": [
    {
     "data": {
      "text/html": [
       "<div>\n",
       "<style scoped>\n",
       "    .dataframe tbody tr th:only-of-type {\n",
       "        vertical-align: middle;\n",
       "    }\n",
       "\n",
       "    .dataframe tbody tr th {\n",
       "        vertical-align: top;\n",
       "    }\n",
       "\n",
       "    .dataframe thead th {\n",
       "        text-align: right;\n",
       "    }\n",
       "</style>\n",
       "<table border=\"1\" class=\"dataframe\">\n",
       "  <thead>\n",
       "    <tr style=\"text-align: right;\">\n",
       "      <th></th>\n",
       "      <th>visit_start_date</th>\n",
       "      <th>is_epidemic</th>\n",
       "      <th>visit_occurrence_id</th>\n",
       "    </tr>\n",
       "  </thead>\n",
       "  <tbody>\n",
       "    <tr>\n",
       "      <th>0</th>\n",
       "      <td>2019-12</td>\n",
       "      <td>False</td>\n",
       "      <td>429</td>\n",
       "    </tr>\n",
       "    <tr>\n",
       "      <th>1</th>\n",
       "      <td>2020-01</td>\n",
       "      <td>False</td>\n",
       "      <td>406</td>\n",
       "    </tr>\n",
       "    <tr>\n",
       "      <th>2</th>\n",
       "      <td>2020-02</td>\n",
       "      <td>False</td>\n",
       "      <td>357</td>\n",
       "    </tr>\n",
       "    <tr>\n",
       "      <th>3</th>\n",
       "      <td>2020-03</td>\n",
       "      <td>False</td>\n",
       "      <td>430</td>\n",
       "    </tr>\n",
       "    <tr>\n",
       "      <th>4</th>\n",
       "      <td>2020-04</td>\n",
       "      <td>False</td>\n",
       "      <td>402</td>\n",
       "    </tr>\n",
       "    <tr>\n",
       "      <th>...</th>\n",
       "      <td>...</td>\n",
       "      <td>...</td>\n",
       "      <td>...</td>\n",
       "    </tr>\n",
       "    <tr>\n",
       "      <th>80</th>\n",
       "      <td>2025-09</td>\n",
       "      <td>True</td>\n",
       "      <td>1481</td>\n",
       "    </tr>\n",
       "    <tr>\n",
       "      <th>81</th>\n",
       "      <td>2025-10</td>\n",
       "      <td>False</td>\n",
       "      <td>400</td>\n",
       "    </tr>\n",
       "    <tr>\n",
       "      <th>82</th>\n",
       "      <td>2025-10</td>\n",
       "      <td>True</td>\n",
       "      <td>1593</td>\n",
       "    </tr>\n",
       "    <tr>\n",
       "      <th>83</th>\n",
       "      <td>2025-11</td>\n",
       "      <td>False</td>\n",
       "      <td>372</td>\n",
       "    </tr>\n",
       "    <tr>\n",
       "      <th>84</th>\n",
       "      <td>2025-11</td>\n",
       "      <td>True</td>\n",
       "      <td>1695</td>\n",
       "    </tr>\n",
       "  </tbody>\n",
       "</table>\n",
       "<p>85 rows × 3 columns</p>\n",
       "</div>"
      ],
      "text/plain": [
       "   visit_start_date  is_epidemic  visit_occurrence_id\n",
       "0           2019-12        False                  429\n",
       "1           2020-01        False                  406\n",
       "2           2020-02        False                  357\n",
       "3           2020-03        False                  430\n",
       "4           2020-04        False                  402\n",
       "..              ...          ...                  ...\n",
       "80          2025-09         True                 1481\n",
       "81          2025-10        False                  400\n",
       "82          2025-10         True                 1593\n",
       "83          2025-11        False                  372\n",
       "84          2025-11         True                 1695\n",
       "\n",
       "[85 rows x 3 columns]"
      ]
     },
     "execution_count": 66,
     "metadata": {},
     "output_type": "execute_result"
    }
   ],
   "source": [
    "epidemic_cond_summary"
   ]
  },
  {
   "cell_type": "markdown",
   "metadata": {},
   "source": [
    "Plot the temporal repartition of epidemic visits compared to non-epidemic visits."
   ]
  },
  {
   "cell_type": "code",
   "execution_count": 68,
   "metadata": {},
   "outputs": [
    {
     "data": {
      "text/html": [
       "\n",
       "<style>\n",
       "  #altair-viz-b95a10aca83e413b8537afbbcb9ea67b.vega-embed {\n",
       "    width: 100%;\n",
       "    display: flex;\n",
       "  }\n",
       "\n",
       "  #altair-viz-b95a10aca83e413b8537afbbcb9ea67b.vega-embed details,\n",
       "  #altair-viz-b95a10aca83e413b8537afbbcb9ea67b.vega-embed details summary {\n",
       "    position: relative;\n",
       "  }\n",
       "</style>\n",
       "<div id=\"altair-viz-b95a10aca83e413b8537afbbcb9ea67b\"></div>\n",
       "<script type=\"text/javascript\">\n",
       "  var VEGA_DEBUG = (typeof VEGA_DEBUG == \"undefined\") ? {} : VEGA_DEBUG;\n",
       "  (function(spec, embedOpt){\n",
       "    let outputDiv = document.currentScript.previousElementSibling;\n",
       "    if (outputDiv.id !== \"altair-viz-b95a10aca83e413b8537afbbcb9ea67b\") {\n",
       "      outputDiv = document.getElementById(\"altair-viz-b95a10aca83e413b8537afbbcb9ea67b\");\n",
       "    }\n",
       "\n",
       "    const paths = {\n",
       "      \"vega\": \"https://cdn.jsdelivr.net/npm/vega@5?noext\",\n",
       "      \"vega-lib\": \"https://cdn.jsdelivr.net/npm/vega-lib?noext\",\n",
       "      \"vega-lite\": \"https://cdn.jsdelivr.net/npm/vega-lite@5.20.1?noext\",\n",
       "      \"vega-embed\": \"https://cdn.jsdelivr.net/npm/vega-embed@6?noext\",\n",
       "    };\n",
       "\n",
       "    function maybeLoadScript(lib, version) {\n",
       "      var key = `${lib.replace(\"-\", \"\")}_version`;\n",
       "      return (VEGA_DEBUG[key] == version) ?\n",
       "        Promise.resolve(paths[lib]) :\n",
       "        new Promise(function(resolve, reject) {\n",
       "          var s = document.createElement('script');\n",
       "          document.getElementsByTagName(\"head\")[0].appendChild(s);\n",
       "          s.async = true;\n",
       "          s.onload = () => {\n",
       "            VEGA_DEBUG[key] = version;\n",
       "            return resolve(paths[lib]);\n",
       "          };\n",
       "          s.onerror = () => reject(`Error loading script: ${paths[lib]}`);\n",
       "          s.src = paths[lib];\n",
       "        });\n",
       "    }\n",
       "\n",
       "    function showError(err) {\n",
       "      outputDiv.innerHTML = `<div class=\"error\" style=\"color:red;\">${err}</div>`;\n",
       "      throw err;\n",
       "    }\n",
       "\n",
       "    function displayChart(vegaEmbed) {\n",
       "      vegaEmbed(outputDiv, spec, embedOpt)\n",
       "        .catch(err => showError(`Javascript Error: ${err.message}<br>This usually means there's a typo in your chart specification. See the javascript console for the full traceback.`));\n",
       "    }\n",
       "\n",
       "    if(typeof define === \"function\" && define.amd) {\n",
       "      requirejs.config({paths});\n",
       "      let deps = [\"vega-embed\"];\n",
       "      require(deps, displayChart, err => showError(`Error loading script: ${err.message}`));\n",
       "    } else {\n",
       "      maybeLoadScript(\"vega\", \"5\")\n",
       "        .then(() => maybeLoadScript(\"vega-lite\", \"5.20.1\"))\n",
       "        .then(() => maybeLoadScript(\"vega-embed\", \"6\"))\n",
       "        .catch(showError)\n",
       "        .then(() => displayChart(vegaEmbed));\n",
       "    }\n",
       "  })({\"config\": {\"view\": {\"continuousWidth\": 300, \"continuousHeight\": 300}}, \"data\": {\"name\": \"data-1d1932ab383cc4d4a0cf4705c41567f9\"}, \"mark\": {\"type\": \"line\"}, \"encoding\": {\"color\": {\"field\": \"is_epidemic\", \"type\": \"nominal\"}, \"x\": {\"field\": \"visit_start_date\", \"type\": \"temporal\"}, \"y\": {\"field\": \"visit_occurrence_id\", \"type\": \"quantitative\"}}, \"$schema\": \"https://vega.github.io/schema/vega-lite/v5.20.1.json\", \"datasets\": {\"data-1d1932ab383cc4d4a0cf4705c41567f9\": [{\"visit_start_date\": \"2019-12\", \"is_epidemic\": false, \"visit_occurrence_id\": 429}, {\"visit_start_date\": \"2020-01\", \"is_epidemic\": false, \"visit_occurrence_id\": 406}, {\"visit_start_date\": \"2020-02\", \"is_epidemic\": false, \"visit_occurrence_id\": 357}, {\"visit_start_date\": \"2020-03\", \"is_epidemic\": false, \"visit_occurrence_id\": 430}, {\"visit_start_date\": \"2020-04\", \"is_epidemic\": false, \"visit_occurrence_id\": 402}, {\"visit_start_date\": \"2020-05\", \"is_epidemic\": false, \"visit_occurrence_id\": 440}, {\"visit_start_date\": \"2020-06\", \"is_epidemic\": false, \"visit_occurrence_id\": 422}, {\"visit_start_date\": \"2020-07\", \"is_epidemic\": false, \"visit_occurrence_id\": 419}, {\"visit_start_date\": \"2020-08\", \"is_epidemic\": false, \"visit_occurrence_id\": 446}, {\"visit_start_date\": \"2020-09\", \"is_epidemic\": false, \"visit_occurrence_id\": 405}, {\"visit_start_date\": \"2020-10\", \"is_epidemic\": false, \"visit_occurrence_id\": 457}, {\"visit_start_date\": \"2020-11\", \"is_epidemic\": false, \"visit_occurrence_id\": 444}, {\"visit_start_date\": \"2020-12\", \"is_epidemic\": false, \"visit_occurrence_id\": 421}, {\"visit_start_date\": \"2021-01\", \"is_epidemic\": false, \"visit_occurrence_id\": 467}, {\"visit_start_date\": \"2021-02\", \"is_epidemic\": false, \"visit_occurrence_id\": 410}, {\"visit_start_date\": \"2021-03\", \"is_epidemic\": false, \"visit_occurrence_id\": 427}, {\"visit_start_date\": \"2021-04\", \"is_epidemic\": false, \"visit_occurrence_id\": 423}, {\"visit_start_date\": \"2021-05\", \"is_epidemic\": false, \"visit_occurrence_id\": 488}, {\"visit_start_date\": \"2021-06\", \"is_epidemic\": false, \"visit_occurrence_id\": 452}, {\"visit_start_date\": \"2021-07\", \"is_epidemic\": false, \"visit_occurrence_id\": 504}, {\"visit_start_date\": \"2021-08\", \"is_epidemic\": false, \"visit_occurrence_id\": 458}, {\"visit_start_date\": \"2021-09\", \"is_epidemic\": false, \"visit_occurrence_id\": 487}, {\"visit_start_date\": \"2021-10\", \"is_epidemic\": false, \"visit_occurrence_id\": 532}, {\"visit_start_date\": \"2021-11\", \"is_epidemic\": false, \"visit_occurrence_id\": 478}, {\"visit_start_date\": \"2021-12\", \"is_epidemic\": false, \"visit_occurrence_id\": 512}, {\"visit_start_date\": \"2022-01\", \"is_epidemic\": false, \"visit_occurrence_id\": 494}, {\"visit_start_date\": \"2022-02\", \"is_epidemic\": false, \"visit_occurrence_id\": 467}, {\"visit_start_date\": \"2022-03\", \"is_epidemic\": false, \"visit_occurrence_id\": 489}, {\"visit_start_date\": \"2022-04\", \"is_epidemic\": false, \"visit_occurrence_id\": 448}, {\"visit_start_date\": \"2022-05\", \"is_epidemic\": false, \"visit_occurrence_id\": 564}, {\"visit_start_date\": \"2022-06\", \"is_epidemic\": false, \"visit_occurrence_id\": 517}, {\"visit_start_date\": \"2022-07\", \"is_epidemic\": false, \"visit_occurrence_id\": 559}, {\"visit_start_date\": \"2022-08\", \"is_epidemic\": false, \"visit_occurrence_id\": 562}, {\"visit_start_date\": \"2022-09\", \"is_epidemic\": false, \"visit_occurrence_id\": 573}, {\"visit_start_date\": \"2022-10\", \"is_epidemic\": false, \"visit_occurrence_id\": 551}, {\"visit_start_date\": \"2022-11\", \"is_epidemic\": false, \"visit_occurrence_id\": 487}, {\"visit_start_date\": \"2022-12\", \"is_epidemic\": false, \"visit_occurrence_id\": 615}, {\"visit_start_date\": \"2023-01\", \"is_epidemic\": false, \"visit_occurrence_id\": 652}, {\"visit_start_date\": \"2023-02\", \"is_epidemic\": false, \"visit_occurrence_id\": 546}, {\"visit_start_date\": \"2023-03\", \"is_epidemic\": false, \"visit_occurrence_id\": 625}, {\"visit_start_date\": \"2023-04\", \"is_epidemic\": false, \"visit_occurrence_id\": 654}, {\"visit_start_date\": \"2023-05\", \"is_epidemic\": false, \"visit_occurrence_id\": 719}, {\"visit_start_date\": \"2023-06\", \"is_epidemic\": false, \"visit_occurrence_id\": 669}, {\"visit_start_date\": \"2023-07\", \"is_epidemic\": false, \"visit_occurrence_id\": 763}, {\"visit_start_date\": \"2023-08\", \"is_epidemic\": false, \"visit_occurrence_id\": 794}, {\"visit_start_date\": \"2023-09\", \"is_epidemic\": false, \"visit_occurrence_id\": 744}, {\"visit_start_date\": \"2023-10\", \"is_epidemic\": false, \"visit_occurrence_id\": 809}, {\"visit_start_date\": \"2023-11\", \"is_epidemic\": false, \"visit_occurrence_id\": 754}, {\"visit_start_date\": \"2023-12\", \"is_epidemic\": false, \"visit_occurrence_id\": 781}, {\"visit_start_date\": \"2024-01\", \"is_epidemic\": false, \"visit_occurrence_id\": 840}, {\"visit_start_date\": \"2024-02\", \"is_epidemic\": false, \"visit_occurrence_id\": 832}, {\"visit_start_date\": \"2024-03\", \"is_epidemic\": false, \"visit_occurrence_id\": 883}, {\"visit_start_date\": \"2024-04\", \"is_epidemic\": false, \"visit_occurrence_id\": 906}, {\"visit_start_date\": \"2024-05\", \"is_epidemic\": false, \"visit_occurrence_id\": 1002}, {\"visit_start_date\": \"2024-06\", \"is_epidemic\": false, \"visit_occurrence_id\": 969}, {\"visit_start_date\": \"2024-07\", \"is_epidemic\": false, \"visit_occurrence_id\": 1060}, {\"visit_start_date\": \"2024-08\", \"is_epidemic\": false, \"visit_occurrence_id\": 1079}, {\"visit_start_date\": \"2024-09\", \"is_epidemic\": false, \"visit_occurrence_id\": 1052}, {\"visit_start_date\": \"2024-10\", \"is_epidemic\": false, \"visit_occurrence_id\": 1194}, {\"visit_start_date\": \"2024-11\", \"is_epidemic\": false, \"visit_occurrence_id\": 391}, {\"visit_start_date\": \"2024-11\", \"is_epidemic\": true, \"visit_occurrence_id\": 817}, {\"visit_start_date\": \"2024-12\", \"is_epidemic\": false, \"visit_occurrence_id\": 388}, {\"visit_start_date\": \"2024-12\", \"is_epidemic\": true, \"visit_occurrence_id\": 870}, {\"visit_start_date\": \"2025-01\", \"is_epidemic\": false, \"visit_occurrence_id\": 394}, {\"visit_start_date\": \"2025-01\", \"is_epidemic\": true, \"visit_occurrence_id\": 950}, {\"visit_start_date\": \"2025-02\", \"is_epidemic\": false, \"visit_occurrence_id\": 373}, {\"visit_start_date\": \"2025-02\", \"is_epidemic\": true, \"visit_occurrence_id\": 894}, {\"visit_start_date\": \"2025-03\", \"is_epidemic\": false, \"visit_occurrence_id\": 395}, {\"visit_start_date\": \"2025-03\", \"is_epidemic\": true, \"visit_occurrence_id\": 1098}, {\"visit_start_date\": \"2025-04\", \"is_epidemic\": false, \"visit_occurrence_id\": 389}, {\"visit_start_date\": \"2025-04\", \"is_epidemic\": true, \"visit_occurrence_id\": 1106}, {\"visit_start_date\": \"2025-05\", \"is_epidemic\": false, \"visit_occurrence_id\": 395}, {\"visit_start_date\": \"2025-05\", \"is_epidemic\": true, \"visit_occurrence_id\": 1165}, {\"visit_start_date\": \"2025-06\", \"is_epidemic\": false, \"visit_occurrence_id\": 349}, {\"visit_start_date\": \"2025-06\", \"is_epidemic\": true, \"visit_occurrence_id\": 1182}, {\"visit_start_date\": \"2025-07\", \"is_epidemic\": false, \"visit_occurrence_id\": 397}, {\"visit_start_date\": \"2025-07\", \"is_epidemic\": true, \"visit_occurrence_id\": 1324}, {\"visit_start_date\": \"2025-08\", \"is_epidemic\": false, \"visit_occurrence_id\": 424}, {\"visit_start_date\": \"2025-08\", \"is_epidemic\": true, \"visit_occurrence_id\": 1419}, {\"visit_start_date\": \"2025-09\", \"is_epidemic\": false, \"visit_occurrence_id\": 377}, {\"visit_start_date\": \"2025-09\", \"is_epidemic\": true, \"visit_occurrence_id\": 1481}, {\"visit_start_date\": \"2025-10\", \"is_epidemic\": false, \"visit_occurrence_id\": 400}, {\"visit_start_date\": \"2025-10\", \"is_epidemic\": true, \"visit_occurrence_id\": 1593}, {\"visit_start_date\": \"2025-11\", \"is_epidemic\": false, \"visit_occurrence_id\": 372}, {\"visit_start_date\": \"2025-11\", \"is_epidemic\": true, \"visit_occurrence_id\": 1695}]}}, {\"mode\": \"vega-lite\"});\n",
       "</script>"
      ],
      "text/plain": [
       "alt.Chart(...)"
      ]
     },
     "execution_count": 68,
     "metadata": {},
     "output_type": "execute_result"
    }
   ],
   "source": [
    "alt.Chart(epidemic_cond_summary).mark_line().encode(\n",
    "    x='visit_start_date:T',\n",
    "    y='visit_occurrence_id:Q',\n",
    "    color=\"is_epidemic:N\"\n",
    ")"
   ]
  },
  {
   "cell_type": "markdown",
   "metadata": {},
   "source": [
    "<a id=\"stat\"></a>\n",
    "# 3. Statistical analysis"
   ]
  },
  {
   "cell_type": "markdown",
   "metadata": {},
   "source": [
    "Now that we have pre-processed raw data to correct flawed or missing values and to define research-oriented variables, we can conduct the statistical analysis. Our data is ready to plot the Kaplan-Meier estimates of survival curves, and realize the log-rank tests.  \n",
    "We are only interested in epidemic visits, so filter out non epidemic conditions in the `df_cond_fix` DataFrame, and deduce from it the `df_visit_epidemic` DataFrame.\n"
   ]
  },
  {
   "cell_type": "code",
   "execution_count": 73,
   "metadata": {},
   "outputs": [],
   "source": [
    "df_cond_epidemic = df_cond_fix[df_cond_fix.is_epidemic]\n",
    "df_visit_epidemic = df_cond_epidemic[df_cond_epidemic.visit_occurrence_id.isin(df_visit_fix.visit_occurrence_id)]"
   ]
  },
  {
   "cell_type": "code",
   "execution_count": 74,
   "metadata": {},
   "outputs": [
    {
     "data": {
      "text/html": [
       "<div>\n",
       "<style scoped>\n",
       "    .dataframe tbody tr th:only-of-type {\n",
       "        vertical-align: middle;\n",
       "    }\n",
       "\n",
       "    .dataframe tbody tr th {\n",
       "        vertical-align: top;\n",
       "    }\n",
       "\n",
       "    .dataframe thead th {\n",
       "        text-align: right;\n",
       "    }\n",
       "</style>\n",
       "<table border=\"1\" class=\"dataframe\">\n",
       "  <thead>\n",
       "    <tr style=\"text-align: right;\">\n",
       "      <th></th>\n",
       "      <th>visit_occurrence_id</th>\n",
       "      <th>person_id_x</th>\n",
       "      <th>condition_occurrence_id</th>\n",
       "      <th>condition_source_value</th>\n",
       "      <th>care_site_id</th>\n",
       "      <th>visit_start_datetime</th>\n",
       "      <th>visit_end_datetime</th>\n",
       "      <th>person_id_y</th>\n",
       "      <th>visit_source_value</th>\n",
       "      <th>visit_date</th>\n",
       "      <th>visit_start_date</th>\n",
       "      <th>is_epidemic</th>\n",
       "    </tr>\n",
       "  </thead>\n",
       "  <tbody>\n",
       "    <tr>\n",
       "      <th>0</th>\n",
       "      <td>87039763</td>\n",
       "      <td>85935943</td>\n",
       "      <td>86006023</td>\n",
       "      <td>J10</td>\n",
       "      <td>Hopital M.Bres</td>\n",
       "      <td>2024-12-24</td>\n",
       "      <td>2025-01-10</td>\n",
       "      <td>85935943</td>\n",
       "      <td>Hospitalisés</td>\n",
       "      <td>2024-12</td>\n",
       "      <td>2024-12</td>\n",
       "      <td>True</td>\n",
       "    </tr>\n",
       "    <tr>\n",
       "      <th>1</th>\n",
       "      <td>83184379</td>\n",
       "      <td>87104656</td>\n",
       "      <td>87765316</td>\n",
       "      <td>J11</td>\n",
       "      <td>Centre F.Sinoussi</td>\n",
       "      <td>2025-09-01</td>\n",
       "      <td>2025-09-21</td>\n",
       "      <td>87104656</td>\n",
       "      <td>Hospitalisés</td>\n",
       "      <td>2025-09</td>\n",
       "      <td>2025-09</td>\n",
       "      <td>True</td>\n",
       "    </tr>\n",
       "    <tr>\n",
       "      <th>3</th>\n",
       "      <td>84290710</td>\n",
       "      <td>82815332</td>\n",
       "      <td>84026043</td>\n",
       "      <td>J10</td>\n",
       "      <td>Hopital M.Bres</td>\n",
       "      <td>2024-11-27</td>\n",
       "      <td>2024-12-13</td>\n",
       "      <td>82815332</td>\n",
       "      <td>Hospitalisés</td>\n",
       "      <td>2024-11</td>\n",
       "      <td>2024-11</td>\n",
       "      <td>True</td>\n",
       "    </tr>\n",
       "    <tr>\n",
       "      <th>4</th>\n",
       "      <td>87357364</td>\n",
       "      <td>80509718</td>\n",
       "      <td>86346709</td>\n",
       "      <td>J10</td>\n",
       "      <td>Centre F.Sinoussi</td>\n",
       "      <td>2025-07-29</td>\n",
       "      <td>2025-08-07</td>\n",
       "      <td>80509718</td>\n",
       "      <td>Hospitalisés</td>\n",
       "      <td>2025-07</td>\n",
       "      <td>2025-07</td>\n",
       "      <td>True</td>\n",
       "    </tr>\n",
       "    <tr>\n",
       "      <th>5</th>\n",
       "      <td>88338373</td>\n",
       "      <td>82930310</td>\n",
       "      <td>82263988</td>\n",
       "      <td>J11</td>\n",
       "      <td>Hopital M.Bres</td>\n",
       "      <td>2025-09-24</td>\n",
       "      <td>2025-10-10</td>\n",
       "      <td>82930310</td>\n",
       "      <td>Hospitalisés</td>\n",
       "      <td>2025-09</td>\n",
       "      <td>2025-09</td>\n",
       "      <td>True</td>\n",
       "    </tr>\n",
       "    <tr>\n",
       "      <th>...</th>\n",
       "      <td>...</td>\n",
       "      <td>...</td>\n",
       "      <td>...</td>\n",
       "      <td>...</td>\n",
       "      <td>...</td>\n",
       "      <td>...</td>\n",
       "      <td>...</td>\n",
       "      <td>...</td>\n",
       "      <td>...</td>\n",
       "      <td>...</td>\n",
       "      <td>...</td>\n",
       "      <td>...</td>\n",
       "    </tr>\n",
       "    <tr>\n",
       "      <th>54667</th>\n",
       "      <td>89868607</td>\n",
       "      <td>82362004</td>\n",
       "      <td>87492332</td>\n",
       "      <td>J10</td>\n",
       "      <td>Clinique L.Pasteur</td>\n",
       "      <td>2025-04-11</td>\n",
       "      <td>2025-04-26</td>\n",
       "      <td>82362004</td>\n",
       "      <td>Hospitalisés</td>\n",
       "      <td>2025-04</td>\n",
       "      <td>2025-04</td>\n",
       "      <td>True</td>\n",
       "    </tr>\n",
       "    <tr>\n",
       "      <th>54668</th>\n",
       "      <td>85970163</td>\n",
       "      <td>84822905</td>\n",
       "      <td>89260958</td>\n",
       "      <td>J11</td>\n",
       "      <td>Centre F.Sinoussi</td>\n",
       "      <td>2025-11-27</td>\n",
       "      <td>2025-11-28</td>\n",
       "      <td>84822905</td>\n",
       "      <td>Hospitalisés</td>\n",
       "      <td>2025-11</td>\n",
       "      <td>2025-11</td>\n",
       "      <td>True</td>\n",
       "    </tr>\n",
       "    <tr>\n",
       "      <th>54671</th>\n",
       "      <td>84513476</td>\n",
       "      <td>81747337</td>\n",
       "      <td>86729376</td>\n",
       "      <td>J10</td>\n",
       "      <td>Clinique L.Pasteur</td>\n",
       "      <td>2025-03-16</td>\n",
       "      <td>2025-03-16</td>\n",
       "      <td>81747337</td>\n",
       "      <td>Hospitalisés</td>\n",
       "      <td>2025-03</td>\n",
       "      <td>2025-03</td>\n",
       "      <td>True</td>\n",
       "    </tr>\n",
       "    <tr>\n",
       "      <th>54673</th>\n",
       "      <td>88180300</td>\n",
       "      <td>88929177</td>\n",
       "      <td>83062198</td>\n",
       "      <td>J11</td>\n",
       "      <td>Hopital M.Bres</td>\n",
       "      <td>2025-08-22</td>\n",
       "      <td>2025-09-02</td>\n",
       "      <td>88929177</td>\n",
       "      <td>Hospitalisés</td>\n",
       "      <td>2025-08</td>\n",
       "      <td>2025-08</td>\n",
       "      <td>True</td>\n",
       "    </tr>\n",
       "    <tr>\n",
       "      <th>54676</th>\n",
       "      <td>80595700</td>\n",
       "      <td>89019785</td>\n",
       "      <td>88902142</td>\n",
       "      <td>J11</td>\n",
       "      <td>Centre F.Sinoussi</td>\n",
       "      <td>2025-11-10</td>\n",
       "      <td>2025-11-12</td>\n",
       "      <td>89019785</td>\n",
       "      <td>Hospitalisés</td>\n",
       "      <td>2025-11</td>\n",
       "      <td>2025-11</td>\n",
       "      <td>True</td>\n",
       "    </tr>\n",
       "  </tbody>\n",
       "</table>\n",
       "<p>15594 rows × 12 columns</p>\n",
       "</div>"
      ],
      "text/plain": [
       "       visit_occurrence_id  person_id_x  condition_occurrence_id  \\\n",
       "0                 87039763     85935943                 86006023   \n",
       "1                 83184379     87104656                 87765316   \n",
       "3                 84290710     82815332                 84026043   \n",
       "4                 87357364     80509718                 86346709   \n",
       "5                 88338373     82930310                 82263988   \n",
       "...                    ...          ...                      ...   \n",
       "54667             89868607     82362004                 87492332   \n",
       "54668             85970163     84822905                 89260958   \n",
       "54671             84513476     81747337                 86729376   \n",
       "54673             88180300     88929177                 83062198   \n",
       "54676             80595700     89019785                 88902142   \n",
       "\n",
       "      condition_source_value        care_site_id visit_start_datetime  \\\n",
       "0                        J10      Hopital M.Bres           2024-12-24   \n",
       "1                        J11   Centre F.Sinoussi           2025-09-01   \n",
       "3                        J10      Hopital M.Bres           2024-11-27   \n",
       "4                        J10   Centre F.Sinoussi           2025-07-29   \n",
       "5                        J11      Hopital M.Bres           2025-09-24   \n",
       "...                      ...                 ...                  ...   \n",
       "54667                    J10  Clinique L.Pasteur           2025-04-11   \n",
       "54668                    J11   Centre F.Sinoussi           2025-11-27   \n",
       "54671                    J10  Clinique L.Pasteur           2025-03-16   \n",
       "54673                    J11      Hopital M.Bres           2025-08-22   \n",
       "54676                    J11   Centre F.Sinoussi           2025-11-10   \n",
       "\n",
       "      visit_end_datetime  person_id_y visit_source_value visit_date  \\\n",
       "0             2025-01-10     85935943       Hospitalisés    2024-12   \n",
       "1             2025-09-21     87104656       Hospitalisés    2025-09   \n",
       "3             2024-12-13     82815332       Hospitalisés    2024-11   \n",
       "4             2025-08-07     80509718       Hospitalisés    2025-07   \n",
       "5             2025-10-10     82930310       Hospitalisés    2025-09   \n",
       "...                  ...          ...                ...        ...   \n",
       "54667         2025-04-26     82362004       Hospitalisés    2025-04   \n",
       "54668         2025-11-28     84822905       Hospitalisés    2025-11   \n",
       "54671         2025-03-16     81747337       Hospitalisés    2025-03   \n",
       "54673         2025-09-02     88929177       Hospitalisés    2025-08   \n",
       "54676         2025-11-12     89019785       Hospitalisés    2025-11   \n",
       "\n",
       "      visit_start_date  is_epidemic  \n",
       "0              2024-12         True  \n",
       "1              2025-09         True  \n",
       "3              2024-11         True  \n",
       "4              2025-07         True  \n",
       "5              2025-09         True  \n",
       "...                ...          ...  \n",
       "54667          2025-04         True  \n",
       "54668          2025-11         True  \n",
       "54671          2025-03         True  \n",
       "54673          2025-08         True  \n",
       "54676          2025-11         True  \n",
       "\n",
       "[15594 rows x 12 columns]"
      ]
     },
     "execution_count": 74,
     "metadata": {},
     "output_type": "execute_result"
    }
   ],
   "source": [
    "df_visit_epidemic"
   ]
  },
  {
   "cell_type": "markdown",
   "metadata": {},
   "source": [
    "<a id=\"stat_first_kaplan\"></a>\n",
    "### 3.1 First objective : Are the drugs efficient on the overall population ?"
   ]
  },
  {
   "cell_type": "markdown",
   "metadata": {},
   "source": [
    "Plot the new primary Kaplan-Meier estimates for the whole `df_person_fix` DataFrame with regards to the epidemic conditions, newly fixed visits and drug administration."
   ]
  },
  {
   "cell_type": "code",
   "execution_count": 79,
   "metadata": {},
   "outputs": [
    {
     "name": "stdout",
     "output_type": "stream",
     "text": [
      "\n",
      "Function that displays survival curves computed by the KaplanMeierFitter function from the lifeline package. \n",
      "It compares the drugA and drugB effects to the control cohort.\n",
      "\n",
      "Parameters\n",
      "----------\n",
      ":param df_person_kaplan: pandas df,\n",
      "    DataFrame gathering the demographic data about the patients of interest.\n",
      "    Must have the same structure as the initial `df_person` table (must contain especially `person_id`\n",
      "    and potential `death_datetime`).\n",
      ":param list_case: list of tuples,\n",
      "    List of studied case for the survival analysis.\n",
      "    List of tuple (df_visit-pandas df-, df_med-pandas df-, name-str-) having :\n",
      "        - df_visit : hospitalization DataFrame, with information on entry/exit dates\n",
      "        - df_med : drug administration DataFrame, must contain ONLY the drugs of interest (i.e epidemic)\n",
      "        - name : name of the studied case (for visualization purposes)\n",
      ":param t_end_of_study: datetime.date,\n",
      "    Date of the end of the study, i.e after which no information can be trusted (censoring).\n",
      "\n",
      "Returns\n",
      "-------\n",
      ":return: None\n",
      "    Plots the survival curves built by the Kaplan-Meier estimates.\n",
      "\n"
     ]
    }
   ],
   "source": [
    "print(plot_primary_kaplan.__doc__)"
   ]
  },
  {
   "cell_type": "code",
   "execution_count": 87,
   "metadata": {},
   "outputs": [],
   "source": [
    "df_visit_epidemic = df_visit_epidemic.rename(columns={'person_id_x': 'person_id'})"
   ]
  },
  {
   "cell_type": "code",
   "execution_count": 91,
   "metadata": {},
   "outputs": [
    {
     "data": {
      "image/png": "[encoded data removed]",
      "text/plain": [
       "<Figure size 1050x550 with 4 Axes>"
      ]
     },
     "metadata": {},
     "output_type": "display_data"
    }
   ],
   "source": [
    "plot_primary_kaplan(df_person_kaplan=df_person_fix, list_case=[(df_visit_epidemic,df_med,\"all population\")], t_end_of_study=end_of_study)"
   ]
  },
  {
   "cell_type": "markdown",
   "metadata": {},
   "source": [
    "What do you observe ?"
   ]
  },
  {
   "cell_type": "markdown",
   "metadata": {},
   "source": [
    "<a id=\"stat_second_kaplan\"></a>\n",
    "### 3.2 Second objective : Sub-population analysis"
   ]
  },
  {
   "cell_type": "markdown",
   "metadata": {},
   "source": [
    "To reach our secondary objective, we now conduct the same statistical analysis on sub-populations that correspond to different sexes and ages  in order to obtain a better insight on drugs' efficiencies.  \n",
    "\n",
    "Plot the secondary Kaplain-Meier estimates for the sub-group analysis on **cohort A**:"
   ]
  },
  {
   "cell_type": "code",
   "execution_count": null,
   "metadata": {},
   "outputs": [],
   "source": [
    "plot_secondary_kaplan(#TODO)"
   ]
  },
  {
   "cell_type": "markdown",
   "metadata": {},
   "source": [
    "Plot the secondary Kaplain-Meier estimates for the sub-group analysis on **cohort B**:"
   ]
  },
  {
   "cell_type": "code",
   "execution_count": null,
   "metadata": {},
   "outputs": [],
   "source": [
    "plot_secondary_kaplan(#TODO)"
   ]
  },
  {
   "cell_type": "markdown",
   "metadata": {},
   "source": [
    "What can you conclude from this subgroup analyses ?"
   ]
  },
  {
   "cell_type": "markdown",
   "metadata": {},
   "source": [
    "The analysis presented in this notebook is obviously not representative of a real research study that usually comprises more data transformations and a more involved statistical design. In particular, we have not considered the biases that may be induced by discarding missing data although it is a crucial issue that may be addressed leveraging complex statistical methodologies. This notebook aims only at providing a first illustration of some challenges related to the analysis of Real-World Data provided in hospitals' clinical data warehouses. \n",
    "\n",
    "In particular, it shows that analysis pipelines suited to Real-World Data studies are complex and multistage. Consolidating the quality of preprocessing pipelines appears important to enhance the reliability of evidences produced on EHR data. This consolidation may be reached by opening the code of the analysis pipelines to review, and by developing and testing it collaboratively for instance as part of open source scientific libraries."
   ]
  },
  {
   "cell_type": "markdown",
   "metadata": {},
   "source": [
    "<a id=\"takeaways\"></a>\n",
    "# 4. Takeaways\n",
    "\n",
    "- **Real-World Data verifies the no pain, no gain** principle. Although data may appear simpler to collect than in a randomized controlled trial, reaching meaningful insights requires correcting numerous biases and applying important transformations to raw data.\n",
    "- **Administrative and claim data** comprises important information for research although its has not been collected for that purpose.\n",
    "- **The analysis pipelines required to analyse Real-World Data are complex** and rely on numerous transformations that progressively improve data quality and its suitability for research. Sharing the development of analysis pipelines among projects, for instance in scientific libraries, improves the overall efficiency and quality of research."
   ]
  },
  {
   "cell_type": "markdown",
   "metadata": {},
   "source": [
    "<a id=\"references\"></a>\n",
    "# 5. References\n",
    "\n",
    "- Kohane, Isaac S, Bruce J Aronow, Paul Avillach, Brett K Beaulieu-Jones, Riccardo Bellazzi, Robert L Bradford, Gabriel A Brat, et al. « What Every Reader Should Know About Studies Using Electronic Health Record Data but May Be Afraid to Ask ». Journal of Medical Internet Research 23, nᵒ 3 (2 mars 2021): e22219. https://doi.org/10.2196/22219.\n",
    "- Kaplan, E. L., et Paul Meier. « Nonparametric Estimation from Incomplete Observations ». Journal of the American Statistical Association 53, nᵒ 282 (1958): 457‑81. https://doi.org/10.2307/2281868.\n",
    "- Davidson-Pilon, Cameron. lifelines, survival analysis in Python. Zenodo, 2021. https://doi.org/10.5281/zenodo.5745573.\n",
    "- McCoy, Allison B, Adam Wright, Michael G Kahn, Jason S Shapiro, Elmer Victor Bernstam, et Dean F Sittig. « Matching Identifiers in Electronic Health Records: Implications for Duplicate Records and Patient Safety ». BMJ Quality & Safety 22, nᵒ 3 (mars 2013): 219‑24. https://doi.org/10.1136/bmjqs-2012-001419.\n",
    "- Wilson, Greg, D. A. Aruliah, C. Titus Brown, Neil P. Chue Hong, Matt Davis, Richard T. Guy, Steven H. D. Haddock, et al. « Best Practices for Scientific Computing ». Édité par Jonathan A. Eisen. PLoS Biology 12, nᵒ 1 (7 janvier 2014): e1001745. https://doi.org/10.1371/journal.pbio.1001745."
   ]
  }
 ],
 "metadata": {
  "kernelspec": {
   "display_name": "venv",
   "language": "python",
   "name": "python3"
  },
  "language_info": {
   "codemirror_mode": {
    "name": "ipython",
    "version": 3
   },
   "file_extension": ".py",
   "mimetype": "text/x-python",
   "name": "python",
   "nbconvert_exporter": "python",
   "pygments_lexer": "ipython3",
   "version": "3.13.1"
  }
 },
 "nbformat": 4,
 "nbformat_minor": 4
}
