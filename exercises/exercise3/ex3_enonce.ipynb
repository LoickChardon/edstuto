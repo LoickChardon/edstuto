{
 "cells": [
  {
   "attachments": {},
   "cell_type": "markdown",
   "metadata": {},
   "source": [
    "# Exercise 3: The complex temporality of real world data\n",
    "\n",
    "In this exercise we consider the complex temporality of real world data. An advantage of real world data compared to other sources of data is its rapid availability after collection. Clinical notes are for instance often available in a clinical data warehouse one day after their editions. Yet this strong advantage comes at a cost: the **heterogeneity of data temporalities**.\n",
    "\n",
    "We consider hereafter a statistical design that considers only data collected in a timespan $[t_{start}, t_{end}]$ and we evaluate the impact of data temporality on the choice of $t_{start}$ and $t_{end}$. As underlined in the previous exercises, data that is available in a clinical data data warehouse has been collected in various clinical softwares. Each software may feature a specific temporality, leading to an important heterogeneity. Hereafter, we consider the two following characteristics of data temporality:\n",
    "- **data timeliness** refers to the time needed to integrate data in the clinical data warehouse after the occurrence of the event of interest. If $t_{extract}$ refers to the date of data extraction from the clinical data warehouse for a study, and $\\Delta t_{timeliness}$ refers to the duration separating events from the full availability of their related data in a clinical data warehouse, one should limit the timespan of a study to the period before $t_{end} = t_{extract} - \\Delta t_{timeliness}$\n",
    "- **software deployment** refers to the fact that data may be available in a medical unit only if its associated clinical software has been deployed and used in this medical unit at the date of interest. The heterogeneity due to the software deployment is not only a heterogeneity relatively to the categories of data, but also relatively to the medical units, as the deployment of a clinical software may be realized progressively in a hospital. If one knows for each medical unit $i$ and a data category $cat$ the date $t^{(0)}_{cat}(i)$ of the software deployment, one can restrict the study to medical units $i$ such that $t^{(0)}_{cat}(i)<t_{start}$. This restriction makes it possible to consider a stable source of data throughout the period of the study.\n",
    "\n",
    "We illustrate now these challenges on our illustrative use case. As in exercise 1, we consider only structured data which timeliness parameters are known. We moreover assume that $t_{start}$ is set to the January 1st, 2022 by the investigator and that this date cannot be modified due to methodological issues.\n",
    "\n",
    "We initialize the notebook by importing the following libraries:"
   ]
  },
  {
   "cell_type": "code",
   "execution_count": 1,
   "metadata": {},
   "outputs": [
    {
     "data": {
      "text/plain": [
       "DataTransformerRegistry.enable('default')"
      ]
     },
     "execution_count": 1,
     "metadata": {},
     "output_type": "execute_result"
    }
   ],
   "source": [
    "import pandas as pd\n",
    "import numpy as np\n",
    "import altair as alt\n",
    "import datetime\n",
    "alt.data_transformers.enable('default', max_rows=None)"
   ]
  },
  {
   "cell_type": "code",
   "execution_count": 4,
   "metadata": {},
   "outputs": [],
   "source": [
    "import sys\n",
    "sys.path.append(\"../\")\n",
    "from viz import plot_primary_kaplan, plot_secondary_kaplan"
   ]
  },
  {
   "cell_type": "markdown",
   "metadata": {},
   "source": [
    "# 1. Data Exploration\n",
    "\n",
    "A fake dataset that mimics data coming from a clinical information system is made available in the */data* folder of this exercise.\n",
    "<br>For this study, data has been extracted from the Clinical Data Warehouse on December 1st, 2025.\n",
    "<br>The same data than in exercice 1 is imported\n",
    "\n",
    "## 1.1 Data extracted from the Clinical Data Warehouse\n",
    "\n",
    "Open the following files using the `pandas.read_pickle()` function : \n",
    "  - *data/df_person.pkl* as `df_person`\n",
    "  - *data/df_visit.pkl* as `df_visit`\n",
    "  - *data/df_condition.pkl* as `df_cond`\n",
    "  - *data/df_med.pkl* as `df_med`"
   ]
  },
  {
   "cell_type": "code",
   "execution_count": 5,
   "metadata": {},
   "outputs": [],
   "source": [
    "# Patients\n",
    "df_person = pd.read_pickle('data/df_person.pkl')\n",
    "# Visits\n",
    "df_visit = pd.read_pickle('data/df_visit.pkl')\n",
    "# Diagnosis (condition)\n",
    "df_cond = pd.read_pickle('data/df_condition.pkl')\n",
    "# Medication\n",
    "df_med = pd.read_pickle('data/df_med.pkl')"
   ]
  },
  {
   "cell_type": "markdown",
   "metadata": {},
   "source": [
    "## 1.2 A priori knowledge on data timeliness"
   ]
  },
  {
   "attachments": {},
   "cell_type": "markdown",
   "metadata": {},
   "source": [
    "We moreover assume that we have an a priori knowledge of the timeliness parameter $\\Delta t_{timeliness}$ of each data category:\n",
    "- $\\Delta t_{timeliness}^{(person)} = 1$ days\n",
    "- $\\Delta t_{timeliness}^{(visit)} = 5$ days \n",
    "- $\\Delta t_{timeliness}^{(cond)} = 45$ days\n",
    "- $\\Delta t_{timeliness}^{(med)} = 5$ day\n"
   ]
  },
  {
   "cell_type": "markdown",
   "metadata": {},
   "source": [
    "# 2. Exploration and pre-processing of the dataset\n",
    "\n",
    "We consider that the data cleaning presented in the exercise 1 has already been realized on the dataset. We now focus on the temporality issue.\n",
    "\n",
    "## 2.1 Adapting the study design to data timeliness\n",
    "\n",
    "Let's first set the end value of the study's timespan, $t_{end}$."
   ]
  },
  {
   "attachments": {},
   "cell_type": "markdown",
   "metadata": {},
   "source": [
    "**Reminder**: we assume data was extracted from the clinical data warehouse on t_{extract} = December 1, 2025.\n",
    "\n",
    "We should consider a sufficiently long delay $\\Delta t_{timeliness}$ between the extraction time and the end of the study in order to account for the timeliness of all the categories of data:\n",
    "\n",
    "$\\Delta t_{timeliness} = \\max \\big[\\Delta t_{timeliness}^{(person)}, \\Delta t_{timeliness}^{(visit)}, \\Delta t_{timeliness}^{(cond)}, \\Delta t_{timeliness}^{(med)} \\big]= 45$ days.\n",
    "\n",
    "We can consequently set the value of $t_{end}$ to $t_{extract} - \\Delta t_{timeliness}$"
   ]
  },
  {
   "cell_type": "code",
   "execution_count": 6,
   "metadata": {},
   "outputs": [],
   "source": [
    "t_max = pd.to_datetime('2025-12-01') - pd.Timedelta(days=45)\n",
    "\n",
    "df_visit_fix = df_visit[df_visit['visit_start_datetime']<t_max]"
   ]
  },
  {
   "cell_type": "code",
   "execution_count": 10,
   "metadata": {},
   "outputs": [
    {
     "data": {
      "text/html": [
       "<div>\n",
       "<style scoped>\n",
       "    .dataframe tbody tr th:only-of-type {\n",
       "        vertical-align: middle;\n",
       "    }\n",
       "\n",
       "    .dataframe tbody tr th {\n",
       "        vertical-align: top;\n",
       "    }\n",
       "\n",
       "    .dataframe thead th {\n",
       "        text-align: right;\n",
       "    }\n",
       "</style>\n",
       "<table border=\"1\" class=\"dataframe\">\n",
       "  <thead>\n",
       "    <tr style=\"text-align: right;\">\n",
       "      <th></th>\n",
       "      <th>visit_occurrence_id</th>\n",
       "      <th>care_site_id</th>\n",
       "      <th>visit_start_datetime</th>\n",
       "      <th>visit_end_datetime</th>\n",
       "      <th>person_id</th>\n",
       "      <th>visit_source_value</th>\n",
       "    </tr>\n",
       "  </thead>\n",
       "  <tbody>\n",
       "    <tr>\n",
       "      <th>0</th>\n",
       "      <td>88913218</td>\n",
       "      <td>Hopital M.Bres</td>\n",
       "      <td>2022-04-21</td>\n",
       "      <td>2022-05-03</td>\n",
       "      <td>87324706</td>\n",
       "      <td>Hospitalisés</td>\n",
       "    </tr>\n",
       "    <tr>\n",
       "      <th>1</th>\n",
       "      <td>88174301</td>\n",
       "      <td>Clinique L.Pasteur</td>\n",
       "      <td>2020-10-22</td>\n",
       "      <td>2020-11-03</td>\n",
       "      <td>85255978</td>\n",
       "      <td>Hospitalisés</td>\n",
       "    </tr>\n",
       "    <tr>\n",
       "      <th>2</th>\n",
       "      <td>88316991</td>\n",
       "      <td>Centre F.Sinoussi</td>\n",
       "      <td>2020-06-01</td>\n",
       "      <td>2020-06-03</td>\n",
       "      <td>83185617</td>\n",
       "      <td>Hospitalisés</td>\n",
       "    </tr>\n",
       "    <tr>\n",
       "      <th>3</th>\n",
       "      <td>87866357</td>\n",
       "      <td>Centre F.Sinoussi</td>\n",
       "      <td>2024-11-25</td>\n",
       "      <td>2024-11-29</td>\n",
       "      <td>85917852</td>\n",
       "      <td>Hospitalisés</td>\n",
       "    </tr>\n",
       "    <tr>\n",
       "      <th>4</th>\n",
       "      <td>88424334</td>\n",
       "      <td>Centre F.Sinoussi</td>\n",
       "      <td>2021-07-07</td>\n",
       "      <td>2021-07-20</td>\n",
       "      <td>82593121</td>\n",
       "      <td>Hospitalisés</td>\n",
       "    </tr>\n",
       "    <tr>\n",
       "      <th>...</th>\n",
       "      <td>...</td>\n",
       "      <td>...</td>\n",
       "      <td>...</td>\n",
       "      <td>...</td>\n",
       "      <td>...</td>\n",
       "      <td>...</td>\n",
       "    </tr>\n",
       "    <tr>\n",
       "      <th>3495</th>\n",
       "      <td>81580740</td>\n",
       "      <td>GHU A.Fleming</td>\n",
       "      <td>2024-08-04</td>\n",
       "      <td>2024-08-04</td>\n",
       "      <td>84990929</td>\n",
       "      <td>Hospitalisés</td>\n",
       "    </tr>\n",
       "    <tr>\n",
       "      <th>3496</th>\n",
       "      <td>89070024</td>\n",
       "      <td>Centre F.Sinoussi</td>\n",
       "      <td>2020-07-15</td>\n",
       "      <td>2020-08-02</td>\n",
       "      <td>88802872</td>\n",
       "      <td>Hospitalisés</td>\n",
       "    </tr>\n",
       "    <tr>\n",
       "      <th>3497</th>\n",
       "      <td>82677863</td>\n",
       "      <td>Clinique L.Pasteur</td>\n",
       "      <td>2021-08-01</td>\n",
       "      <td>2021-08-09</td>\n",
       "      <td>85029738</td>\n",
       "      <td>Hospitalisés</td>\n",
       "    </tr>\n",
       "    <tr>\n",
       "      <th>3498</th>\n",
       "      <td>81163542</td>\n",
       "      <td>Centre F.Sinoussi</td>\n",
       "      <td>2022-03-31</td>\n",
       "      <td>2022-04-03</td>\n",
       "      <td>83354722</td>\n",
       "      <td>Hospitalisés</td>\n",
       "    </tr>\n",
       "    <tr>\n",
       "      <th>3499</th>\n",
       "      <td>80582790</td>\n",
       "      <td>Centre F.Sinoussi</td>\n",
       "      <td>2020-01-13</td>\n",
       "      <td>2020-01-20</td>\n",
       "      <td>86393039</td>\n",
       "      <td>Hospitalisés</td>\n",
       "    </tr>\n",
       "  </tbody>\n",
       "</table>\n",
       "<p>58678 rows × 6 columns</p>\n",
       "</div>"
      ],
      "text/plain": [
       "      visit_occurrence_id        care_site_id visit_start_datetime  \\\n",
       "0                88913218      Hopital M.Bres           2022-04-21   \n",
       "1                88174301  Clinique L.Pasteur           2020-10-22   \n",
       "2                88316991   Centre F.Sinoussi           2020-06-01   \n",
       "3                87866357   Centre F.Sinoussi           2024-11-25   \n",
       "4                88424334   Centre F.Sinoussi           2021-07-07   \n",
       "...                   ...                 ...                  ...   \n",
       "3495             81580740       GHU A.Fleming           2024-08-04   \n",
       "3496             89070024   Centre F.Sinoussi           2020-07-15   \n",
       "3497             82677863  Clinique L.Pasteur           2021-08-01   \n",
       "3498             81163542   Centre F.Sinoussi           2022-03-31   \n",
       "3499             80582790   Centre F.Sinoussi           2020-01-13   \n",
       "\n",
       "     visit_end_datetime  person_id visit_source_value  \n",
       "0            2022-05-03   87324706       Hospitalisés  \n",
       "1            2020-11-03   85255978       Hospitalisés  \n",
       "2            2020-06-03   83185617       Hospitalisés  \n",
       "3            2024-11-29   85917852       Hospitalisés  \n",
       "4            2021-07-20   82593121       Hospitalisés  \n",
       "...                 ...        ...                ...  \n",
       "3495         2024-08-04   84990929       Hospitalisés  \n",
       "3496         2020-08-02   88802872       Hospitalisés  \n",
       "3497         2021-08-09   85029738       Hospitalisés  \n",
       "3498         2022-04-03   83354722       Hospitalisés  \n",
       "3499         2020-01-20   86393039       Hospitalisés  \n",
       "\n",
       "[58678 rows x 6 columns]"
      ]
     },
     "execution_count": 10,
     "metadata": {},
     "output_type": "execute_result"
    }
   ],
   "source": [
    "df_visit_fix"
   ]
  },
  {
   "cell_type": "markdown",
   "metadata": {},
   "source": [
    "## 2.2 Adapting the study design to the temporality of softwares' deployment\n",
    "\n",
    "For the sake of simplicity, we consider hereafter that the clinical softwares used to collect patients' identities, visits administrative information and medical conditions have been deployed long before the beginning of our study $t_{start}$. We focus therefore on the correction of the variability induced by the progressive deployment of the software used to collect medication data. We moreover assume that this software has been deployed per hospital (*i.e.* there is one $t^{(0)}_{med}$ per hospital).\n",
    "\n",
    "Let us first install the *eds-temporal-variability* library to benefit from its methods. This library has been developed to facilitate the handling of the software deployment temporality when considering data of the Greater Paris University Hospitals' Clinical Data Warehouse. Don't hesitate to read the library's documentation."
   ]
  },
  {
   "cell_type": "markdown",
   "metadata": {},
   "source": [
    "**Creation of a probe related to medicaton data**\n",
    "\n",
    "As explained in the library's documentation, EDS-TeVa is expecting to work with [Pandas](https://pandas.pydata.org/) or [Koalas](https://koalas.readthedocs.io/en/latest/) DataFrames.  We provide various connectors to facilitate data fetching, namely a **LocalData** connector which create a Data object based on a folder.\n"
   ]
  },
  {
   "cell_type": "code",
   "execution_count": 12,
   "metadata": {},
   "outputs": [
    {
     "ename": "ImportError",
     "evalue": "DLL load failed while importing lib: La procédure spécifiée est introuvable.",
     "output_type": "error",
     "traceback": [
      "\u001b[1;31m---------------------------------------------------------------------------\u001b[0m",
      "\u001b[1;31mImportError\u001b[0m                               Traceback (most recent call last)",
      "Cell \u001b[1;32mIn[12], line 1\u001b[0m\n\u001b[1;32m----> 1\u001b[0m \u001b[38;5;28;01mfrom\u001b[39;00m\u001b[38;5;250m \u001b[39m\u001b[38;5;21;01medsteva\u001b[39;00m\u001b[38;5;21;01m.\u001b[39;00m\u001b[38;5;21;01mio\u001b[39;00m\u001b[38;5;250m \u001b[39m\u001b[38;5;28;01mimport\u001b[39;00m LocalData\n\u001b[0;32m      3\u001b[0m data \u001b[38;5;241m=\u001b[39m LocalData(folder\u001b[38;5;241m=\u001b[39m\u001b[38;5;124m\"\u001b[39m\u001b[38;5;124mdata\u001b[39m\u001b[38;5;124m\"\u001b[39m)\n\u001b[0;32m      4\u001b[0m \u001b[38;5;28mprint\u001b[39m(data\u001b[38;5;241m.\u001b[39mavailable_tables)\n",
      "File \u001b[1;32mc:\\Users\\4240737\\AppData\\Local\\miniconda3\\envs\\py37\\Lib\\site-packages\\edsteva\\__init__.py:13\u001b[0m\n\u001b[0;32m     10\u001b[0m \u001b[38;5;28;01mfrom\u001b[39;00m\u001b[38;5;250m \u001b[39m\u001b[38;5;21;01mpathlib\u001b[39;00m\u001b[38;5;250m \u001b[39m\u001b[38;5;28;01mimport\u001b[39;00m Path\n\u001b[0;32m     11\u001b[0m \u001b[38;5;28;01mfrom\u001b[39;00m\u001b[38;5;250m \u001b[39m\u001b[38;5;21;01mtyping\u001b[39;00m\u001b[38;5;250m \u001b[39m\u001b[38;5;28;01mimport\u001b[39;00m List, Tuple\n\u001b[1;32m---> 13\u001b[0m \u001b[38;5;28;01mimport\u001b[39;00m\u001b[38;5;250m \u001b[39m\u001b[38;5;21;01mpyarrow\u001b[39;00m\n\u001b[0;32m     14\u001b[0m \u001b[38;5;28;01mimport\u001b[39;00m\u001b[38;5;250m \u001b[39m\u001b[38;5;21;01mpyspark\u001b[39;00m\n\u001b[0;32m     15\u001b[0m \u001b[38;5;28;01mfrom\u001b[39;00m\u001b[38;5;250m \u001b[39m\u001b[38;5;21;01mloguru\u001b[39;00m\u001b[38;5;250m \u001b[39m\u001b[38;5;28;01mimport\u001b[39;00m logger\n",
      "File \u001b[1;32mc:\\Users\\4240737\\AppData\\Local\\miniconda3\\envs\\py37\\Lib\\site-packages\\pyarrow\\__init__.py:65\u001b[0m\n\u001b[0;32m     63\u001b[0m _gc_enabled \u001b[38;5;241m=\u001b[39m _gc\u001b[38;5;241m.\u001b[39misenabled()\n\u001b[0;32m     64\u001b[0m _gc\u001b[38;5;241m.\u001b[39mdisable()\n\u001b[1;32m---> 65\u001b[0m \u001b[38;5;28;01mimport\u001b[39;00m\u001b[38;5;250m \u001b[39m\u001b[38;5;21;01mpyarrow\u001b[39;00m\u001b[38;5;21;01m.\u001b[39;00m\u001b[38;5;21;01mlib\u001b[39;00m\u001b[38;5;250m \u001b[39m\u001b[38;5;28;01mas\u001b[39;00m\u001b[38;5;250m \u001b[39m\u001b[38;5;21;01m_lib\u001b[39;00m\n\u001b[0;32m     66\u001b[0m \u001b[38;5;28;01mif\u001b[39;00m _gc_enabled:\n\u001b[0;32m     67\u001b[0m     _gc\u001b[38;5;241m.\u001b[39menable()\n",
      "\u001b[1;31mImportError\u001b[0m: DLL load failed while importing lib: La procédure spécifiée est introuvable."
     ]
    }
   ],
   "source": [
    "from edsteva.io import LocalData\n",
    "\n",
    "data = LocalData(folder=\"data\")\n",
    "print(data.available_tables)\n",
    "\n",
    "# Dataframes are attributes of the Data object:\n",
    "display(data.df_visit.head())\n"
   ]
  },
  {
   "cell_type": "markdown",
   "metadata": {},
   "source": [
    "Then, ona may define a probe per hospital to measure the variation of data availability in the clinical data warehouse."
   ]
  },
  {
   "cell_type": "code",
   "execution_count": null,
   "metadata": {},
   "outputs": [],
   "source": [
    "from edsteva.probes import BaseProbe\n",
    "\n",
    "# Definition of a new Probe class\n",
    "class VisitWithMed(BaseProbe):\n",
    "    def __init__(\n",
    "        self,\n",
    "    ):\n",
    "        self._index = ['care_site_id']\n",
    "        self._metrics = [\"c\", \"n_visit\"]\n",
    "        super().__init__(\n",
    "            index=self._index,\n",
    "        )\n",
    "\n",
    "    def compute_process(self, data, **kwargs):\n",
    "        #TODO\n",
    "        # df_probe is an aggregated DataFrame that should look like this:\n",
    "        \"\"\"\n",
    "        | care_site_id | date       | n_visit | c     |\n",
    "        | :----------- | :--------- | :------ | :---- |\n",
    "        | Hopital X    | 2019-05-01 | 233.0   | 0.841 |\n",
    "        | Hopital X    | 2021-04-01 | 393.0   | 0.640 |\n",
    "        | Hopital Y    | 2017-03-01 | 204.0   | 0.497 |\n",
    "        | Hopital Y    | 2018-08-01 | 22.0    | 0.274 |\n",
    "        | Hopital Y    | 2022-02-01 | 9746.0  | 0.769 |\n",
    "        \"\"\"\n",
    "        # Where n_visit is the number of visit per hospital per month\n",
    "        # Where c is the number of prescribed medics divided by the number of visit per month per hospital\n",
    "        return df_probe\n",
    "\n",
    "visit_with_med = VisitWithMed()\n",
    "visit_with_med.compute(data=data)\n",
    "visit_with_med.predictor.head()"
   ]
  },
  {
   "cell_type": "markdown",
   "metadata": {},
   "source": [
    "**Estimation of $t^{(0)}_{med}$ for each hospital**\n",
    "\n",
    "We consider now a simple fitting procedure, available in the *eds-temporal-variability* library to estimate $t^{(0)}_{med}$ for each hospital using the previously defined probe."
   ]
  },
  {
   "cell_type": "code",
   "execution_count": null,
   "metadata": {},
   "outputs": [],
   "source": [
    "from edsteva.models.step_function import StepFunction\n",
    "\n",
    "model = StepFunction()\n",
    "model.fit(probe=#TODO)\n",
    "model.estimates.head()"
   ]
  },
  {
   "cell_type": "markdown",
   "metadata": {},
   "source": [
    "We now visualize the estimates of the deployment dates for each hospital."
   ]
  },
  {
   "cell_type": "code",
   "execution_count": null,
   "metadata": {},
   "outputs": [],
   "source": [
    "from edsteva.viz.plots import probe_plot\n",
    "probe_plot(probe=#TODO,\n",
    "            fitted_model=#TODO)"
   ]
  },
  {
   "cell_type": "markdown",
   "metadata": {
    "tags": []
   },
   "source": [
    "For each care site, we can see a step-shaped data availability curve. The step is centered on a date that is probably the date of the software's deployment. Yet, data is also available before this date... this may be due for instance to the fact that some data collected in previous clinical softwares is imported in the new software when it is deployed. This imported data is of lower quality than data natively collected in the new software because old data is filtered before import using rules that are usually not available to researchers, thus inducing potential statistical biases."
   ]
  },
  {
   "cell_type": "markdown",
   "metadata": {},
   "source": [
    "**Filter data in order to correct for the deployment bias**\n",
    "\n",
    "We now filter data to keep only data originating from hospitals where the medication software was deployed before the beginning date of our study. "
   ]
  },
  {
   "cell_type": "code",
   "execution_count": null,
   "metadata": {},
   "outputs": [],
   "source": [
    "t_start = #TODO"
   ]
  },
  {
   "cell_type": "code",
   "execution_count": null,
   "metadata": {},
   "outputs": [],
   "source": [
    "list_taboo_hospital = []\n",
    "for _, row in model.estimates.iterrows():\n",
    "    if row['t_0'] > t_start:\n",
    "        list_taboo_hospital.append(row['care_site_id'])\n",
    "print('Hospitals which data is discarded: {}'.format(list_taboo_hospital))\n",
    "df_visit_fix = df_visit.query('care_site_id not in @list_taboo_hospital')"
   ]
  },
  {
   "cell_type": "markdown",
   "metadata": {},
   "source": [
    "We moreover filter visits that begin before $t_{start}$."
   ]
  },
  {
   "cell_type": "code",
   "execution_count": null,
   "metadata": {},
   "outputs": [],
   "source": [
    "df_visit_fix = #TODO"
   ]
  },
  {
   "cell_type": "markdown",
   "metadata": {},
   "source": [
    "# 3. Statistical analysis\n",
    "\n",
    "Now that we have pre-processed raw data to correct flawed or missing values and to define research-relevant variables, we can conduct the statistical analysis. We plot the Kaplan-Meier estimates of survival curves, and realize the log-rank tests. \n",
    "\n",
    "**Primary objective: are the drugs efficient on the total population?**\n",
    "\n",
    "**Remark**: the Kaplan-Meier plot functions admit as parameter the end date of the study `t_end`."
   ]
  },
  {
   "cell_type": "code",
   "execution_count": null,
   "metadata": {},
   "outputs": [],
   "source": [
    "plot_primary_kaplan(#TODO)"
   ]
  },
  {
   "cell_type": "markdown",
   "metadata": {},
   "source": [
    "The results are coherent with exercise 1.\n",
    "\n",
    "**Secondary objective: sub-population analysis**\n",
    "\n",
    "To reach our secondary objective, we now conduct the same statistical analysis on sub-populations that correspond to different sexes and ages to obtain a better insight on drugs efficiencies."
   ]
  },
  {
   "cell_type": "code",
   "execution_count": null,
   "metadata": {},
   "outputs": [],
   "source": [
    "plot_secondary_kaplan(#TODO)"
   ]
  },
  {
   "cell_type": "code",
   "execution_count": null,
   "metadata": {},
   "outputs": [],
   "source": [
    "plot_secondary_kaplan(#TODO)"
   ]
  },
  {
   "cell_type": "markdown",
   "metadata": {},
   "source": [
    "In this exercise we have introduced some difficulties related to handling the temporality of real world data. Using a simple example, we have shown how data temporality may impact the study design and how temporality parameters may be automatically computed using ad-hoc scientific libraries.\n",
    "\n",
    "In a real clinical data warehouse, this issue is much more complex due to the strong heterogeneity of the clinical information system. Better understanding the dynamics of the clinical information system appears necessary to conduct some studies on real world data : the expertise of the IT department may be leveraged therefore."
   ]
  },
  {
   "cell_type": "markdown",
   "metadata": {},
   "source": [
    "# 4. Takeaways\n",
    "\n",
    "- An important challenge regarding the analysis of real world data comes from the its **temporality**.\n",
    "- Data **timeliness** refers to the latency of data integration. It may be due to various effects all over the data collection and curation workflows.\n",
    "- Moreover the constant **evolution of the clinical information system** (deployments of new softwares, etc.) leads to an heterogeneous availability in time and space of data collected in a hospital. It therefore appears necessary to correct this **software deployment bias** in the study's design."
   ]
  },
  {
   "cell_type": "markdown",
   "metadata": {},
   "source": [
    "# 5. References\n",
    "\n",
    "- Weiskopf, N. G., et C. Weng. « Methods and Dimensions of Electronic Health Record Data Quality Assessment: Enabling Reuse for Clinical Research ». Journal of the American Medical Informatics Association 20, nᵒ 1 (1 janvier 2013): 144‑51. https://doi.org/10.1136/amiajnl-2011-000681.\n",
    "- Finlayson, Samuel G., Adarsh Subbaswamy, Karandeep Singh, John Bowers, Annabel Kupke, Jonathan Zittrain, Isaac S. Kohane, et Suchi Saria. « The Clinician and Dataset Shift in Artificial Intelligence ». New England Journal of Medicine 385, nᵒ 3 (15 juillet 2021): 283‑86. https://doi.org/10.1056/NEJMc2104626.\n",
    "- Sáez, Carlos, Alba Gutiérrez-Sacristán, Isaac Kohane, Juan M García-Gómez, et Paul Avillach. « EHRtemporalVariability: Delineating Temporal Data-Set Shifts in Electronic Health Records ». GigaScience 9, nᵒ 8 (1 août 2020): giaa079. https://doi.org/10.1093/gigascience/giaa079.\n"
   ]
  }
 ],
 "metadata": {
  "kernelspec": {
   "display_name": "py37",
   "language": "python",
   "name": "python3"
  },
  "language_info": {
   "codemirror_mode": {
    "name": "ipython",
    "version": 3
   },
   "file_extension": ".py",
   "mimetype": "text/x-python",
   "name": "python",
   "nbconvert_exporter": "python",
   "pygments_lexer": "ipython3",
   "version": "3.7.16"
  }
 },
 "nbformat": 4,
 "nbformat_minor": 4
}
